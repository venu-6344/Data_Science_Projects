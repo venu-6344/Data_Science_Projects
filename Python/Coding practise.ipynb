{
 "cells": [
  {
   "cell_type": "code",
   "execution_count": 1,
   "id": "a09a381e",
   "metadata": {},
   "outputs": [
    {
     "name": "stdout",
     "output_type": "stream",
     "text": [
      "\n",
      "System is a little endian\n"
     ]
    }
   ],
   "source": [
    "# Write a Python program to test whether the system is a big-endian platform or a little-endian platform.\n",
    "\n",
    "import sys\n",
    "print()\n",
    "if sys.byteorder == 'little':\n",
    "    print('System is a little endian')\n",
    "else:\n",
    "    print('System is big endian')\n"
   ]
  },
  {
   "cell_type": "code",
   "execution_count": 2,
   "id": "4692d2cc",
   "metadata": {},
   "outputs": [
    {
     "data": {
      "text/plain": [
       "['__breakpointhook__',\n",
       " '__displayhook__',\n",
       " '__doc__',\n",
       " '__excepthook__',\n",
       " '__interactivehook__',\n",
       " '__loader__',\n",
       " '__name__',\n",
       " '__package__',\n",
       " '__spec__',\n",
       " '__stderr__',\n",
       " '__stdin__',\n",
       " '__stdout__',\n",
       " '__unraisablehook__',\n",
       " '_base_executable',\n",
       " '_clear_type_cache',\n",
       " '_current_exceptions',\n",
       " '_current_frames',\n",
       " '_debugmallocstats',\n",
       " '_enablelegacywindowsfsencoding',\n",
       " '_framework',\n",
       " '_getframe',\n",
       " '_getquickenedcount',\n",
       " '_git',\n",
       " '_home',\n",
       " '_stdlib_dir',\n",
       " '_vpath',\n",
       " '_xoptions',\n",
       " 'addaudithook',\n",
       " 'api_version',\n",
       " 'argv',\n",
       " 'audit',\n",
       " 'base_exec_prefix',\n",
       " 'base_prefix',\n",
       " 'breakpointhook',\n",
       " 'builtin_module_names',\n",
       " 'byteorder',\n",
       " 'call_tracing',\n",
       " 'copyright',\n",
       " 'displayhook',\n",
       " 'dllhandle',\n",
       " 'dont_write_bytecode',\n",
       " 'exc_info',\n",
       " 'excepthook',\n",
       " 'exception',\n",
       " 'exec_prefix',\n",
       " 'executable',\n",
       " 'exit',\n",
       " 'flags',\n",
       " 'float_info',\n",
       " 'float_repr_style',\n",
       " 'get_asyncgen_hooks',\n",
       " 'get_coroutine_origin_tracking_depth',\n",
       " 'get_int_max_str_digits',\n",
       " 'getallocatedblocks',\n",
       " 'getdefaultencoding',\n",
       " 'getfilesystemencodeerrors',\n",
       " 'getfilesystemencoding',\n",
       " 'getprofile',\n",
       " 'getrecursionlimit',\n",
       " 'getrefcount',\n",
       " 'getsizeof',\n",
       " 'getswitchinterval',\n",
       " 'gettrace',\n",
       " 'getwindowsversion',\n",
       " 'hash_info',\n",
       " 'hexversion',\n",
       " 'implementation',\n",
       " 'int_info',\n",
       " 'intern',\n",
       " 'is_finalizing',\n",
       " 'maxsize',\n",
       " 'maxunicode',\n",
       " 'meta_path',\n",
       " 'modules',\n",
       " 'orig_argv',\n",
       " 'path',\n",
       " 'path_hooks',\n",
       " 'path_importer_cache',\n",
       " 'platform',\n",
       " 'platlibdir',\n",
       " 'prefix',\n",
       " 'ps1',\n",
       " 'ps2',\n",
       " 'ps3',\n",
       " 'pycache_prefix',\n",
       " 'set_asyncgen_hooks',\n",
       " 'set_coroutine_origin_tracking_depth',\n",
       " 'set_int_max_str_digits',\n",
       " 'setprofile',\n",
       " 'setrecursionlimit',\n",
       " 'setswitchinterval',\n",
       " 'settrace',\n",
       " 'stderr',\n",
       " 'stdin',\n",
       " 'stdlib_module_names',\n",
       " 'stdout',\n",
       " 'thread_info',\n",
       " 'unraisablehook',\n",
       " 'version',\n",
       " 'version_info',\n",
       " 'warnoptions',\n",
       " 'winver']"
      ]
     },
     "execution_count": 2,
     "metadata": {},
     "output_type": "execute_result"
    }
   ],
   "source": [
    "# Write a Python program to find the available built-in modules\n",
    "\n",
    "dir(sys)"
   ]
  },
  {
   "cell_type": "code",
   "execution_count": 3,
   "id": "ed95d4f6",
   "metadata": {},
   "outputs": [
    {
     "name": "stdout",
     "output_type": "stream",
     "text": [
      "\n",
      "True\n",
      "\n",
      "False\n"
     ]
    }
   ],
   "source": [
    "# Write a Python program to test whether all numbers in a list are greater than a certain number.\n",
    "\n",
    "num  = [2,4,6,3,6,9]\n",
    "print()\n",
    "print(all(x>1 for x in num))\n",
    "print()\n",
    "print(all(x>6 for x in num))"
   ]
  },
  {
   "cell_type": "code",
   "execution_count": 4,
   "id": "5d9b3f28",
   "metadata": {},
   "outputs": [
    {
     "name": "stdout",
     "output_type": "stream",
     "text": [
      "\n",
      " 30+20 = 50\n"
     ]
    }
   ],
   "source": [
    "# Given variables x=30 and y=20, write a Python program to print \"30+20=50\".\n",
    "\n",
    "x = 30\n",
    "y = 20\n",
    "result = ('\\n %d+%d = %d' %(x, y, x+y))\n",
    "print(result)"
   ]
  },
  {
   "cell_type": "code",
   "execution_count": 5,
   "id": "250891d2",
   "metadata": {},
   "outputs": [
    {
     "name": "stdout",
     "output_type": "stream",
     "text": [
      "First day of a Month!\n",
      "\n"
     ]
    }
   ],
   "source": [
    "# Given a variable name, if the value is 1, display the string \"First day of a Month!\" and do nothing if the value is not equal.\n",
    "x = 1\n",
    "if x == 1:\n",
    "    print(\"First day of a Month!\")\n",
    "print()"
   ]
  },
  {
   "cell_type": "code",
   "execution_count": 6,
   "id": "c964476b",
   "metadata": {},
   "outputs": [
    {
     "name": "stdout",
     "output_type": "stream",
     "text": [
      "Variables before swap 10 and 20 \n",
      "Variables after swap 20 and 10 \n"
     ]
    }
   ],
   "source": [
    "# Write a Python program to swap two variables.\n",
    "a = 10\n",
    "b = 20\n",
    "print('Variables before swap %d and %d ' %(a, b))\n",
    "\n",
    "a, b = b, a\n",
    "print('Variables after swap %d and %d ' %(a, b))\n"
   ]
  },
  {
   "cell_type": "code",
   "execution_count": 7,
   "id": "f1da8a46",
   "metadata": {},
   "outputs": [
    {
     "name": "stdout",
     "output_type": "stream",
     "text": [
      "\n",
      "Convert the bytes of given string to list\n",
      "[65, 98, 99]\n"
     ]
    }
   ],
   "source": [
    "# Write a Python program to convert the bytes in a given string to a list of integers.\n",
    "\n",
    "x = b'Abc'\n",
    "print()\n",
    "print('Convert the bytes of given string to list')\n",
    "print(list(x))"
   ]
  },
  {
   "cell_type": "code",
   "execution_count": 2,
   "id": "bd8c9030",
   "metadata": {},
   "outputs": [
    {
     "name": "stdout",
     "output_type": "stream",
     "text": [
      "7\n",
      "9\n",
      "2\n"
     ]
    }
   ],
   "source": [
    "# Write a program to find the absolute difference of two numbers and print the same\n",
    "\n",
    "a = int(input())\n",
    "b = int(input())\n",
    "\n",
    "dif = a - b\n",
    "\n",
    "sqa = dif**2\n",
    "srt = sqa**0.5\n",
    "print(int(srt))"
   ]
  },
  {
   "cell_type": "code",
   "execution_count": 5,
   "id": "4f41eba8",
   "metadata": {},
   "outputs": [
    {
     "name": "stdout",
     "output_type": "stream",
     "text": [
      "python\n",
      "2\n",
      "5\n",
      "thonthon\n"
     ]
    }
   ],
   "source": [
    "# You are given a string and two non negetive integers as input. The two integers specify the start and end\n",
    "# indices of a substring in the given string. Create a new string by replicating the substring minimum number of times \n",
    "# so that the resultant string is longer than the input string.\n",
    "# The input parameters are string, start index and end index in separate lines.\n",
    "\n",
    "str = input()\n",
    "a = int(input())\n",
    "b = int(input())\n",
    "\n",
    "substr = str[a: (b+1)]\n",
    "\n",
    "k = len(str)/len(substr)\n",
    "\n",
    "print(substr * int(k+1))"
   ]
  },
  {
   "cell_type": "code",
   "execution_count": 13,
   "id": "e2811689",
   "metadata": {},
   "outputs": [
    {
     "name": "stdout",
     "output_type": "stream",
     "text": [
      "2\n",
      "The result is 2.41\n"
     ]
    }
   ],
   "source": [
    "x = int(input())\n",
    "\n",
    "# cfrac = (x + (1 / x + (x + (1 / x + (x + (1 / x + (x + (1 / x + (x + (1 / x))))))))))\n",
    "\n",
    "c_1 = x\n",
    "c_2 = x + 1/c_1\n",
    "c_3 = x + 1/c_2\n",
    "c_4 = x + 1/c_3\n",
    "c_5 = x + 1/c_4\n",
    "cfrac = x + 1/c_5\n",
    "\n",
    "print('The result is %.2f' %cfrac)"
   ]
  },
  {
   "cell_type": "code",
   "execution_count": null,
   "id": "8fd396f7",
   "metadata": {},
   "outputs": [],
   "source": []
  },
  {
   "cell_type": "code",
   "execution_count": null,
   "id": "5d3c1551",
   "metadata": {},
   "outputs": [],
   "source": []
  },
  {
   "cell_type": "code",
   "execution_count": null,
   "id": "ce2e7553",
   "metadata": {},
   "outputs": [],
   "source": []
  },
  {
   "cell_type": "code",
   "execution_count": null,
   "id": "99fc1d15",
   "metadata": {},
   "outputs": [],
   "source": []
  },
  {
   "cell_type": "code",
   "execution_count": null,
   "id": "8e8f9717",
   "metadata": {},
   "outputs": [],
   "source": []
  },
  {
   "cell_type": "code",
   "execution_count": null,
   "id": "fbc20857",
   "metadata": {},
   "outputs": [],
   "source": []
  },
  {
   "cell_type": "code",
   "execution_count": null,
   "id": "cff9ca01",
   "metadata": {},
   "outputs": [],
   "source": []
  },
  {
   "cell_type": "code",
   "execution_count": 8,
   "id": "81300b32",
   "metadata": {},
   "outputs": [
    {
     "name": "stdout",
     "output_type": "stream",
     "text": [
      "Enter a list : [12,30, 43, 60, 75]\n"
     ]
    },
    {
     "data": {
      "text/plain": [
       "[30, 60, 75]"
      ]
     },
     "execution_count": 8,
     "metadata": {},
     "output_type": "execute_result"
    }
   ],
   "source": [
    "# Write a Python program to get numbers divisible by fifteen from a list using an anonymous function.\n",
    "\n",
    "lst = eval(input('Enter a list : '))\n",
    "lst1 = [x for x in lst if x % 15 == 0]\n",
    "lst1"
   ]
  },
  {
   "cell_type": "code",
   "execution_count": 9,
   "id": "32c3b16d",
   "metadata": {},
   "outputs": [
    {
     "name": "stdout",
     "output_type": "stream",
     "text": [
      "Enter a list : [12,30, 43, 60, 75]\n",
      "List before removing the iterm\n",
      "[12, 30, 43, 60, 75]\n",
      "list after removing the first item : \n",
      "[30, 43, 60, 75]\n"
     ]
    }
   ],
   "source": [
    "# Write a Python program to remove the first item from a specified list.\n",
    "\n",
    "lst = eval(input('Enter a list : '))\n",
    "\n",
    "# sol-1\n",
    "# print('List before removing the iterm')\n",
    "# print(lst)\n",
    "# del(lst[0])\n",
    "# print('list after removing the first item : ')\n",
    "# print(lst)\n",
    "\n",
    "# sol-2\n",
    "# print('List before removing the iterm')\n",
    "# print(lst)\n",
    "# lst1 = lst[1:]\n",
    "# print('list after removing the first item : ')\n",
    "# print(lst1)\n",
    "\n",
    "# sol-3\n",
    "print('List before removing the iterm')\n",
    "print(lst)\n",
    "lst.pop(0)\n",
    "print('list after removing the first item : ')\n",
    "print(lst)"
   ]
  },
  {
   "cell_type": "code",
   "execution_count": 10,
   "id": "c099cc0a",
   "metadata": {},
   "outputs": [
    {
     "ename": "KeyboardInterrupt",
     "evalue": "Interrupted by user",
     "output_type": "error",
     "traceback": [
      "\u001b[1;31m---------------------------------------------------------------------------\u001b[0m",
      "\u001b[1;31mKeyboardInterrupt\u001b[0m                         Traceback (most recent call last)",
      "Cell \u001b[1;32mIn[10], line 4\u001b[0m\n\u001b[0;32m      1\u001b[0m \u001b[38;5;66;03m# Write a Python program that inputs a number and generates an error message if it is not a number.\u001b[39;00m\n\u001b[0;32m      3\u001b[0m \u001b[38;5;28;01mtry\u001b[39;00m:\n\u001b[1;32m----> 4\u001b[0m     a \u001b[38;5;241m=\u001b[39m \u001b[38;5;28mint\u001b[39m(\u001b[38;5;28minput\u001b[39m(\u001b[38;5;124m'\u001b[39m\u001b[38;5;124mEnter a number : \u001b[39m\u001b[38;5;124m'\u001b[39m))\n\u001b[0;32m      5\u001b[0m     \u001b[38;5;28mprint\u001b[39m(a)\n\u001b[0;32m      6\u001b[0m \u001b[38;5;28;01mexcept\u001b[39;00m \u001b[38;5;167;01mValueError\u001b[39;00m:\n",
      "File \u001b[1;32m~\\anaconda3\\Lib\\site-packages\\ipykernel\\kernelbase.py:1175\u001b[0m, in \u001b[0;36mKernel.raw_input\u001b[1;34m(self, prompt)\u001b[0m\n\u001b[0;32m   1171\u001b[0m \u001b[38;5;28;01mif\u001b[39;00m \u001b[38;5;129;01mnot\u001b[39;00m \u001b[38;5;28mself\u001b[39m\u001b[38;5;241m.\u001b[39m_allow_stdin:\n\u001b[0;32m   1172\u001b[0m     \u001b[38;5;28;01mraise\u001b[39;00m StdinNotImplementedError(\n\u001b[0;32m   1173\u001b[0m         \u001b[38;5;124m\"\u001b[39m\u001b[38;5;124mraw_input was called, but this frontend does not support input requests.\u001b[39m\u001b[38;5;124m\"\u001b[39m\n\u001b[0;32m   1174\u001b[0m     )\n\u001b[1;32m-> 1175\u001b[0m \u001b[38;5;28;01mreturn\u001b[39;00m \u001b[38;5;28mself\u001b[39m\u001b[38;5;241m.\u001b[39m_input_request(\n\u001b[0;32m   1176\u001b[0m     \u001b[38;5;28mstr\u001b[39m(prompt),\n\u001b[0;32m   1177\u001b[0m     \u001b[38;5;28mself\u001b[39m\u001b[38;5;241m.\u001b[39m_parent_ident[\u001b[38;5;124m\"\u001b[39m\u001b[38;5;124mshell\u001b[39m\u001b[38;5;124m\"\u001b[39m],\n\u001b[0;32m   1178\u001b[0m     \u001b[38;5;28mself\u001b[39m\u001b[38;5;241m.\u001b[39mget_parent(\u001b[38;5;124m\"\u001b[39m\u001b[38;5;124mshell\u001b[39m\u001b[38;5;124m\"\u001b[39m),\n\u001b[0;32m   1179\u001b[0m     password\u001b[38;5;241m=\u001b[39m\u001b[38;5;28;01mFalse\u001b[39;00m,\n\u001b[0;32m   1180\u001b[0m )\n",
      "File \u001b[1;32m~\\anaconda3\\Lib\\site-packages\\ipykernel\\kernelbase.py:1217\u001b[0m, in \u001b[0;36mKernel._input_request\u001b[1;34m(self, prompt, ident, parent, password)\u001b[0m\n\u001b[0;32m   1214\u001b[0m             \u001b[38;5;28;01mbreak\u001b[39;00m\n\u001b[0;32m   1215\u001b[0m \u001b[38;5;28;01mexcept\u001b[39;00m \u001b[38;5;167;01mKeyboardInterrupt\u001b[39;00m:\n\u001b[0;32m   1216\u001b[0m     \u001b[38;5;66;03m# re-raise KeyboardInterrupt, to truncate traceback\u001b[39;00m\n\u001b[1;32m-> 1217\u001b[0m     \u001b[38;5;28;01mraise\u001b[39;00m \u001b[38;5;167;01mKeyboardInterrupt\u001b[39;00m(\u001b[38;5;124m\"\u001b[39m\u001b[38;5;124mInterrupted by user\u001b[39m\u001b[38;5;124m\"\u001b[39m) \u001b[38;5;28;01mfrom\u001b[39;00m \u001b[38;5;28;01mNone\u001b[39;00m\n\u001b[0;32m   1218\u001b[0m \u001b[38;5;28;01mexcept\u001b[39;00m \u001b[38;5;167;01mException\u001b[39;00m:\n\u001b[0;32m   1219\u001b[0m     \u001b[38;5;28mself\u001b[39m\u001b[38;5;241m.\u001b[39mlog\u001b[38;5;241m.\u001b[39mwarning(\u001b[38;5;124m\"\u001b[39m\u001b[38;5;124mInvalid Message:\u001b[39m\u001b[38;5;124m\"\u001b[39m, exc_info\u001b[38;5;241m=\u001b[39m\u001b[38;5;28;01mTrue\u001b[39;00m)\n",
      "\u001b[1;31mKeyboardInterrupt\u001b[0m: Interrupted by user"
     ]
    }
   ],
   "source": [
    "# Write a Python program that inputs a number and generates an error message if it is not a number.\n",
    "\n",
    "try:\n",
    "    a = int(input('Enter a number : '))\n",
    "    print(a)\n",
    "except ValueError:\n",
    "    print('\\n This is not a number. Try again')\n",
    "    print()"
   ]
  },
  {
   "cell_type": "code",
   "execution_count": null,
   "id": "1e882d41",
   "metadata": {},
   "outputs": [],
   "source": [
    "# Write a Python program to filter positive numbers from a list.\n",
    "nums = eval(input('Enter a list : '))\n",
    "print('List before filtering : ')\n",
    "print(nums)\n",
    "nums1 = list(filter(lambda x: x >= 0, nums))\n",
    "print('List after filtering : ')\n",
    "print(nums1)"
   ]
  },
  {
   "cell_type": "code",
   "execution_count": null,
   "id": "68b91385",
   "metadata": {},
   "outputs": [],
   "source": [
    "# Write a Python program to compute the product of a list of integers (without using a for loop).\n",
    "from functools import reduce\n",
    "nums = [10,20,30,23,45]\n",
    "product = reduce((lambda x, y: x * y), nums)\n",
    "print(f'The product of the integers given in list {nums} is : ', product)"
   ]
  },
  {
   "cell_type": "code",
   "execution_count": null,
   "id": "f5bbe222",
   "metadata": {},
   "outputs": [],
   "source": [
    "# Write a Python program to prove that two string variables of the same value point to the same memory location.\n",
    "str1 = 'python'\n",
    "str2 = 'python'\n",
    "print('Memory location of str1 is : ', id(str1))\n",
    "print('Memory location of str2 is : ', id(str2))\n",
    "if id(str1) == id(str2):\n",
    "    print('Two string variables of same value point to same memory location')"
   ]
  },
  {
   "cell_type": "code",
   "execution_count": null,
   "id": "91f5e217",
   "metadata": {},
   "outputs": [],
   "source": [
    "# Write a Python program to round a floating-point number to a specified number of decimal places.\n",
    "num = 234.6754\n",
    "print('The float number upto 3 digits after decimal is %.3f' %num)\n",
    "print('The float number upto 3 digits after decimal is %.2f' %num)\n",
    "print('The float number upto 3 digits after decimal is %.6f' %num)"
   ]
  },
  {
   "cell_type": "code",
   "execution_count": null,
   "id": "0a2d4428",
   "metadata": {},
   "outputs": [],
   "source": [
    "# Write a Python program to format a specified string and limit the length of a string\n",
    "\n",
    "str = 'This is python class'\n",
    "print('%.6s' %str)\n",
    "print('%.14s' %str)\n",
    "print('%.10s' %str)"
   ]
  },
  {
   "cell_type": "code",
   "execution_count": null,
   "id": "321354e5",
   "metadata": {},
   "outputs": [],
   "source": [
    "# Write a Python program to determine if a variable is defined or not.\n",
    "try:\n",
    "    num = 1\n",
    "except NameError:\n",
    "    print('Variable is not defined')\n",
    "else:\n",
    "    print('Variable is defined')\n",
    "\n",
    "try:\n",
    "    y\n",
    "except NameError:\n",
    "    print('Variable is not defined')\n",
    "else:\n",
    "    print('Variable is defined')\n",
    "    "
   ]
  },
  {
   "cell_type": "code",
   "execution_count": null,
   "id": "1da96466",
   "metadata": {},
   "outputs": [],
   "source": [
    "# Write a Python program to empty a variable without destroying it.\n",
    "\n",
    "# type() returns the type of an object, which when called produces an 'empty' new value.\n",
    "\n",
    "# Sample data: n=20\n",
    "# d = {\"x\":200}\n",
    "# Expected Output: 0\n",
    "# {}\n",
    "\n",
    "# Sample data: \n",
    "n=20\n",
    "d = {\"x\":200}\n",
    "print(type(n)())\n",
    "print(type(d)())\n",
    "\n"
   ]
  },
  {
   "cell_type": "code",
   "execution_count": null,
   "id": "dea97ade",
   "metadata": {},
   "outputs": [],
   "source": [
    "import math\n",
    "math.isfinite(float('345'))"
   ]
  },
  {
   "cell_type": "code",
   "execution_count": null,
   "id": "349ddbcf",
   "metadata": {},
   "outputs": [],
   "source": [
    "# Write a Python program to convert an integer to binary that keeps leading zeros.\n",
    "# Sample data : x=12\n",
    "# Expected output : 00001100\n",
    "# 0000001100\n",
    "\n",
    "x = 12\n",
    "print(format(x, '08b'))\n",
    "print(format(x, '010b'))"
   ]
  },
  {
   "cell_type": "code",
   "execution_count": null,
   "id": "4565d8a9",
   "metadata": {},
   "outputs": [],
   "source": [
    "# Write a python program to convert decimal to hexadecimal.\n",
    "# Sample decimal number: 30, 4\n",
    "# Expected output: 1e, 04\n",
    "\n",
    "x = 30\n",
    "\n",
    "print(format(x, '02x'))\n",
    "y = 4\n",
    "print(format(y, '02x'))"
   ]
  },
  {
   "cell_type": "code",
   "execution_count": null,
   "id": "5e67d73b",
   "metadata": {},
   "outputs": [],
   "source": [
    "# Write a Python function to find the maximum and minimum numbers from a sequence of numbers.\n",
    "# Note: Do not use built-in functions.\n",
    "\n",
    "def max_min(x):\n",
    "    max = x[0]\n",
    "    min = x[0]\n",
    "    for i in x:\n",
    "        if i > max:\n",
    "            max = i\n",
    "        elif i < min:\n",
    "            min = i\n",
    "    return max, min\n",
    "\n",
    "print(max_min([2,3,7,4,9,12,5,4]))"
   ]
  },
  {
   "cell_type": "code",
   "execution_count": null,
   "id": "a490720a",
   "metadata": {},
   "outputs": [],
   "source": [
    "# Write a Python function that takes a positive integer and returns the sum of the cube of all positive integers smaller than the specified number.\n",
    "n = int(input('Enter a positive integer : '))\n",
    "sum = 0\n",
    "while n > 0:\n",
    "    sum = sum + (n-1)**3\n",
    "    n = n-1\n",
    "print(sum)\n",
    "    "
   ]
  },
  {
   "cell_type": "code",
   "execution_count": null,
   "id": "50a1ec87",
   "metadata": {},
   "outputs": [],
   "source": [
    "# Write a Python function to check whether a distinct pair of numbers whose product is odd is present in a sequence of integer values.\n"
   ]
  },
  {
   "cell_type": "code",
   "execution_count": null,
   "id": "b5820b04",
   "metadata": {},
   "outputs": [],
   "source": [
    "# Write a Python program to find those numbers which are divisible by 7 and multiples of 5, between 1500 and 2700 (both included).\n",
    "num = int(input('Enter a number : '))\n",
    "if num >= 1500 and num <= 2700:\n",
    "    if num % 5 == 0 and num % 7 == 0:\n",
    "        print('the number is divisible by 7 and multiples of 5')\n",
    "    else:\n",
    "        print('The number is not divisible by 7 and not multiple of 5')\n",
    "else:\n",
    "    print('The number is not between 1500 and 2700')"
   ]
  },
  {
   "cell_type": "code",
   "execution_count": null,
   "id": "71dce65b",
   "metadata": {},
   "outputs": [],
   "source": [
    "# Write a Python program to convert temperatures to and from Celsius and Fahrenheit.\n",
    "# [ Formula : c/5 = f-32/9 [ where c = temperature in celsius and f = temperature in fahrenheit ]\n",
    "# Expected Output :\n",
    "# 60°C is 140 in Fahrenheit\n",
    "# 45°F is 7 in Celsius\n",
    "\n",
    "temp_c = float(input('Enter temperature in celsius : '))\n",
    "temp_fh = float(input('Enter temperature in fahrenheit : '))\n",
    "temp_fh1 = ((temp_c * 9)/5) + 32\n",
    "temp_c1 = ((temp_fh - 32)/9)*5\n",
    "\n",
    "print(f'The celsius equivalent of {temp_fh} farhenheit is : ', temp_c1)\n",
    "print(f'The fahrenheit equivalent of {temp_c} celsius is : ', temp_fh1)\n",
    "                "
   ]
  },
  {
   "cell_type": "code",
   "execution_count": null,
   "id": "5b161c3f",
   "metadata": {},
   "outputs": [],
   "source": [
    "# Write a Python program to guess a number between 1 and 9.\n",
    "\n",
    "# Note : User is prompted to enter a guess. If the user guesses wrong then the prompt appears again until the guess is correct, on successful guess, user will get a \"Well guessed!\" message, and the program will exit.\n",
    "\n",
    "import random\n",
    "target_num, guess_num = random.randint(1, 10), 0\n",
    "\n",
    "while target_num != guess_num:\n",
    "    guess_num = int(input('Enter a number between 1 to 10 until you guess right : '))\n",
    "print('You guessed right')"
   ]
  },
  {
   "cell_type": "code",
   "execution_count": null,
   "id": "df133b66",
   "metadata": {},
   "outputs": [],
   "source": [
    "# Write a Python program to construct the following pattern, using a nested for loop.\n",
    "\n",
    "# * \n",
    "# * * \n",
    "# * * * \n",
    "# * * * * \n",
    "# * * * * * \n",
    "# * * * * \n",
    "# * * * \n",
    "# * * \n",
    "# *\n",
    "\n",
    "n = 5\n",
    "for i in range(n):\n",
    "    for j in range(i):\n",
    "        print('* ', end = '')\n",
    "    print(' ')\n",
    "for i in range(n, 0, -1):\n",
    "    for j in range(i):\n",
    "        print('* ', end = '')\n",
    "    print(' ')"
   ]
  },
  {
   "cell_type": "code",
   "execution_count": null,
   "id": "597a5d16",
   "metadata": {},
   "outputs": [],
   "source": [
    "# Write a Python program that accepts a word from the user and reverses it.\n",
    "\n",
    "my_str = input('Enter a word : ')\n",
    "# lst1 = my_str.split()\n",
    "# print(lst1)\n",
    "# lst = []\n",
    "\n",
    "# for i in lst1:\n",
    "#     lst.append(lst1[::-1])\n",
    "# # print(word[::-1])\n",
    "\n",
    "for char in range(len(my_str)-1, -1, -1):\n",
    "    print(my_str[char], end = '')\n",
    "print('\\n')"
   ]
  },
  {
   "cell_type": "code",
   "execution_count": null,
   "id": "d4b8edf5",
   "metadata": {},
   "outputs": [],
   "source": [
    "# Write a Python program to count the number of even and odd numbers in a series of numbers\n",
    "# Sample numbers : numbers = (1, 2, 3, 4, 5, 6, 7, 8, 9) \n",
    "# Expected Output :\n",
    "# Number of even numbers : 5\n",
    "# Number of odd numbers : 4\n",
    "\n",
    "numbers = (1, 2, 3, 4, 5, 6, 7, 8, 9) \n",
    "e_count = 0\n",
    "o_count = 0\n",
    "for i in numbers:\n",
    "    if i % 2 == 0:\n",
    "        e_count += 1\n",
    "    else:\n",
    "        o_count += 1\n",
    "print('Number of even numbers : ', e_count)\n",
    "print('Number of odd numbers : ', o_count)"
   ]
  },
  {
   "cell_type": "code",
   "execution_count": null,
   "id": "b015b7fc",
   "metadata": {},
   "outputs": [],
   "source": [
    "# Write a Python program that prints each item and its corresponding type from the following list.\n",
    "datalist = [1452, 11.23, 1+2j, True, 'w3resource', (0, -1), [5, 12], {\"class\":'V', \"section\":'A'}]\n",
    "\n",
    "for i in datalist:\n",
    "    print(i, type(i))\n",
    "    "
   ]
  },
  {
   "cell_type": "code",
   "execution_count": null,
   "id": "841c55ec",
   "metadata": {},
   "outputs": [],
   "source": [
    "# Write a Python program that prints all the numbers from 0 to 6 except 3 and 6.\n",
    "# Note : Use 'continue' statement.\n",
    "# Expected Output : 0 1 2 4 5\n",
    "\n",
    "for i in range(0,7):\n",
    "    if i == 0:\n",
    "        print(i)\n",
    "    elif i % 3 == 0:\n",
    "        continue\n",
    "    else: \n",
    "        print(i)"
   ]
  },
  {
   "cell_type": "code",
   "execution_count": null,
   "id": "c433ac5b",
   "metadata": {},
   "outputs": [],
   "source": [
    "# Write a Python program to get the Fibonacci series between 0 and 50.\n",
    "# Note : The Fibonacci Sequence is the series of numbers :\n",
    "# 0, 1, 1, 2, 3, 5, 8, 13, 21, ....\n",
    "# Every next number is found by adding up the two numbers before it.\n",
    "# Expected Output : 1 1 2 3 5 8 13 21 34\n",
    "\n",
    "# x, y  = 0, 1\n",
    "# for y in range(1, 51):\n",
    "#     print(y)\n",
    "#     x, y = y, x + y\n",
    "\n",
    "x, y = 0, 1\n",
    "while y < 51:\n",
    "    print(y, end = ', ')\n",
    "    x, y = y, x+y\n",
    "print(y)\n",
    "    \n"
   ]
  },
  {
   "cell_type": "code",
   "execution_count": null,
   "id": "d02f36f4",
   "metadata": {},
   "outputs": [],
   "source": [
    "# Write a Python program that iterates the integers from 1 to 50. For multiples of three print \"Fizz\" instead of the number and for multiples of five print \"Buzz\". For numbers that are multiples of three and five, print \"FizzBuzz\".\n",
    "# Sample Output :\n",
    "# fizzbuzz\n",
    "\n",
    "for i in range(1, 51):\n",
    "    if i % 3 == 0 and i % 5 == 0:\n",
    "        print('FizzBuzz', end = ', ')\n",
    "    elif i % 3 == 0:\n",
    "        print('Fizz', end = ', ')\n",
    "    elif i % 5 == 0:\n",
    "        print('Buzz', end = ', ')\n",
    "    else:\n",
    "        print(i, end = ', ')"
   ]
  },
  {
   "cell_type": "code",
   "execution_count": null,
   "id": "a80cd834",
   "metadata": {},
   "outputs": [],
   "source": [
    "# Write a Python program that takes two digits m (row) and n (column) as input and generates a two-dimensional array. \n",
    "# The element value in the i-th row and j-th column of the array should be i*j.\n",
    "# Note :\n",
    "# i = 0,1.., m-1\n",
    "# j = 0,1, n-1.\n",
    "\n",
    "# Test Data : Rows = 3, Columns = 4\n",
    "# Expected Result : [[0, 0, 0, 0], [0, 1, 2, 3], [0, 2, 4, 6]]\n",
    "\n",
    "print([[i * j for i in range(4)] for j in range(3)] )"
   ]
  },
  {
   "cell_type": "code",
   "execution_count": null,
   "id": "2a3d9983",
   "metadata": {},
   "outputs": [],
   "source": [
    "# Write a Python program that accepts a sequence of comma separated 4 digit binary numbers as its input. \n",
    "# The program will print the numbers that are divisible by 5 in a comma separated sequence.\n",
    "# Sample Data : 0100,0011,1010,1001,1100,1001\n",
    "# Expected Output : 1010\n",
    "\n",
    "items = []\n",
    "num = [x for x in input().split(',')]\n",
    "for p in num:\n",
    "    x = int(p, 2)\n",
    "    if x % 5 == 0:\n",
    "        items.append(p)\n",
    "print(','.join(items))"
   ]
  },
  {
   "cell_type": "code",
   "execution_count": null,
   "id": "0daf81a4",
   "metadata": {},
   "outputs": [],
   "source": [
    "# Write a Python program that accepts a string and calculates the number of digits and letters.\n",
    "# Sample Data : Python 3.2\n",
    "# Expected Output :\n",
    "# Letters 6\n",
    "# Digits 2\n",
    "\n",
    "my_str = input('Enter the string : ')\n",
    "let_count = 0\n",
    "dig_count = 0\n",
    "for i in my_str:\n",
    "    if i.isdigit():\n",
    "        dig_count += 1\n",
    "    elif i.isalpha():\n",
    "        let_count += 1\n",
    "print('Letters : ', let_count)\n",
    "print('Digits : ', dig_count)"
   ]
  },
  {
   "cell_type": "code",
   "execution_count": null,
   "id": "6a65cb1b",
   "metadata": {},
   "outputs": [],
   "source": [
    "# Write a Python program to check the validity of passwords input by users.\n",
    "# Validation :\n",
    "\n",
    "# At least 1 letter between [a-z] and 1 letter between [A-Z].\n",
    "# At least 1 number between [0-9].\n",
    "# At least 1 character from [$#@].\n",
    "# Minimum length 6 characters.\n",
    "# Maximum length 16 characters.\n",
    "import re\n",
    "\n",
    "p = input('Enter password : ')\n",
    "x = True\n",
    "while x:\n",
    "    if (len(p)<6 or len(p)>16):\n",
    "        break\n",
    "    elif not re.search('[a-z]', p):\n",
    "        break\n",
    "    elif not re.search('[A-Z]', p):\n",
    "        break\n",
    "    elif not re.search('[0-9]', p):\n",
    "        break\n",
    "    elif not re.search('[$#@]', p):\n",
    "        break\n",
    "    elif re.search('\\s', p):\n",
    "        break\n",
    "    else:\n",
    "        print('Valid password')\n",
    "        x = False\n",
    "        break\n",
    "if x:\n",
    "    print('Not a valid password')\n",
    "    \n",
    "    \n",
    "\n"
   ]
  },
  {
   "cell_type": "code",
   "execution_count": null,
   "id": "47969605",
   "metadata": {},
   "outputs": [],
   "source": [
    "# Write a Python program to find numbers between 100 and 400 (both included) where each digit of a number is an even number.\n",
    "# The numbers obtained should be printed in a comma-separated sequence.\n",
    "\n",
    "even_num = []\n",
    "for i in range(100, 401):\n",
    "    if i % 2 == 0:\n",
    "        even_num.append(str(i))\n",
    "print(', '.join(even_num))"
   ]
  },
  {
   "cell_type": "code",
   "execution_count": null,
   "id": "6d29bc65",
   "metadata": {},
   "outputs": [],
   "source": [
    "# Write a Python program to print the alphabet pattern 'A'.\n",
    "# Expected Output:\n",
    "\n",
    "#   ***                                                                   \n",
    "#  *   *                                                                  \n",
    "#  *   *                                                                  \n",
    "#  *****                                                                  \n",
    "#  *   *                                                                  \n",
    "#  *   *                                                                  \n",
    "#  *   *\n",
    "\n",
    "result_str = ''\n",
    "for row in range(0,7):\n",
    "    for column in range(0,7):\n",
    "        if (((column == 1 or column == 5) and row != 0) or (row == 0 or row == 3) and (column > 1 and column < 5)):\n",
    "            result_str += '*'\n",
    "        else:\n",
    "            result_str += ' '\n",
    "    result_str += '\\n'\n",
    "print(result_str)"
   ]
  },
  {
   "cell_type": "code",
   "execution_count": 19,
   "id": "844a1534",
   "metadata": {},
   "outputs": [
    {
     "name": "stdout",
     "output_type": "stream",
     "text": [
      " ****  \n",
      " *   * \n",
      " *   * \n",
      " *   * \n",
      " *   * \n",
      " *   * \n",
      " ****  \n",
      "\n"
     ]
    }
   ],
   "source": [
    "# Write a Python program to print the alphabet pattern 'D'.\n",
    "# Expected Output:\n",
    "\n",
    "#  ****                                                                   \n",
    "#  *   *                                                                  \n",
    "#  *   *                                                                  \n",
    "#  *   *                                                                  \n",
    "#  *   *                                                                  \n",
    "#  *   *                                                                  \n",
    "#  **** \n",
    "\n",
    "# Requirement : \n",
    "# 1. 1st column and all rows\n",
    "# 2. firstrow, last row and other than first and 5th columns\n",
    "# 3. 5th column, other than first and 7th rows.\n",
    "res_str = ''\n",
    "for row in range(0,7):\n",
    "    for column in range(0,7):\n",
    "        if (column == 1 or ((row == 0 or row == 6) and (column > 1 and column < 5)) or (column == 5 and row != 0 and row != 6)):\n",
    "            res_str += '*'\n",
    "        else:\n",
    "            res_str += ' '\n",
    "    res_str += '\\n'\n",
    "print(res_str)"
   ]
  },
  {
   "cell_type": "code",
   "execution_count": 35,
   "id": "de7e142f",
   "metadata": {},
   "outputs": [
    {
     "name": "stdout",
     "output_type": "stream",
     "text": [
      " ***** \n",
      " *     \n",
      " *     \n",
      " ****  \n",
      " *     \n",
      " *     \n",
      " ***** \n",
      "\n"
     ]
    }
   ],
   "source": [
    "# Write a Python program to print the alphabet pattern 'E'.\n",
    "# Expected Output:\n",
    "\n",
    "#  *****                                                                  \n",
    "#  *                                                                      \n",
    "#  *                                                                      \n",
    "#  ****                                                                   \n",
    "#  *                                                                      \n",
    "#  *                                                                      \n",
    "#  *****\n",
    "\n",
    "res_str = ''\n",
    "for row in range(0, 7):\n",
    "    for column in range(0, 7):\n",
    "        if (column == 1 or ((row == 0 or row == 3 or row == 6) and (column > 1 and column < 5)) or (column == 5 and (row == 0 or row == 6))):\n",
    "            res_str += '*'\n",
    "        else:\n",
    "            res_str += ' '\n",
    "    res_str += '\\n'\n",
    "print(res_str)"
   ]
  },
  {
   "cell_type": "code",
   "execution_count": 69,
   "id": "21ab5815",
   "metadata": {},
   "outputs": [
    {
     "name": "stdout",
     "output_type": "stream",
     "text": [
      "  ***  \n",
      " *   * \n",
      " *     \n",
      " * *** \n",
      " *   * \n",
      " *   * \n",
      "  ***  \n",
      "\n"
     ]
    }
   ],
   "source": [
    "# Write a Python program to print the alphabet pattern 'G'.\n",
    "# Expected Output:\n",
    "\n",
    "#   ***                                                                   \n",
    "#  *   *                                                                  \n",
    "#  *                                                                      \n",
    "#  * ***                                                                  \n",
    "#  *   *                                                                  \n",
    "#  *   *                                                                  \n",
    "#   *** \n",
    "\n",
    "res_str = ''\n",
    "for row in range(0, 7):\n",
    "    for column in range(0, 7):\n",
    "        if ((column == 1 and row != 0 and row != 6) or ((row == 0 or row == 6) and column > 1 and column < 5) or (row == 3 and (column == 3 or column == 4)) or (column == 5 and (row != 0 and row != 2 and row != 6))):\n",
    "             res_str += '*'\n",
    "        else:\n",
    "             res_str += ' '\n",
    "    res_str += '\\n'\n",
    "print(res_str)"
   ]
  },
  {
   "cell_type": "code",
   "execution_count": 72,
   "id": "3bf20623",
   "metadata": {},
   "outputs": [
    {
     "name": "stdout",
     "output_type": "stream",
     "text": [
      "Input a dog's age in human years: 15\n",
      "The dog's age in dog's years is :  73\n"
     ]
    }
   ],
   "source": [
    "# Write a Python program to calculate a dog's age in dog years.\n",
    "# Note: For the first two years, a dog year is equal to 10.5 human years. After that, each dog year equals 4 human years.\n",
    "# Expected Output:\n",
    "\n",
    "# Input a dog's age in human years: 15                                    \n",
    "# The dog's age in dog's years is 73\n",
    "\n",
    "d_age_h = int(input(\"Input a dog's age in human years: \"))\n",
    "d_age_d = ((2 * 10.5)+((d_age_h - 2) * 4))\n",
    "print(\"The dog's age in dog's years is : \", int(d_age_d))\n",
    "                "
   ]
  },
  {
   "cell_type": "code",
   "execution_count": 77,
   "id": "8b7bcf8c",
   "metadata": {},
   "outputs": [
    {
     "name": "stdout",
     "output_type": "stream",
     "text": [
      "Enter the month : decembar\n",
      "You entered wrong word\n"
     ]
    }
   ],
   "source": [
    "# Write a Python program to convert a month name to a number of days.\n",
    "# Expected Output:\n",
    "\n",
    "# List of months: January, February, March, April, May, June, July, August\n",
    "# , September, October, November, December                                \n",
    "# Input the name of Month: February                                       \n",
    "# No. of days: 28/29 days \n",
    "\n",
    "month = input('Enter the month : ')\n",
    "if month == 'January' or month == 'March' or month == 'May' or month == 'July' or month == 'August' or month == 'October' or month == 'December':\n",
    "    print('No. of days : 31 days')\n",
    "elif month == 'April' or month == 'June' or month == 'September' or month == 'November':\n",
    "    print('No. of days : 30 days')\n",
    "elif month == 'February':\n",
    "    print('No. of days : 28/29 days')\n",
    "else:\n",
    "    print('You entered wrong word')\n",
    "    \n",
    "    "
   ]
  },
  {
   "cell_type": "code",
   "execution_count": 3,
   "id": "59f5fefe",
   "metadata": {},
   "outputs": [
    {
     "name": "stdout",
     "output_type": "stream",
     "text": [
      "Enter first side of the triangle : 6\n",
      "Enter second side of the triangle : 8\n",
      "Enter third side of the triangle : 6\n",
      "Isosceles triangle\n"
     ]
    }
   ],
   "source": [
    "# Write a Python proWrite a Python program to check if a triangle is equilateral, isosceles or scalene.\n",
    "# Note :\n",
    "# An equilateral triangle is a triangle in which all three sides are equal.\n",
    "# A scalene triangle is a triangle that has three unequal sides.\n",
    "# An isosceles triangle is a triangle with (at least) two equal sides.\n",
    "# Expected Output:\n",
    "\n",
    "# Input lengths of the triangle sides:                                    \n",
    "# x: 6                                                                    \n",
    "# y: 8                                                                    \n",
    "# z: 12                                                                   \n",
    "# Scalene triangle  \n",
    "\n",
    "x = int(input('Enter first side of the triangle : '))\n",
    "y = int(input('Enter second side of the triangle : '))\n",
    "z = int(input('Enter third side of the triangle : '))\n",
    "\n",
    "if x == y and x == z:\n",
    "    print('Equilateral triangle')\n",
    "elif x == y or x == z or y == z:\n",
    "    print('Isosceles triangle')\n",
    "else:\n",
    "    print('Scalene triangle')"
   ]
  },
  {
   "cell_type": "code",
   "execution_count": null,
   "id": "36552d87",
   "metadata": {},
   "outputs": [],
   "source": [
    "# Write a Python program that reads two integers representing a month and day and prints the season for that month and day.\n",
    "# Expected Output:\n",
    "\n",
    "# Input the month (e.g. January, February etc.): july                     \n",
    "# Input the day: 31                                                       \n",
    "# Season is autumn \n",
    "\n"
   ]
  },
  {
   "cell_type": "code",
   "execution_count": 9,
   "id": "c5c2c545",
   "metadata": {},
   "outputs": [
    {
     "name": "stdout",
     "output_type": "stream",
     "text": [
      "Input first number : 26\n",
      "Input second number : 15\n",
      "Input third number : 29\n",
      "The median is  26\n"
     ]
    }
   ],
   "source": [
    "# Write a Python program to find the median of three values.\n",
    "# Expected Output:\n",
    "\n",
    "# Input first number: 15                                                  \n",
    "# Input second number: 26                                                 \n",
    "# Input third number: 29                                                  \n",
    "# The median is 26.0   \n",
    "\n",
    "num1 = int(input('Input first number : '))\n",
    "num2 = int(input('Input second number : '))\n",
    "num3 = int(input('Input third number : '))\n",
    "median = 0\n",
    "if num1 > num2 and num1 < num3:\n",
    "    median = num1\n",
    "elif num1 < num2 and num1 > num3:\n",
    "    median = num1\n",
    "elif num2 > num1 and num2 < num3:\n",
    "    median = num2\n",
    "elif num2 < num1 and num2 > num3:\n",
    "    median = num2\n",
    "else:\n",
    "    median = num3\n",
    "print('The median is ', median)"
   ]
  },
  {
   "cell_type": "code",
   "execution_count": 11,
   "id": "1ca4b1e4",
   "metadata": {},
   "outputs": [
    {
     "name": "stdout",
     "output_type": "stream",
     "text": [
      "Input a year : 2006\n",
      "Input a month [1 - 12] : 6\n",
      "Input a day [1 - 31] : 14\n",
      "The next date is [yyyy-mm-dd] 2006-6-15\n"
     ]
    }
   ],
   "source": [
    "# Write a Python program to get the next day of a given date.\n",
    "# Expected Output:\n",
    "\n",
    "# Input a year: 2016                                                      \n",
    "# Input a month [1-12]: 08                                                \n",
    "# Input a day [1-31]: 23                                                  \n",
    "# The next date is [yyyy-mm-dd] 2016-8-24 \n",
    "\n",
    "yyyy = int(input('Input a year : '))\n",
    "mm = int(input('Input a month [1 - 12] : '))\n",
    "dd = int(input('Input a day [1 - 31] : '))\n",
    "print(f'The next date is [yyyy-mm-dd] {yyyy}-{mm}-{dd+1}')"
   ]
  },
  {
   "cell_type": "code",
   "execution_count": 15,
   "id": "2c8df755",
   "metadata": {},
   "outputs": [
    {
     "name": "stdout",
     "output_type": "stream",
     "text": [
      "Input the number, enter 0 to stop : 5\n",
      "Input the number, enter 0 to stop : 8\n",
      "Input the number, enter 0 to stop : 3\n",
      "Input the number, enter 0 to stop : 12\n",
      "Input the number, enter 0 to stop : 35\n",
      "Input the number, enter 0 to stop : 0\n",
      "Average of given numbers is :  9.4\n"
     ]
    }
   ],
   "source": [
    "# Write a Python program to calculate the sum and average of n integer numbers (input from the user). Input 0 to finish.\n",
    "Average = 0\n",
    "num = 0\n",
    "i = 1\n",
    "cnt = 1\n",
    "while i>0:\n",
    "    i = int(input('Input the number, enter 0 to stop : '))\n",
    "    if i == 0:\n",
    "        break\n",
    "    else:\n",
    "        Average = (num + i)/cnt\n",
    "        num = i\n",
    "        cnt += 1\n",
    "print('Average of given numbers is : ',Average)\n",
    "    \n",
    "    "
   ]
  },
  {
   "cell_type": "code",
   "execution_count": 17,
   "id": "7914c380",
   "metadata": {},
   "outputs": [
    {
     "name": "stdout",
     "output_type": "stream",
     "text": [
      "Enter the number of which table is required : 8\n",
      "Enter the number of which table is required : 9\n",
      "Enter the number of which table is required : 5\n",
      "8 X 1 = 8\t9 X 1 = 9\t8 X 2 = 16\t9 X 2 = 18\t8 X 3 = 24\t9 X 3 = 27\t8 X 4 = 32\t9 X 4 = 36\t8 X 5 = 40\t9 X 5 = 45\t8 X 6 = 48\t9 X 6 = 54\t8 X 7 = 56\t9 X 7 = 63\t8 X 8 = 64\t9 X 8 = 72\t8 X 9 = 72\t9 X 9 = 81\t8 X 10 = 80\t9 X 10 = 90\t"
     ]
    }
   ],
   "source": [
    "# Write a Python program to create the multiplication table (from 1 to 10) of a number.\n",
    "# Expected Output:\n",
    "\n",
    "# Input a number: 6                                                       \n",
    "# 6 x 1 = 6                                                               \n",
    "# 6 x 2 = 12                                                              \n",
    "# 6 x 3 = 18   \n",
    "\n",
    "n1 = int(input('Enter the number of which table is required : '))\n",
    "n2 = int(input('Enter the number of which table is required : '))\n",
    "n3 = int(input('Enter the number of which table is required : '))\n",
    "for i in range(1, 11):\n",
    "    print(f'{n1} X {i} = {n1 * i}', end = '\\t')\n",
    "    print(f'{n2} X {i} = {n2 * i}', end = '\\t')\n"
   ]
  },
  {
   "cell_type": "code",
   "execution_count": 19,
   "id": "f06d096e",
   "metadata": {},
   "outputs": [
    {
     "name": "stdout",
     "output_type": "stream",
     "text": [
      "1\n",
      "22\n",
      "333\n",
      "4444\n",
      "55555\n",
      "666666\n",
      "7777777\n",
      "88888888\n",
      "999999999\n"
     ]
    }
   ],
   "source": [
    "# Write a Python program to construct the following pattern, using a nested loop number.\n",
    "# Expected Output:\n",
    "\n",
    "# 1\n",
    "# 22\n",
    "# 333\n",
    "# 4444\n",
    "# 55555\n",
    "# 666666\n",
    "# 7777777\n",
    "# 88888888\n",
    "# 999999999\n",
    "\n",
    "for i in range(1, 10):\n",
    "    print(f'{i}' * i)"
   ]
  },
  {
   "cell_type": "code",
   "execution_count": 28,
   "id": "66c3b39c",
   "metadata": {},
   "outputs": [
    {
     "name": "stdout",
     "output_type": "stream",
     "text": [
      "42\n"
     ]
    }
   ],
   "source": [
    "# Write a Python program to calculate the sum of a list of numbers.\n",
    "# Click me to see the sample solution\n",
    "\n",
    "# a = eval(input('Enter a list of numbers : '))\n",
    "\n",
    "# def sum(a):\n",
    "#     sum = 0\n",
    "#     for i in a:\n",
    "#         sum = i + sum(a)\n",
    "#     return sum\n",
    "# print(sum(a))\n",
    "        \n",
    "def list_sum(num_lst):\n",
    "    if len(num_lst) == 1:\n",
    "        return num_lst[0]\n",
    "    else:\n",
    "        return num_lst[0] + list_sum(num_lst[1:])\n",
    "print(list_sum([2,5,8,5,9,6,3,4]))"
   ]
  },
  {
   "cell_type": "code",
   "execution_count": 30,
   "id": "f0ed2745",
   "metadata": {},
   "outputs": [
    {
     "data": {
      "text/plain": [
       "38"
      ]
     },
     "execution_count": 30,
     "metadata": {},
     "output_type": "execute_result"
    }
   ],
   "source": [
    "# Write a Python program to sum recursion lists.\n",
    "# Test Data: [1, 2, [3,4], [5,6]]\n",
    "# Expected Result: 21\n",
    "\n",
    "def rec_list_sum(data_lst):\n",
    "    total = 0\n",
    "    for element in data_lst:\n",
    "        if type(element) == type([]):\n",
    "            total = total + rec_list_sum(element)\n",
    "        else:\n",
    "            total = total + element\n",
    "    return total\n",
    "\n",
    "rec_list_sum([1,2,[4,5],7,[8,11]])\n",
    "        \n",
    "    "
   ]
  },
  {
   "cell_type": "code",
   "execution_count": 32,
   "id": "3424c8dd",
   "metadata": {},
   "outputs": [
    {
     "name": "stdout",
     "output_type": "stream",
     "text": [
      "362880\n"
     ]
    }
   ],
   "source": [
    "# Write a Python program to get the factorial of a non-negative integer.\n",
    "\n",
    "def fact(n):\n",
    "    if n <= 1:\n",
    "        return 1\n",
    "    else:\n",
    "        return n * fact(n-1)\n",
    "print(fact(9))"
   ]
  },
  {
   "cell_type": "code",
   "execution_count": 33,
   "id": "c9d4616a",
   "metadata": {},
   "outputs": [
    {
     "data": {
      "text/plain": [
       "1"
      ]
     },
     "execution_count": 33,
     "metadata": {},
     "output_type": "execute_result"
    }
   ],
   "source": [
    "# Write a Python program to solve the Fibonacci sequence using recursion.\n",
    "def fib(n):\n",
    "    lst = []\n",
    "    for i in range(1,n):\n",
    "        lst.append() i + i-1\n",
    "\n",
    "fib(7)"
   ]
  },
  {
   "cell_type": "code",
   "execution_count": 5,
   "id": "e8c08899",
   "metadata": {},
   "outputs": [
    {
     "data": {
      "text/plain": [
       "9"
      ]
     },
     "execution_count": 5,
     "metadata": {},
     "output_type": "execute_result"
    }
   ],
   "source": [
    "# Write a Python program to get the sum of a non-negative integer.\n",
    "# Test Data:\n",
    "# sumDigits(345) -> 12\n",
    "# sumDigits(45) -> 9\n",
    "\n",
    "\n",
    "def sumDigits(n):\n",
    "    if n == 0:\n",
    "        return 0\n",
    "    else:\n",
    "        return n % 10 + sumDigits(int(n // 10))\n",
    "    \n",
    "\n",
    "sumDigits(345)\n",
    "sumDigits(45)\n",
    "        \n",
    "    "
   ]
  },
  {
   "cell_type": "code",
   "execution_count": 8,
   "id": "aac1670d",
   "metadata": {},
   "outputs": [
    {
     "data": {
      "text/plain": [
       "30"
      ]
     },
     "execution_count": 8,
     "metadata": {},
     "output_type": "execute_result"
    }
   ],
   "source": [
    "# Write a Python program to calculate the sum of the positive integers of n+(n-2)+(n-4)... (until n-x =< 0).\n",
    "# Test Data:\n",
    "# sum_series(6) -> 12\n",
    "# sum_series(10) -> 30\n",
    "\n",
    "def sum_series(n):\n",
    "    if n < 1:\n",
    "        return 0\n",
    "    else:\n",
    "        return n + sum_series(int(n - 2))\n",
    "    \n",
    "sum_series(6)\n",
    "sum_series(10)\n",
    "    \n",
    "\n"
   ]
  },
  {
   "cell_type": "code",
   "execution_count": 11,
   "id": "4582069d",
   "metadata": {},
   "outputs": [
    {
     "data": {
      "text/plain": [
       "2.283333333333333"
      ]
     },
     "execution_count": 11,
     "metadata": {},
     "output_type": "execute_result"
    }
   ],
   "source": [
    "# Write a Python program to calculate the harmonic sum of n-1.\n",
    "# Note: The harmonic sum is the sum of reciprocals of the positive integers.\n",
    "# Example :\n",
    "# harmonic series\n",
    "\n",
    "def sum_harmonic(n):\n",
    "    if n < 2:\n",
    "        return 1\n",
    "    else:\n",
    "        return 1/n + sum_harmonic(n - 1)\n",
    "\n",
    "sum_harmonic(5)"
   ]
  },
  {
   "cell_type": "code",
   "execution_count": 13,
   "id": "1a328db9",
   "metadata": {},
   "outputs": [
    {
     "name": "stdout",
     "output_type": "stream",
     "text": [
      "1.9921875\n"
     ]
    },
    {
     "data": {
      "text/plain": [
       "1.9375"
      ]
     },
     "execution_count": 13,
     "metadata": {},
     "output_type": "execute_result"
    }
   ],
   "source": [
    "# Write a Python program to calculate the geometric sum of n-1.\n",
    "# Note : In mathematics, a geometric series is a series with a constant ratio between successive terms.\n",
    "\n",
    "def geometric_sum(n):\n",
    "    if n < 0:\n",
    "        return 0\n",
    "    else:\n",
    "        return 1 / (pow(2, n)) + geometric_sum(n-1)\n",
    "\n",
    "print(geometric_sum(7))\n",
    "geometric_sum(4)\n"
   ]
  },
  {
   "cell_type": "code",
   "execution_count": 16,
   "id": "86c1960c",
   "metadata": {},
   "outputs": [
    {
     "data": {
      "text/plain": [
       "243"
      ]
     },
     "execution_count": 16,
     "metadata": {},
     "output_type": "execute_result"
    }
   ],
   "source": [
    "# Write a Python program to calculate the value of 'a' to the power of 'b'.\n",
    "# Test Data :\n",
    "# (power(3,4) -> 81\n",
    "\n",
    "def power(a,b):\n",
    "    if b == 0:\n",
    "        return 1\n",
    "    elif a == 0:\n",
    "        return 0\n",
    "    else:\n",
    "        return a * power(a,(b-1))\n",
    "power(3,5)"
   ]
  },
  {
   "cell_type": "code",
   "execution_count": 17,
   "id": "0f9215ac",
   "metadata": {},
   "outputs": [
    {
     "data": {
      "text/plain": [
       "3"
      ]
     },
     "execution_count": 17,
     "metadata": {},
     "output_type": "execute_result"
    }
   ],
   "source": [
    "# Write a Python program to find the greatest common divisor (GCD) of two integers.\n",
    "\n",
    "def recurgcd(a,b):\n",
    "    low = min(a,b)\n",
    "    high = max(a,b)\n",
    "    \n",
    "    if low == 0:\n",
    "        return high\n",
    "    elif low == 1:\n",
    "        return 1\n",
    "    else:\n",
    "        return recurgcd(low, high%low)\n",
    "    \n",
    "recurgcd(9, 12)\n",
    "    "
   ]
  },
  {
   "cell_type": "code",
   "execution_count": 2,
   "id": "114b82d5",
   "metadata": {},
   "outputs": [
    {
     "name": "stdout",
     "output_type": "stream",
     "text": [
      "{'g': 2, 'o': 3, 'l': 1, 'e': 1, '.': 1, 'c': 1, 'm': 1}\n"
     ]
    }
   ],
   "source": [
    "# Write a Python program to count the number of characters (character frequency) in a string.\n",
    "# Sample String : google.com'\n",
    "# Expected Result : {'g': 2, 'o': 3, 'l': 1, 'e': 1, '.': 1, 'c': 1, 'm': 1}\n",
    "\n",
    "my_str = 'google.com'\n",
    "\n",
    "def char_freq(str):\n",
    "    dict = {}\n",
    "    for i in my_str:\n",
    "        keys = dict.keys()\n",
    "        if i in dict.keys():\n",
    "            dict[i] += 1\n",
    "        else:\n",
    "            dict[i] = 1\n",
    "    return dict\n",
    "print(char_freq(my_str))"
   ]
  },
  {
   "cell_type": "code",
   "execution_count": 4,
   "id": "77e39ca0",
   "metadata": {},
   "outputs": [
    {
     "name": "stdout",
     "output_type": "stream",
     "text": [
      "w3ce\n",
      "w3w3\n",
      "\n"
     ]
    }
   ],
   "source": [
    "# Write a Python program to get a string made of the first 2 and last 2 characters of a given string. If the string length is less than 2, return the empty string instead.\n",
    "# Sample String : 'w3resource'\n",
    "# Expected Result : 'w3ce'\n",
    "# Sample String : 'w3'\n",
    "# Expected Result : 'w3w3'\n",
    "# Sample String : ' w'\n",
    "# Expected Result : Empty String\n",
    "\n",
    "def new_str(str):\n",
    "    if len(str) < 2:\n",
    "        return ''\n",
    "    else:\n",
    "        new_str = str[:2] + str[(len(str)-2):]\n",
    "    return new_str\n",
    "        \n",
    "print(new_str('w3resource'))\n",
    "print(new_str('w3'))\n",
    "print(new_str('w'))"
   ]
  },
  {
   "cell_type": "code",
   "execution_count": 8,
   "id": "a0ab8c62",
   "metadata": {},
   "outputs": [
    {
     "data": {
      "text/plain": [
       "'resta$t'"
      ]
     },
     "execution_count": 8,
     "metadata": {},
     "output_type": "execute_result"
    }
   ],
   "source": [
    "# Write a Python program to get a string from a given string where all occurrences of its first char have been changed to '$', except the first char itself.\n",
    "# Sample String : 'restart'\n",
    "# Expected Result : 'resta$t'\n",
    "\n",
    "def char_chg(str):\n",
    "    chr = str[0]\n",
    "    new_str = ''\n",
    "    new_str += chr\n",
    "    for char in str[1:]:\n",
    "        if char == chr:\n",
    "            new_str += '$'\n",
    "        else:\n",
    "            new_str += char\n",
    "    return new_str\n",
    "\n",
    "char_chg('restart')"
   ]
  },
  {
   "cell_type": "code",
   "execution_count": 9,
   "id": "8d8696e9",
   "metadata": {},
   "outputs": [
    {
     "data": {
      "text/plain": [
       "'xyc abz'"
      ]
     },
     "execution_count": 9,
     "metadata": {},
     "output_type": "execute_result"
    }
   ],
   "source": [
    "# Write a Python program to get a single string from two given strings, separated by a space and swap the first two \n",
    "# characters of each string.\n",
    "# Sample String : 'abc', 'xyz'\n",
    "# Expected Result : 'xyc abz'\n",
    "\n",
    "def newstr1(str1, str2):\n",
    "    new_str = str2[:2]+str1[2:]+' '+str1[:2]+str2[2:]\n",
    "    return new_str\n",
    "\n",
    "newstr1('abc', 'xyz')"
   ]
  },
  {
   "cell_type": "code",
   "execution_count": 12,
   "id": "0987db90",
   "metadata": {},
   "outputs": [
    {
     "name": "stdout",
     "output_type": "stream",
     "text": [
      "abcing\n",
      "stringly\n",
      "st\n"
     ]
    }
   ],
   "source": [
    "# Write a Python program to add 'ing' at the end of a given string (length should be at least 3). If the given string already ends with 'ing', add 'ly' instead. If the string length of the given string is less than 3, leave it unchanged.\n",
    "# Sample String : 'abc'\n",
    "# Expected Result : 'abcing'\n",
    "# Sample String : 'string'\n",
    "# Expected Result : 'stringly'\n",
    "\n",
    "def string_chg(str):\n",
    "    if len(str) < 3:\n",
    "        new_str = str\n",
    "    elif str[(len(str)-3):] == 'ing':\n",
    "        new_str = str + 'ly'\n",
    "    else:\n",
    "        new_str = str + 'ing'\n",
    "    return new_str\n",
    "\n",
    "print(string_chg('abc'))\n",
    "print(string_chg('string'))\n",
    "print(string_chg('st'))\n",
    "        "
   ]
  },
  {
   "cell_type": "code",
   "execution_count": 3,
   "id": "0078b0b7",
   "metadata": {},
   "outputs": [
    {
     "data": {
      "text/plain": [
       "'the lyrics is good'"
      ]
     },
     "execution_count": 3,
     "metadata": {},
     "output_type": "execute_result"
    }
   ],
   "source": [
    "# Write a Python program to find the first appearance of the substrings 'not' and 'poor' in a given string. \n",
    "# If 'not' follows 'poor', replace the whole 'not'...'poor' substring with 'good'. Return the resulting string.\n",
    "# Sample String : 'The lyrics is not that poor!'\n",
    "# 'The lyrics is poor!'\n",
    "# Expected Result : 'The lyrics is good!'\n",
    "# 'The lyrics is poor!'\n",
    "\n",
    "def str_replace(str1):\n",
    "    i1 = str1.find('not')\n",
    "    i2 = str1.find('poor')\n",
    "    if 'not' in str1:\n",
    "        new_str = str1.replace(str1[i1:(i2+4)], 'good')\n",
    "    elif 'poor' in str1:\n",
    "        new_str = str1.replace('poor', 'good')\n",
    "    return new_str\n",
    "\n",
    "str_replace('the lyrics is poor')"
   ]
  },
  {
   "cell_type": "code",
   "execution_count": 6,
   "id": "4887292e",
   "metadata": {},
   "outputs": [
    {
     "name": "stdout",
     "output_type": "stream",
     "text": [
      "Longest word : beautiful\n",
      "Length of the Longest word : 9\n",
      "None\n"
     ]
    }
   ],
   "source": [
    "# Write a Python function that takes a list of words and return the longest word and the length of the longest one.\n",
    "# Sample Output:\n",
    "# Longest word: Exercises\n",
    "# Length of the longest word: 9\n",
    "\n",
    "def longest_str(lst):\n",
    "    for i in range(len(lst)):\n",
    "        if len(lst[i]) > len(lst[i-1]):\n",
    "            longest_str = lst[i]\n",
    "        else:\n",
    "            longest_str = lst[i-1]\n",
    "    print('Longest word :', longest_str)\n",
    "    print('Length of the Longest word :', len(longest_str))\n",
    "print(longest_str(['Exercises', 'gun', 'boat', 'road', 'roses', 'beautiful']))"
   ]
  },
  {
   "cell_type": "code",
   "execution_count": 5,
   "id": "18e1f0dd",
   "metadata": {},
   "outputs": [
    {
     "name": "stdout",
     "output_type": "stream",
     "text": [
      "excelant\n"
     ]
    }
   ],
   "source": [
    "# Write a Python program to remove the nth index character from a nonempty string\n",
    "\n",
    "def rem_str(str, n):\n",
    "    first_part = str[:n]\n",
    "    second_part = str[n+1:]\n",
    "    return first_part + second_part\n",
    "\n",
    "print(rem_str('excellant', 5))"
   ]
  },
  {
   "cell_type": "code",
   "execution_count": 7,
   "id": "5deecfd9",
   "metadata": {},
   "outputs": [
    {
     "name": "stdout",
     "output_type": "stream",
     "text": [
      "txcellane\n"
     ]
    }
   ],
   "source": [
    "# Write a Python program to change a given string to a newly string where the first and last chars have been exchanged.\n",
    "\n",
    "def char_exch(str):\n",
    "    first_char = str[0]\n",
    "    last_char = str[-1]\n",
    "    return last_char + str[1:(len(str)-1)] + first_char\n",
    "\n",
    "print(char_exch('excellant'))"
   ]
  },
  {
   "cell_type": "code",
   "execution_count": 9,
   "id": "73998da7",
   "metadata": {},
   "outputs": [
    {
     "name": "stdout",
     "output_type": "stream",
     "text": [
      "eclat\n"
     ]
    }
   ],
   "source": [
    "# Write a Python program to remove characters that have odd index values in a given string.\n",
    "\n",
    "def odd_ind(str):\n",
    "    str1 = ''\n",
    "    for i in range(len(str)):\n",
    "        if i % 2 == 0:\n",
    "            str1 += str[i]\n",
    "    return str1\n",
    "\n",
    "print(odd_ind('excellant'))"
   ]
  },
  {
   "cell_type": "code",
   "execution_count": 6,
   "id": "8386611e",
   "metadata": {},
   "outputs": [
    {
     "name": "stdout",
     "output_type": "stream",
     "text": [
      "{'Write': 1, 'a': 2, 'Python': 1, 'program': 1, 'to': 1, 'find': 1, 'the': 4, 'first': 1, 'appearance': 1, 'of': 1, 'substrings': 1, \"'not'\": 2, 'and': 1, \"'poor'\": 1, 'in': 1, 'given': 1, 'string.': 2, 'If': 1, 'follows': 1, \"'poor',\": 1, 'replace': 1, 'whole': 1, \"'not'...'poor'\": 1, 'substring': 1, 'with': 1, \"'good'.\": 1, 'Return': 1, 'resulting': 1}\n"
     ]
    }
   ],
   "source": [
    "# Write a Python program to count the occurrences of each word in a given sentence\n",
    "\n",
    "def word_count(str):\n",
    "    count = dict()\n",
    "    for i in str.split():\n",
    "        if i in count:\n",
    "            count[i] += 1\n",
    "        else:\n",
    "            count[i] = 1\n",
    "    return count\n",
    "    print(lst)\n",
    "print(word_count(\"Write a Python program to find the first appearance of the substrings 'not' and 'poor' in a given string. If 'not' follows 'poor', replace the whole 'not'...'poor' substring with 'good'. Return the resulting string.\"))\n",
    "    "
   ]
  },
  {
   "cell_type": "code",
   "execution_count": 7,
   "id": "3efbc9ef",
   "metadata": {},
   "outputs": [
    {
     "name": "stdout",
     "output_type": "stream",
     "text": [
      "Enter comma separated words : red, white, black, red, green, black\n",
      " black, green, red, white,red\n"
     ]
    }
   ],
   "source": [
    "# Write a Python program that accepts a comma-separated sequence of words as input and prints the distinct words in sorted form (alphanumerically).\n",
    "# Sample Words : red, white, black, red, green, black\n",
    "# Expected Result : black, green, red, white,red\n",
    "\n",
    "items = input('Enter comma separated words : ')\n",
    "words = [word for word in items.split(',')]\n",
    "print(','.join(sorted(list(set(words)))))\n",
    "    "
   ]
  },
  {
   "cell_type": "code",
   "execution_count": 9,
   "id": "85d6f80f",
   "metadata": {},
   "outputs": [
    {
     "name": "stdout",
     "output_type": "stream",
     "text": [
      "<i> Python </i>\n",
      "<b> Python Tutorial </b>\n"
     ]
    }
   ],
   "source": [
    "# Write a Python function to create an HTML string with tags around the word(s).\n",
    "# Sample function and result :\n",
    "# add_tags('i', 'Python') -> '<i>Python</i>'\n",
    "# add_tags('b', 'Python Tutorial') -> '<b>Python Tutorial </b>'\n",
    "\n",
    "def add_tags(tag, word):\n",
    "    return '<%s> %s </%s>' % (tag, word, tag)\n",
    "\n",
    "print(add_tags('i', 'Python'))\n",
    "print(add_tags('b', 'Python Tutorial'))"
   ]
  },
  {
   "cell_type": "code",
   "execution_count": 13,
   "id": "12429881",
   "metadata": {},
   "outputs": [
    {
     "name": "stdout",
     "output_type": "stream",
     "text": [
      "onononon\n",
      "eseseses\n"
     ]
    }
   ],
   "source": [
    "# Write a Python function to get a string made of 4 copies of the last two characters of a specified string (length must be at least 2).\n",
    "# Sample function and result :\n",
    "# insert_end('Python') -> onononon\n",
    "# insert_end('Exercises') -> eseseses\n",
    "\n",
    "def insert_end(str):\n",
    "    return 4 * str[-2:]\n",
    "\n",
    "print(insert_end('python'))\n",
    "print(insert_end('Exercises'))"
   ]
  },
  {
   "cell_type": "code",
   "execution_count": 16,
   "id": "18c00034",
   "metadata": {},
   "outputs": [
    {
     "name": "stdout",
     "output_type": "stream",
     "text": [
      "ipy\n",
      "pyt\n"
     ]
    }
   ],
   "source": [
    "# Write a Python function to get a string made of the first three characters of a specified string. If the length of the string is less than 3, return the original string.\n",
    "# Sample function and result :\n",
    "# first_three('ipy') -> ipy\n",
    "# first_three('python') -> pyt\n",
    "\n",
    "def first_three(str):\n",
    "    if len(str) < 3:\n",
    "        return str\n",
    "    else:\n",
    "        return str[:3]\n",
    "print(first_three('ipy'))\n",
    "print(first_three('python'))"
   ]
  },
  {
   "cell_type": "code",
   "execution_count": 18,
   "id": "5f833dd2",
   "metadata": {},
   "outputs": [
    {
     "name": "stdout",
     "output_type": "stream",
     "text": [
      "sdrawrof\n",
      "None\n"
     ]
    }
   ],
   "source": [
    "# Write a Python function to reverse a string if its length is a multiple of 4\n",
    "\n",
    "def str_len(str):\n",
    "    if len(str) % 4 == 0:\n",
    "        return str[::-1]\n",
    "print(str_len('forwards'))\n",
    "print(str_len('forward'))"
   ]
  },
  {
   "cell_type": "code",
   "execution_count": 21,
   "id": "c3481983",
   "metadata": {},
   "outputs": [
    {
     "name": "stdout",
     "output_type": "stream",
     "text": [
      "PYTHON\n",
      "None\n"
     ]
    }
   ],
   "source": [
    "# Write a Python function to convert a given string to all uppercase if it contains at least 2 uppercase characters \n",
    "# in the first 4 characters.\n",
    "\n",
    "def convert_str(str):\n",
    "    count = 0\n",
    "    for i in str[:4]:\n",
    "        if i.isupper():\n",
    "            count += 1\n",
    "    if count == 2:\n",
    "        return str.upper()\n",
    "print(convert_str('PyThon'))\n",
    "print(convert_str('Python'))"
   ]
  },
  {
   "cell_type": "code",
   "execution_count": 2,
   "id": "1a16c5ba",
   "metadata": {},
   "outputs": [
    {
     "name": "stdout",
     "output_type": "stream",
     "text": [
      "['3', 'c', 'e', 'e', 'o', 'r', 'r', 's', 'u', 'w']\n",
      "['b', 'c', 'i', 'k', 'n', 'o', 'q', 'r', 'u', 'w']\n"
     ]
    }
   ],
   "source": [
    "# Write a Python program to sort a string lexicographically.\n",
    "\n",
    "def lexico_sort(s):\n",
    "    return sorted(sorted(s), key = str.upper)\n",
    "\n",
    "print(lexico_sort('w3resource'))\n",
    "print(lexico_sort('quickbrown'))"
   ]
  },
  {
   "cell_type": "code",
   "execution_count": 3,
   "id": "fa1376d6",
   "metadata": {},
   "outputs": [
    {
     "name": "stdout",
     "output_type": "stream",
     "text": [
      "\n",
      "   Python is a widely used high-level, general-\n",
      "purpose, interpreted,   dynamic programming\n",
      "language. Its design philosophy emphasizes   code\n",
      "readability, and its syntax allows programmers to\n",
      "express   concepts in fewer lines of code than\n",
      "possible in languages such   as C++ or Java.\n",
      "\n"
     ]
    }
   ],
   "source": [
    "# Write a Python program to display formatted text (width=50) as output.\n",
    "\n",
    "import textwrap\n",
    "sample_text = '''\n",
    "  Python is a widely used high-level, general-purpose, interpreted,\n",
    "  dynamic programming language. Its design philosophy emphasizes\n",
    "  code readability, and its syntax allows programmers to express\n",
    "  concepts in fewer lines of code than possible in languages such\n",
    "  as C++ or Java.\n",
    "  '''\n",
    "\n",
    "print()\n",
    "print(textwrap.fill(sample_text, width = 50))\n",
    "print()"
   ]
  },
  {
   "cell_type": "code",
   "execution_count": null,
   "id": "e81a2486",
   "metadata": {},
   "outputs": [],
   "source": []
  },
  {
   "cell_type": "code",
   "execution_count": null,
   "id": "617104e3",
   "metadata": {},
   "outputs": [],
   "source": []
  },
  {
   "cell_type": "code",
   "execution_count": null,
   "id": "3ace47c7",
   "metadata": {},
   "outputs": [],
   "source": []
  },
  {
   "cell_type": "code",
   "execution_count": null,
   "id": "b22f769d",
   "metadata": {},
   "outputs": [],
   "source": []
  },
  {
   "cell_type": "code",
   "execution_count": null,
   "id": "8c56bc28",
   "metadata": {},
   "outputs": [],
   "source": []
  },
  {
   "cell_type": "code",
   "execution_count": null,
   "id": "c2eff1c1",
   "metadata": {},
   "outputs": [],
   "source": []
  },
  {
   "cell_type": "code",
   "execution_count": null,
   "id": "272ae6cd",
   "metadata": {},
   "outputs": [],
   "source": []
  },
  {
   "cell_type": "code",
   "execution_count": null,
   "id": "410ea41a",
   "metadata": {},
   "outputs": [],
   "source": []
  },
  {
   "cell_type": "code",
   "execution_count": null,
   "id": "f6fc0e68",
   "metadata": {},
   "outputs": [],
   "source": []
  },
  {
   "cell_type": "code",
   "execution_count": null,
   "id": "b1cd6310",
   "metadata": {},
   "outputs": [],
   "source": []
  },
  {
   "cell_type": "code",
   "execution_count": null,
   "id": "8b5b20ff",
   "metadata": {},
   "outputs": [],
   "source": []
  },
  {
   "cell_type": "code",
   "execution_count": null,
   "id": "e95d34e0",
   "metadata": {},
   "outputs": [],
   "source": []
  },
  {
   "cell_type": "code",
   "execution_count": null,
   "id": "cfe9b2b0",
   "metadata": {},
   "outputs": [],
   "source": []
  },
  {
   "cell_type": "code",
   "execution_count": null,
   "id": "9ce4a746",
   "metadata": {},
   "outputs": [],
   "source": []
  },
  {
   "cell_type": "code",
   "execution_count": null,
   "id": "5526f950",
   "metadata": {},
   "outputs": [],
   "source": []
  },
  {
   "cell_type": "code",
   "execution_count": null,
   "id": "de890945",
   "metadata": {},
   "outputs": [],
   "source": []
  },
  {
   "cell_type": "code",
   "execution_count": null,
   "id": "6251569b",
   "metadata": {},
   "outputs": [],
   "source": []
  },
  {
   "cell_type": "code",
   "execution_count": null,
   "id": "7a3bcc99",
   "metadata": {},
   "outputs": [],
   "source": []
  },
  {
   "cell_type": "code",
   "execution_count": null,
   "id": "197f40d6",
   "metadata": {},
   "outputs": [],
   "source": []
  },
  {
   "cell_type": "code",
   "execution_count": null,
   "id": "00f6de8c",
   "metadata": {},
   "outputs": [],
   "source": []
  },
  {
   "cell_type": "code",
   "execution_count": null,
   "id": "4254e1a6",
   "metadata": {},
   "outputs": [],
   "source": []
  },
  {
   "cell_type": "code",
   "execution_count": null,
   "id": "0cf95ad5",
   "metadata": {},
   "outputs": [],
   "source": []
  },
  {
   "cell_type": "code",
   "execution_count": null,
   "id": "5c41224d",
   "metadata": {},
   "outputs": [],
   "source": []
  },
  {
   "cell_type": "code",
   "execution_count": null,
   "id": "02589434",
   "metadata": {},
   "outputs": [],
   "source": []
  },
  {
   "cell_type": "code",
   "execution_count": null,
   "id": "fbdbbb9a",
   "metadata": {},
   "outputs": [],
   "source": []
  },
  {
   "cell_type": "code",
   "execution_count": null,
   "id": "dc1710e5",
   "metadata": {},
   "outputs": [],
   "source": []
  },
  {
   "cell_type": "code",
   "execution_count": null,
   "id": "3d7e5f20",
   "metadata": {},
   "outputs": [],
   "source": []
  },
  {
   "cell_type": "code",
   "execution_count": null,
   "id": "00a605cd",
   "metadata": {},
   "outputs": [],
   "source": []
  },
  {
   "cell_type": "code",
   "execution_count": null,
   "id": "4849fb87",
   "metadata": {},
   "outputs": [],
   "source": []
  },
  {
   "cell_type": "code",
   "execution_count": null,
   "id": "00807b76",
   "metadata": {},
   "outputs": [],
   "source": []
  },
  {
   "cell_type": "code",
   "execution_count": null,
   "id": "23668cda",
   "metadata": {},
   "outputs": [],
   "source": []
  },
  {
   "cell_type": "code",
   "execution_count": null,
   "id": "3213919b",
   "metadata": {},
   "outputs": [],
   "source": []
  },
  {
   "cell_type": "code",
   "execution_count": null,
   "id": "647df680",
   "metadata": {},
   "outputs": [],
   "source": []
  },
  {
   "cell_type": "code",
   "execution_count": null,
   "id": "92615b35",
   "metadata": {},
   "outputs": [],
   "source": []
  },
  {
   "cell_type": "code",
   "execution_count": null,
   "id": "e648fa0c",
   "metadata": {},
   "outputs": [],
   "source": []
  },
  {
   "cell_type": "code",
   "execution_count": null,
   "id": "69155d71",
   "metadata": {},
   "outputs": [],
   "source": []
  },
  {
   "cell_type": "code",
   "execution_count": null,
   "id": "fc6bd1e6",
   "metadata": {},
   "outputs": [],
   "source": []
  },
  {
   "cell_type": "code",
   "execution_count": null,
   "id": "d204217a",
   "metadata": {},
   "outputs": [],
   "source": []
  },
  {
   "cell_type": "code",
   "execution_count": null,
   "id": "9b67499b",
   "metadata": {},
   "outputs": [],
   "source": []
  },
  {
   "cell_type": "code",
   "execution_count": null,
   "id": "8a1633c7",
   "metadata": {},
   "outputs": [],
   "source": []
  }
 ],
 "metadata": {
  "kernelspec": {
   "display_name": "Python 3 (ipykernel)",
   "language": "python",
   "name": "python3"
  },
  "language_info": {
   "codemirror_mode": {
    "name": "ipython",
    "version": 3
   },
   "file_extension": ".py",
   "mimetype": "text/x-python",
   "name": "python",
   "nbconvert_exporter": "python",
   "pygments_lexer": "ipython3",
   "version": "3.11.4"
  }
 },
 "nbformat": 4,
 "nbformat_minor": 5
}
