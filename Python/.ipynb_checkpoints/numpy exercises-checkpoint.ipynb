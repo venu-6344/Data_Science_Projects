{
 "cells": [
  {
   "cell_type": "code",
   "execution_count": 1,
   "id": "54b517a3",
   "metadata": {},
   "outputs": [
    {
     "name": "stdout",
     "output_type": "stream",
     "text": [
      "1.24.3\n"
     ]
    }
   ],
   "source": [
    "# Write a NumPy program to print the NumPy version on your system.\n",
    "\n",
    "import numpy as np\n",
    "\n",
    "print(np.__version__)"
   ]
  },
  {
   "cell_type": "code",
   "execution_count": 2,
   "id": "9fca4d90",
   "metadata": {},
   "outputs": [
    {
     "name": "stdout",
     "output_type": "stream",
     "text": [
      "[ 12.23  13.32 100.    36.32]\n"
     ]
    }
   ],
   "source": [
    "# Write a NumPy program to convert a list of numeric values into a one-dimensional NumPy array.\n",
    "# Expected Output:\n",
    "# Original List: [12.23, 13.32, 100, 36.32]\n",
    "# One-dimensional NumPy array: [ 12.23 13.32 100. 36.32]\n",
    "\n",
    "lst = [12.23, 13.32, 100, 36.32]\n",
    "arr = np.array(lst)\n",
    "print(arr)"
   ]
  },
  {
   "cell_type": "code",
   "execution_count": 6,
   "id": "d9922142",
   "metadata": {},
   "outputs": [
    {
     "data": {
      "text/plain": [
       "array([[ 2,  3,  4],\n",
       "       [ 5,  6,  7],\n",
       "       [ 8,  9, 10]])"
      ]
     },
     "execution_count": 6,
     "metadata": {},
     "output_type": "execute_result"
    }
   ],
   "source": [
    "# Write a NumPy program to create a 3x3 matrix with values ranging from 2 to 10.\n",
    "# Expected Output:\n",
    "# [[ 2 3 4]\n",
    "# [ 5 6 7]\n",
    "# [ 8 9 10]]\n",
    "\n",
    "arr = np.arange(2,11).reshape(3,3)\n",
    "arr"
   ]
  },
  {
   "cell_type": "code",
   "execution_count": 8,
   "id": "5f20943c",
   "metadata": {},
   "outputs": [
    {
     "name": "stdout",
     "output_type": "stream",
     "text": [
      "[0. 0. 0. 0. 0. 0. 0. 0. 0. 0.]\n",
      "[ 0.  0.  0.  0.  0.  0. 11.  0.  0.  0.]\n"
     ]
    }
   ],
   "source": [
    "# Write a NumPy program to create a null vector of size 10 and update the sixth value to 11.\n",
    "# [ 0. 0. 0. 0. 0. 0. 0. 0. 0. 0.]\n",
    "# Update sixth value to 11\n",
    "# [ 0. 0. 0. 0. 0. 0. 11. 0. 0. 0.]\n",
    "\n",
    "arr = np.zeros(10)\n",
    "print(arr)\n",
    "arr[6] = 11\n",
    "print(arr)"
   ]
  },
  {
   "cell_type": "code",
   "execution_count": 10,
   "id": "58aa0c11",
   "metadata": {},
   "outputs": [
    {
     "name": "stdout",
     "output_type": "stream",
     "text": [
      "[12 13 14 15 16 17 18 19 20 21 22 23 24 25 26 27 28 29 30 31 32 33 34 35\n",
      " 36 37]\n"
     ]
    }
   ],
   "source": [
    "# Write a NumPy program to create an array with values ranging from 12 to 38.\n",
    "# Expected Output:\n",
    "# [12 13 14 15 16 17 18 19 20 21 22 23 24 25 26 27 28 29 30 31 32 33 34 35 36 37]\n",
    "\n",
    "arr = np.arange(12,38)\n",
    "print(arr)"
   ]
  },
  {
   "cell_type": "code",
   "execution_count": 13,
   "id": "b47d5098",
   "metadata": {},
   "outputs": [
    {
     "name": "stdout",
     "output_type": "stream",
     "text": [
      "Reverse of the array arr is : \n",
      " [37 36 35 34 33 32 31 30 29 28 27 26 25 24 23 22 21 20 19 18 17 16 15 14\n",
      " 13 12]\n"
     ]
    }
   ],
   "source": [
    "# Write a NumPy program to reverse an array (the first element becomes the last).\n",
    "# Original array:\n",
    "# [12 13 14 15 16 17 18 19 20 21 22 23 24 25 26 27 28 29 30 31 32 33 34 35 36 37]\n",
    "# Reverse array:\n",
    "# [37 36 35 34 33 32 31 30 29 28 27 26 25 24 23 22 21 20 19 18 17 16 15 14 13 12]\n",
    "\n",
    "arr = np.arange(12,38)\n",
    "\n",
    "print('Reverse of the array arr is : \\n', arr[::-1])"
   ]
  },
  {
   "cell_type": "code",
   "execution_count": 15,
   "id": "27ca721f",
   "metadata": {},
   "outputs": [
    {
     "name": "stdout",
     "output_type": "stream",
     "text": [
      "[1. 2. 3. 4.]\n"
     ]
    }
   ],
   "source": [
    "# Write a NumPy program to convert an array to a floating type.\n",
    "# Sample output:\n",
    "# Original array\n",
    "# [1, 2, 3, 4]\n",
    "# Array converted to a float type:\n",
    "# [ 1. 2. 3. 4.]\n",
    "\n",
    "lst = [1, 2, 3, 4]\n",
    "arr = np.array(lst)\n",
    "\n",
    "arr1 = arr.astype(float)\n",
    "print(arr1)"
   ]
  },
  {
   "cell_type": "code",
   "execution_count": 20,
   "id": "a6651920",
   "metadata": {},
   "outputs": [
    {
     "name": "stdout",
     "output_type": "stream",
     "text": [
      "Original array \n",
      " [[1. 1. 1. 1. 1.]\n",
      " [1. 1. 1. 1. 1.]\n",
      " [1. 1. 1. 1. 1.]\n",
      " [1. 1. 1. 1. 1.]\n",
      " [1. 1. 1. 1. 1.]]\n",
      "array with ones on the border and zeros in the middle : \n",
      " [[1. 1. 1. 1. 1.]\n",
      " [1. 0. 0. 0. 1.]\n",
      " [1. 0. 0. 0. 1.]\n",
      " [1. 0. 0. 0. 1.]\n",
      " [1. 1. 1. 1. 1.]]\n"
     ]
    }
   ],
   "source": [
    "# Write a NumPy program to create a 2D array with 1 on the border and 0 inside.\n",
    "# Expected Output:\n",
    "# Original array:\n",
    "# [[ 1. 1. 1. 1. 1.]\n",
    "# ...................\n",
    "# [ 1. 1. 1. 1. 1.]]\n",
    "# 1 on the border and 0 inside in the array\n",
    "# [[ 1. 1. 1. 1. 1.]\n",
    "# ...................\n",
    "# [ 1. 1. 1. 1. 1.]]\n",
    "\n",
    "x = np.ones((5,5))\n",
    "print('Original array \\n', x)\n",
    "x[1:-1, 1:-1] = 0\n",
    "print('array with ones on the border and zeros in the middle : \\n', x)"
   ]
  },
  {
   "cell_type": "code",
   "execution_count": 25,
   "id": "2a0da3c6",
   "metadata": {},
   "outputs": [
    {
     "name": "stdout",
     "output_type": "stream",
     "text": [
      "original array: \n",
      " [[1. 1. 1.]\n",
      " [1. 1. 1.]\n",
      " [1. 1. 1.]]\n",
      "1 on the border and 0 inside in the array \n",
      " [[0. 0. 0. 0. 0.]\n",
      " [0. 1. 1. 1. 0.]\n",
      " [0. 1. 1. 1. 0.]\n",
      " [0. 1. 1. 1. 0.]\n",
      " [0. 0. 0. 0. 0.]]\n"
     ]
    }
   ],
   "source": [
    "# Write a NumPy program to add a border (filled with 0's) around an existing array.\n",
    "# Expected Output:\n",
    "# Original array:\n",
    "# [[ 1. 1. 1.]\n",
    "# [ 1. 1. 1.]\n",
    "# [ 1. 1. 1.]]\n",
    "# 1 on the border and 0 inside in the array\n",
    "# [[ 0. 0. 0. 0. 0.]\n",
    "# ...........\n",
    "# [ 0. 0. 0. 0. 0.]]\n",
    "\n",
    "x = np.ones((3,3))\n",
    "print('original array: \\n', x)\n",
    "\n",
    "x = np.pad(x, pad_width = 1, mode = 'constant', constant_values = 0)\n",
    "print('1 on the border and 0 inside in the array \\n', x)"
   ]
  },
  {
   "cell_type": "code",
   "execution_count": 2,
   "id": "1bb630e5",
   "metadata": {},
   "outputs": [
    {
     "name": "stdout",
     "output_type": "stream",
     "text": [
      "[[0. 1. 0. 1. 0. 1. 0. 1.]\n",
      " [1. 0. 1. 0. 1. 0. 1. 0.]\n",
      " [0. 1. 0. 1. 0. 1. 0. 1.]\n",
      " [1. 0. 1. 0. 1. 0. 1. 0.]\n",
      " [0. 1. 0. 1. 0. 1. 0. 1.]\n",
      " [1. 0. 1. 0. 1. 0. 1. 0.]\n",
      " [0. 1. 0. 1. 0. 1. 0. 1.]\n",
      " [1. 0. 1. 0. 1. 0. 1. 0.]]\n"
     ]
    }
   ],
   "source": [
    "# Write a NumPy program to create an 8x8 matrix and fill it with a checkerboard pattern.\n",
    "# Checkerboard pattern:\n",
    "# [[0 1 0 1 0 1 0 1]\n",
    "# ..........\n",
    "# [0 1 0 1 0 1 0 1]\n",
    "# [1 0 1 0 1 0 1 0]]\n",
    "import numpy as np\n",
    "\n",
    "x = np.zeros((8,8))\n",
    "\n",
    "x[1::2, ::2] = 1\n",
    "x[::2, 1::2] = 1\n",
    "\n",
    "print(x)"
   ]
  },
  {
   "cell_type": "code",
   "execution_count": 5,
   "id": "a1faaed8",
   "metadata": {},
   "outputs": [
    {
     "name": "stdout",
     "output_type": "stream",
     "text": [
      "[10 20 30 40 50 60 70 80]\n"
     ]
    }
   ],
   "source": [
    "# Write a NumPy program to append values to the end of an array.\n",
    "# Expected Output:\n",
    "# Original array:\n",
    "# [10, 20, 30]\n",
    "# After append values to the end of the array:\n",
    "# [10 20 30 40 50 60 70 80 90]\n",
    "\n",
    "a = np.array([10,20,30])\n",
    "b = np.array([40, 50, 60, 70, 80])\n",
    "\n",
    "a = np.append(a,b)\n",
    "print(a)"
   ]
  },
  {
   "cell_type": "code",
   "execution_count": 8,
   "id": "8dff47f3",
   "metadata": {},
   "outputs": [
    {
     "name": "stdout",
     "output_type": "stream",
     "text": [
      "[[8.50778157e-312 3.16202013e-322 0.00000000e+000 0.00000000e+000]\n",
      " [7.56587583e-307 1.28966143e+165 1.33920410e-075 1.64825138e+185]\n",
      " [1.84806868e-076 2.80535071e-032 6.16963457e-062 1.17740840e-047]]\n",
      "[[6 6 6]\n",
      " [6 6 6]\n",
      " [6 6 6]]\n"
     ]
    }
   ],
   "source": [
    "# Write a NumPy program to create an empty and full array.\n",
    "# Expected Output:\n",
    "# [ 6.93270651e-310 1.59262180e-316 6.93270559e-310 6.93270665e-310]\n",
    "# [ 6.93270667e-310 6.93270671e-310 6.93270668e-310 6.93270483e-310]\n",
    "# [ 6.93270668e-310 6.93270671e-310 6.93270370e-310 6.93270488e-310]]\n",
    "# [[6 6 6]\n",
    "# [6 6 6]\n",
    "# [6 6 6]]\n",
    "\n",
    "a = np.empty((3,4))\n",
    "print(a)\n",
    "b = np.full((3,3), 6)\n",
    "print(b)"
   ]
  },
  {
   "cell_type": "code",
   "execution_count": 11,
   "id": "d308abdb",
   "metadata": {},
   "outputs": [
    {
     "name": "stdout",
     "output_type": "stream",
     "text": [
      "values in Fahrenheit degrees : \n",
      " [ 0.   12.   45.21 34.   99.91]\n",
      "Values in Centigrade degrees : \n",
      " [-17.78 -11.11   7.34   1.11  37.73   0.  ]\n",
      "Values converted to centigrade from fahrenheit degrees are : \n",
      "[-17.78 -11.11   7.34   1.11  37.73]\n"
     ]
    }
   ],
   "source": [
    "# Write a NumPy program to convert Centigrade degrees into Fahrenheit degrees. Centigrade values are stored in a NumPy array.\n",
    "# Sample Array [0, 12, 45.21, 34, 99.91]\n",
    "# [-17.78, -11.11, 7.34, 1.11, 37.73, 0. ]\n",
    "# Expected Output:\n",
    "# Values in Fahrenheit degrees:\n",
    "# [ 0. 12. 45.21 34. 99.91 32. ]\n",
    "# Values in Centigrade degrees:\n",
    "# [-17.78 -11.11 7.34 1.11 37.73 0. ]\n",
    "\n",
    "# Values in Centigrade degrees:\n",
    "# [-17.78 -11.11 7.34 1.11 37.73 0. ]\n",
    "# Values in Fahrenheit degrees:\n",
    "# [-0. 12. 45.21 34. 99.91 32. ]\n",
    "\n",
    "fahn_values = [0, 12, 45.21, 34, 99.91]\n",
    "f = np.array(fahn_values)\n",
    "print('values in Fahrenheit degrees : \\n', f)\n",
    "\n",
    "cent_values = [-17.78, -11.11, 7.34, 1.11, 37.73, 0. ]\n",
    "c = np.array([-17.78, -11.11, 7.34, 1.11, 37.73, 0. ])\n",
    "print('Values in Centigrade degrees : \\n', c)\n",
    "\n",
    "print('Values converted to centigrade from fahrenheit degrees are : ')\n",
    "print(np.round((5*f/9 - 5*32/9),2))"
   ]
  },
  {
   "cell_type": "code",
   "execution_count": 4,
   "id": "0458503e",
   "metadata": {},
   "outputs": [
    {
     "name": "stdout",
     "output_type": "stream",
     "text": [
      "original array, x : \n",
      " (1+0j)\n",
      "original array, y : \n",
      " (0.7071067811865476+0.7071067811865475j)\n",
      "\n",
      "Real part of array x and y : \n",
      "1.0\n",
      "0.7071067811865476\n",
      "\n",
      "Imaginary part of array x and y : \n",
      "0.0\n",
      "0.7071067811865475\n"
     ]
    }
   ],
   "source": [
    "# Write a NumPy program to find the real and imaginary parts of an array of complex numbers.\n",
    "# Expected Output:\n",
    "# Original array [ 1.00000000+0.j 0.70710678+0.70710678j]\n",
    "# Real part of the array:\n",
    "# [ 1. 0.70710678]\n",
    "# Imaginary part of the array:\n",
    "# [ 0. 0.70710678]\n",
    "\n",
    "import numpy as np\n",
    "\n",
    "x = np.sqrt(1 + 0j)\n",
    "\n",
    "y = np.sqrt(0 + 1j)\n",
    "\n",
    "print('original array, x : \\n', x)\n",
    "print('original array, y : \\n', y)\n",
    "\n",
    "print('\\nReal part of array x and y : ')\n",
    "print(x.real)\n",
    "print(y.real)\n",
    "\n",
    "print('\\nImaginary part of array x and y : ')\n",
    "print(x.imag)\n",
    "print(y.imag)\n",
    "\n"
   ]
  },
  {
   "cell_type": "code",
   "execution_count": 8,
   "id": "b723a935",
   "metadata": {},
   "outputs": [
    {
     "name": "stdout",
     "output_type": "stream",
     "text": [
      "DISPLAY names in sorted pair lexicographically: \n",
      "\n",
      "[0 1 2 3 4]\n"
     ]
    }
   ],
   "source": [
    "# Write a NumPy program to sort pairs of a first name and a last name and return their indices (first by last name, then by first name).\n",
    "first_names = ('Betsey', 'Shelley', 'Lanell', 'Genesis', 'Margery')\n",
    "last_names = ('Battle', 'Brien', 'Plotner', 'Stahl', 'Woolum')\n",
    "\n",
    "x = np.lexsort((first_names, last_names))\n",
    "\n",
    "print('DISPLAY names in sorted pair lexicographically: \\n')\n",
    "print(x)\n",
    "\n"
   ]
  },
  {
   "cell_type": "code",
   "execution_count": 9,
   "id": "e3cc1181",
   "metadata": {},
   "outputs": [
    {
     "name": "stdout",
     "output_type": "stream",
     "text": [
      "original array : \n",
      "\n",
      "[[ 0 10 20]\n",
      " [20 30 40]]\n",
      "values bigger than 10 =  [20 20 30 40]\n",
      "indices are  (array([0, 1, 1, 1], dtype=int64), array([2, 0, 1, 2], dtype=int64))\n"
     ]
    }
   ],
   "source": [
    "# Write a NumPy program to get the values and indices of the elements that are bigger than 10 in a given array.\n",
    "\n",
    "x = np.array([[0, 10, 20], [20, 30, 40]])\n",
    "\n",
    "print('original array : \\n')\n",
    "print(x)\n",
    "\n",
    "print('values bigger than 10 = ', x[x>10])\n",
    "\n",
    "print('indices are ', np.nonzero(x > 10))"
   ]
  },
  {
   "cell_type": "code",
   "execution_count": null,
   "id": "37bfa078",
   "metadata": {},
   "outputs": [],
   "source": []
  },
  {
   "cell_type": "code",
   "execution_count": null,
   "id": "4d3357d2",
   "metadata": {},
   "outputs": [],
   "source": []
  },
  {
   "cell_type": "code",
   "execution_count": null,
   "id": "f1a11e0a",
   "metadata": {},
   "outputs": [],
   "source": []
  },
  {
   "cell_type": "code",
   "execution_count": null,
   "id": "f0a9d608",
   "metadata": {},
   "outputs": [],
   "source": []
  },
  {
   "cell_type": "code",
   "execution_count": null,
   "id": "93707769",
   "metadata": {},
   "outputs": [],
   "source": []
  },
  {
   "cell_type": "code",
   "execution_count": null,
   "id": "76bdd95d",
   "metadata": {},
   "outputs": [],
   "source": []
  },
  {
   "cell_type": "code",
   "execution_count": null,
   "id": "15347a52",
   "metadata": {},
   "outputs": [],
   "source": []
  },
  {
   "cell_type": "code",
   "execution_count": null,
   "id": "a784e1ad",
   "metadata": {},
   "outputs": [],
   "source": []
  },
  {
   "cell_type": "code",
   "execution_count": null,
   "id": "02189b15",
   "metadata": {},
   "outputs": [],
   "source": []
  },
  {
   "cell_type": "code",
   "execution_count": null,
   "id": "48e5ac82",
   "metadata": {},
   "outputs": [],
   "source": []
  },
  {
   "cell_type": "code",
   "execution_count": null,
   "id": "99caa7c9",
   "metadata": {},
   "outputs": [],
   "source": []
  },
  {
   "cell_type": "code",
   "execution_count": null,
   "id": "cad25453",
   "metadata": {},
   "outputs": [],
   "source": []
  },
  {
   "cell_type": "code",
   "execution_count": null,
   "id": "edd5411e",
   "metadata": {},
   "outputs": [],
   "source": []
  },
  {
   "cell_type": "code",
   "execution_count": null,
   "id": "acf1ea9b",
   "metadata": {},
   "outputs": [],
   "source": []
  },
  {
   "cell_type": "code",
   "execution_count": null,
   "id": "befc939f",
   "metadata": {},
   "outputs": [],
   "source": []
  },
  {
   "cell_type": "code",
   "execution_count": null,
   "id": "844810ec",
   "metadata": {},
   "outputs": [],
   "source": []
  },
  {
   "cell_type": "code",
   "execution_count": null,
   "id": "e6d9af09",
   "metadata": {},
   "outputs": [],
   "source": []
  },
  {
   "cell_type": "code",
   "execution_count": null,
   "id": "9aac8fec",
   "metadata": {},
   "outputs": [],
   "source": []
  }
 ],
 "metadata": {
  "kernelspec": {
   "display_name": "Python 3 (ipykernel)",
   "language": "python",
   "name": "python3"
  },
  "language_info": {
   "codemirror_mode": {
    "name": "ipython",
    "version": 3
   },
   "file_extension": ".py",
   "mimetype": "text/x-python",
   "name": "python",
   "nbconvert_exporter": "python",
   "pygments_lexer": "ipython3",
   "version": "3.11.4"
  }
 },
 "nbformat": 4,
 "nbformat_minor": 5
}
