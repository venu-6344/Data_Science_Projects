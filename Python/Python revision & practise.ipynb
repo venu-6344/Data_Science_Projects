{
 "cells": [
  {
   "cell_type": "raw",
   "id": "73da01c5",
   "metadata": {},
   "source": [
    "## PYTHON LANGUAGE AND IT'S FEATURES\n",
    "\n",
    "1. Python is a general purpose programming language.\n",
    "2. Some good features of python  -  simple and easy to learn, being most expressive language easy to write the code, which is less cluttered code, faster execution, easy to debug.\n",
    "3. freeware and open source language and it's orignal code is also available.\n",
    "4. Originally python developed to bridge the gap between c and shall scripting and also included exception handling from ABC language. Initially it was only interpreted language but later it made both compiled and interpreted by making it portable and platform independent.\n",
    "5. source code is portable and byte code is platform independent where as C is portable but not platform independent.\n",
    "6. Dynamic typed language : In Python no need to mention the datatype explicitly.  \n",
    "7. Extensible and Embedded : Extensible as extending code from other languages to python.  Embedded as embedding python code in to other languages.\n",
    "8. Python comes with huge support from it's libraries for it's usability.\n",
    "9. Community support - python has huge community support \n",
    "\n",
    "some important commands for python program execution:\n",
    "1. python filename.py ->  To run the file\n",
    "2. python -m py_compile filename.py -> to compile the file.\n",
    "3. python -m dis filename.py -> to see the byte code.\n",
    "4. python  filename.cpython-38.pyc -> To run the compiled code.\n",
    "\n"
   ]
  },
  {
   "cell_type": "raw",
   "id": "69140382",
   "metadata": {},
   "source": [
    "Python support automatic garbage collection which uses a combination of reference counting and cycle-detecting garbage collector for memory management and optimisation. It runs time to time and collects any object when it's count reaches zero. This is managed by PVM and use need not interfere but we may enable/disable the GC IF REQUIRED."
   ]
  },
  {
   "cell_type": "code",
   "execution_count": 1,
   "id": "0eae368a",
   "metadata": {},
   "outputs": [
    {
     "name": "stdout",
     "output_type": "stream",
     "text": [
      "['DEBUG_COLLECTABLE', 'DEBUG_LEAK', 'DEBUG_SAVEALL', 'DEBUG_STATS', 'DEBUG_UNCOLLECTABLE', '__doc__', '__loader__', '__name__', '__package__', '__spec__', 'callbacks', 'collect', 'disable', 'enable', 'freeze', 'garbage', 'get_count', 'get_debug', 'get_freeze_count', 'get_objects', 'get_referents', 'get_referrers', 'get_stats', 'get_threshold', 'is_finalized', 'is_tracked', 'isenabled', 'set_debug', 'set_threshold', 'unfreeze'] \n",
      "\n",
      "True \n",
      "\n",
      "False \n",
      "\n",
      "True \n",
      "\n"
     ]
    }
   ],
   "source": [
    "# Program to check the status of Garbage collection and disable, enable the same.\n",
    "\n",
    "import gc\n",
    "print(dir(gc), '\\n')\n",
    "print(gc.isenabled(), '\\n')\n",
    "gc.disable()\n",
    "print(gc.isenabled(), '\\n')\n",
    "gc.enable()\n",
    "print(gc.isenabled(), '\\n')"
   ]
  },
  {
   "cell_type": "code",
   "execution_count": null,
   "id": "9e7d85da",
   "metadata": {},
   "outputs": [],
   "source": []
  },
  {
   "cell_type": "code",
   "execution_count": null,
   "id": "1f3d0d82",
   "metadata": {},
   "outputs": [],
   "source": []
  },
  {
   "cell_type": "code",
   "execution_count": null,
   "id": "44d7184a",
   "metadata": {},
   "outputs": [],
   "source": []
  },
  {
   "cell_type": "code",
   "execution_count": null,
   "id": "92c52cea",
   "metadata": {},
   "outputs": [],
   "source": []
  },
  {
   "cell_type": "code",
   "execution_count": 16,
   "id": "b302f98f",
   "metadata": {},
   "outputs": [
    {
     "name": "stdout",
     "output_type": "stream",
     "text": [
      "Enter hours :45\n",
      "Enter rate :3\n",
      "The gross would be : 135.0\n"
     ]
    }
   ],
   "source": [
    "hours = int(input('Enter hours :'))\n",
    "rate = float(input('Enter rate :'))\n",
    "gross = hours * rate\n",
    "print('The gross would be :', gross)"
   ]
  },
  {
   "cell_type": "code",
   "execution_count": 1,
   "id": "94196e92",
   "metadata": {},
   "outputs": [
    {
     "name": "stdout",
     "output_type": "stream",
     "text": [
      "[2, 3, 5, 7, 11, 13, 17, 19, 23, 29, 31, 37, 41, 43, 47, 53, 59, 61, 67, 71, 73, 79, 83, 89, 97]\n"
     ]
    }
   ],
   "source": [
    "# prime number upto 100\n",
    "n = 1\n",
    "prime = []\n",
    "for n in range(2, 101):\n",
    "    if n > 1:\n",
    "        for i in range(2, n):\n",
    "            if (n % i == 0):\n",
    "                break\n",
    "        else:\n",
    "            prime.append(n)\n",
    "print(prime)\n",
    "\n",
    "# prime = []\n",
    "# for i in range(2, 101):\n",
    "#     if all (i%p for p in prime):\n",
    "#         prime.append(i)\n",
    "# print(prime)\n",
    "\n",
    "#3rd method\n",
    "# import sympy\n",
    "# %timeit\n",
    "# print([i for i in range(1, 101) if sympy.isprime(i)])"
   ]
  },
  {
   "cell_type": "code",
   "execution_count": 20,
   "id": "effd8744",
   "metadata": {},
   "outputs": [
    {
     "name": "stderr",
     "output_type": "stream",
     "text": [
      "IOPub data rate exceeded.\n",
      "The notebook server will temporarily stop sending output\n",
      "to the client in order to avoid crashing it.\n",
      "To change this limit, set the config variable\n",
      "`--NotebookApp.iopub_data_rate_limit`.\n",
      "\n",
      "Current values:\n",
      "NotebookApp.iopub_data_rate_limit=1000000.0 (bytes/sec)\n",
      "NotebookApp.rate_limit_window=3.0 (secs)\n",
      "\n"
     ]
    }
   ],
   "source": [
    "# Python help function will give complete information about keyword, function, object, class etc.,\n",
    "\n",
    "help(sympy)"
   ]
  },
  {
   "cell_type": "code",
   "execution_count": 1,
   "id": "d48aebcd",
   "metadata": {},
   "outputs": [
    {
     "data": {
      "text/plain": [
       "['__abs__',\n",
       " '__add__',\n",
       " '__and__',\n",
       " '__bool__',\n",
       " '__ceil__',\n",
       " '__class__',\n",
       " '__delattr__',\n",
       " '__dir__',\n",
       " '__divmod__',\n",
       " '__doc__',\n",
       " '__eq__',\n",
       " '__float__',\n",
       " '__floor__',\n",
       " '__floordiv__',\n",
       " '__format__',\n",
       " '__ge__',\n",
       " '__getattribute__',\n",
       " '__getnewargs__',\n",
       " '__gt__',\n",
       " '__hash__',\n",
       " '__index__',\n",
       " '__init__',\n",
       " '__init_subclass__',\n",
       " '__int__',\n",
       " '__invert__',\n",
       " '__le__',\n",
       " '__lshift__',\n",
       " '__lt__',\n",
       " '__mod__',\n",
       " '__mul__',\n",
       " '__ne__',\n",
       " '__neg__',\n",
       " '__new__',\n",
       " '__or__',\n",
       " '__pos__',\n",
       " '__pow__',\n",
       " '__radd__',\n",
       " '__rand__',\n",
       " '__rdivmod__',\n",
       " '__reduce__',\n",
       " '__reduce_ex__',\n",
       " '__repr__',\n",
       " '__rfloordiv__',\n",
       " '__rlshift__',\n",
       " '__rmod__',\n",
       " '__rmul__',\n",
       " '__ror__',\n",
       " '__round__',\n",
       " '__rpow__',\n",
       " '__rrshift__',\n",
       " '__rshift__',\n",
       " '__rsub__',\n",
       " '__rtruediv__',\n",
       " '__rxor__',\n",
       " '__setattr__',\n",
       " '__sizeof__',\n",
       " '__str__',\n",
       " '__sub__',\n",
       " '__subclasshook__',\n",
       " '__truediv__',\n",
       " '__trunc__',\n",
       " '__xor__',\n",
       " 'as_integer_ratio',\n",
       " 'bit_length',\n",
       " 'conjugate',\n",
       " 'denominator',\n",
       " 'from_bytes',\n",
       " 'imag',\n",
       " 'numerator',\n",
       " 'real',\n",
       " 'to_bytes']"
      ]
     },
     "execution_count": 1,
     "metadata": {},
     "output_type": "execute_result"
    }
   ],
   "source": [
    "# Python dir function will give complete list of inbuilt methods, functions of the word mentioned.\n",
    "\n",
    "dir(int)"
   ]
  },
  {
   "cell_type": "code",
   "execution_count": null,
   "id": "ed73a94b",
   "metadata": {},
   "outputs": [],
   "source": []
  },
  {
   "cell_type": "code",
   "execution_count": null,
   "id": "054a6615",
   "metadata": {},
   "outputs": [],
   "source": []
  },
  {
   "cell_type": "code",
   "execution_count": 2,
   "id": "7003dda8",
   "metadata": {},
   "outputs": [
    {
     "name": "stdout",
     "output_type": "stream",
     "text": [
      "Enter first number : >23\n",
      "Enter second number : >34\n",
      "Enter third number : >45\n",
      "The average of given 3 numbers is :  34.0\n"
     ]
    }
   ],
   "source": [
    "num1 = int(input('Enter first number : >'))\n",
    "num2 = int(input('Enter second number : >'))\n",
    "num3 = int(input('Enter third number : >'))\n",
    "average = (num1 + num2 + num3)/3\n",
    "\n",
    "print('The average of given 3 numbers is : ', average)"
   ]
  },
  {
   "cell_type": "code",
   "execution_count": 3,
   "id": "729abf36",
   "metadata": {},
   "outputs": [
    {
     "name": "stdout",
     "output_type": "stream",
     "text": [
      "Enter dog's age in human years :>15\n",
      "Dog age in dog years is :  73.0\n"
     ]
    }
   ],
   "source": [
    "dog_age_human_yrs = int(input(\"Enter dog's age in human years :>\"))\n",
    "dog_age_dog_yrs = (2*10.5)+((dog_age_human_yrs -2)*4)\n",
    "\n",
    "print('Dog age in dog years is : ', dog_age_dog_yrs)"
   ]
  },
  {
   "cell_type": "raw",
   "id": "e64be446",
   "metadata": {},
   "source": [
    "Data types in python - 14\n",
    "fundamental datatypes - int, float, string, complex, boolean, None.\n",
    "derived datatypes - list, tuple, set, frozen set, dictionary, bytes, bytearray, range\n",
    "These are also called objects, literals.\n",
    "10 - int\n",
    "10.20 - float\n",
    "10+20j - complex\n",
    "None - none literal\n",
    "True, False - boolean\n",
    "binary - 0b10101\n",
    "octal - -0o76543\n",
    "hexa decimal - 0xfc98\n",
    "'a' - string literal"
   ]
  },
  {
   "cell_type": "markdown",
   "id": "6331f2e9",
   "metadata": {},
   "source": [
    "Statements :\n",
    "combination of expression and other components of python like below\n",
    "1. assignment\n",
    "2. conditional\n",
    "3. loop\n",
    "4. with functional\n",
    "may give result or not."
   ]
  },
  {
   "cell_type": "raw",
   "id": "6f5a2f1d",
   "metadata": {},
   "source": [
    "num = 10 - name of variable identifier\n",
    "NUM = 100 - name of constant identifier - all the letters in constant identifier should be capitals as per PEP 8\n",
    "def add():  - add is a function identifier, def is a function keyword\n",
    "Identifier rules\n",
    "should not be too lenghty\n",
    "may contain A-Z, a - z, 0-9, _ etc.,\n",
    "case sensitive\n",
    "not allowed characters - special characters\n",
    "should not start with numeral - num1, n1um are acceptable but 1num is not acceptable.\n",
    "can start with _\n",
    "Do not use reserved words as identifier.\n",
    "private identifiers \n",
    "_abc - can't accessed outside the module\n",
    "__abc - can't be accessed outside class in same module\n",
    "__abc__ very strong private and can't be used "
   ]
  },
  {
   "cell_type": "code",
   "execution_count": 4,
   "id": "3e344218",
   "metadata": {},
   "outputs": [
    {
     "name": "stdout",
     "output_type": "stream",
     "text": [
      "['False', 'None', 'True', '__peg_parser__', 'and', 'as', 'assert', 'async', 'await', 'break', 'class', 'continue', 'def', 'del', 'elif', 'else', 'except', 'finally', 'for', 'from', 'global', 'if', 'import', 'in', 'is', 'lambda', 'nonlocal', 'not', 'or', 'pass', 'raise', 'return', 'try', 'while', 'with', 'yield']\n"
     ]
    }
   ],
   "source": [
    "import keyword\n",
    "print(keyword.kwlist)"
   ]
  },
  {
   "cell_type": "code",
   "execution_count": 5,
   "id": "d3d42bc7",
   "metadata": {},
   "outputs": [
    {
     "name": "stdout",
     "output_type": "stream",
     "text": [
      "['In', 'Out', '_', '__', '___', '__builtin__', '__builtins__', '__doc__', '__loader__', '__name__', '__package__', '__spec__', '_dh', '_i', '_i1', '_i2', '_i3', '_i4', '_i5', '_ih', '_ii', '_iii', '_oh', 'average', 'dog_age_dog_yrs', 'dog_age_human_yrs', 'exit', 'get_ipython', 'gross', 'hours', 'keyword', 'num1', 'num2', 'num3', 'quit', 'rate']\n"
     ]
    }
   ],
   "source": [
    "print(dir())"
   ]
  },
  {
   "cell_type": "code",
   "execution_count": 6,
   "id": "794a2d28",
   "metadata": {},
   "outputs": [
    {
     "name": "stdout",
     "output_type": "stream",
     "text": [
      "['__abs__', '__add__', '__and__', '__bool__', '__ceil__', '__class__', '__delattr__', '__dir__', '__divmod__', '__doc__', '__eq__', '__float__', '__floor__', '__floordiv__', '__format__', '__ge__', '__getattribute__', '__getnewargs__', '__gt__', '__hash__', '__index__', '__init__', '__init_subclass__', '__int__', '__invert__', '__le__', '__lshift__', '__lt__', '__mod__', '__mul__', '__ne__', '__neg__', '__new__', '__or__', '__pos__', '__pow__', '__radd__', '__rand__', '__rdivmod__', '__reduce__', '__reduce_ex__', '__repr__', '__rfloordiv__', '__rlshift__', '__rmod__', '__rmul__', '__ror__', '__round__', '__rpow__', '__rrshift__', '__rshift__', '__rsub__', '__rtruediv__', '__rxor__', '__setattr__', '__sizeof__', '__str__', '__sub__', '__subclasshook__', '__truediv__', '__trunc__', '__xor__', 'as_integer_ratio', 'bit_length', 'conjugate', 'denominator', 'from_bytes', 'imag', 'numerator', 'real', 'to_bytes']\n"
     ]
    }
   ],
   "source": [
    "print(dir(int))"
   ]
  },
  {
   "cell_type": "code",
   "execution_count": 7,
   "id": "6f143705",
   "metadata": {},
   "outputs": [
    {
     "name": "stdout",
     "output_type": "stream",
     "text": [
      "['__abs__', '__add__', '__bool__', '__ceil__', '__class__', '__delattr__', '__dir__', '__divmod__', '__doc__', '__eq__', '__float__', '__floor__', '__floordiv__', '__format__', '__ge__', '__getattribute__', '__getformat__', '__getnewargs__', '__gt__', '__hash__', '__init__', '__init_subclass__', '__int__', '__le__', '__lt__', '__mod__', '__mul__', '__ne__', '__neg__', '__new__', '__pos__', '__pow__', '__radd__', '__rdivmod__', '__reduce__', '__reduce_ex__', '__repr__', '__rfloordiv__', '__rmod__', '__rmul__', '__round__', '__rpow__', '__rsub__', '__rtruediv__', '__set_format__', '__setattr__', '__sizeof__', '__str__', '__sub__', '__subclasshook__', '__truediv__', '__trunc__', 'as_integer_ratio', 'conjugate', 'fromhex', 'hex', 'imag', 'is_integer', 'real']\n"
     ]
    }
   ],
   "source": [
    "print(dir(float))"
   ]
  },
  {
   "cell_type": "markdown",
   "id": "bc17fbe9",
   "metadata": {},
   "source": [
    "where you need to make block - if, else, elif, for, while, def, class, try, except, finally. \n",
    "for all these blocks it will follow indentation rules.\n"
   ]
  },
  {
   "cell_type": "code",
   "execution_count": 8,
   "id": "434b901f",
   "metadata": {},
   "outputs": [
    {
     "name": "stdout",
     "output_type": "stream",
     "text": [
      "Enter intezer value2\n",
      "(2+0j) <class 'complex'>\n",
      "Enter intezer value2\n",
      "Enter a integer value5\n",
      "(2+5j) <class 'complex'>\n"
     ]
    }
   ],
   "source": [
    "# input function\n",
    "a = complex(input('Enter intezer value'))\n",
    "print(a, type(a))\n",
    "\n",
    "b = complex(float(input('Enter intezer value')),(float(input('Enter a integer value'))))\n",
    "print(b, type(b))\n"
   ]
  },
  {
   "cell_type": "code",
   "execution_count": 9,
   "id": "b4b092bb",
   "metadata": {},
   "outputs": [
    {
     "name": "stdout",
     "output_type": "stream",
     "text": [
      "10\n",
      "10\n",
      "10\n",
      "1\n",
      "21\n",
      "32099\n",
      "1034637\n",
      "10\n"
     ]
    }
   ],
   "source": [
    "# Type casting\n",
    "print(int(10))\n",
    "print(int(10.20))\n",
    "print(int('10'))\n",
    "print(int(True))\n",
    "print(int(0b10101))\n",
    "print(int(0o76543))\n",
    "print(int(0xfc98d))\n",
    "#print(int(10+20j))\n",
    "\n",
    "print(int(float('10')))"
   ]
  },
  {
   "cell_type": "code",
   "execution_count": 10,
   "id": "b3397f35",
   "metadata": {},
   "outputs": [
    {
     "ename": "ValueError",
     "evalue": "invalid literal for int() with base 10: '10.200'",
     "output_type": "error",
     "traceback": [
      "\u001b[1;31m---------------------------------------------------------------------------\u001b[0m",
      "\u001b[1;31mValueError\u001b[0m                                Traceback (most recent call last)",
      "\u001b[1;32m~\\AppData\\Local\\Temp/ipykernel_13208/3246490012.py\u001b[0m in \u001b[0;36m<module>\u001b[1;34m\u001b[0m\n\u001b[1;32m----> 1\u001b[1;33m \u001b[0ma\u001b[0m \u001b[1;33m=\u001b[0m \u001b[0mint\u001b[0m\u001b[1;33m(\u001b[0m\u001b[1;34m'10.200'\u001b[0m\u001b[1;33m)\u001b[0m\u001b[1;33m\u001b[0m\u001b[1;33m\u001b[0m\u001b[0m\n\u001b[0m\u001b[0;32m      2\u001b[0m \u001b[0mprint\u001b[0m\u001b[1;33m(\u001b[0m\u001b[0ma\u001b[0m\u001b[1;33m,\u001b[0m \u001b[0mtype\u001b[0m\u001b[1;33m(\u001b[0m\u001b[0ma\u001b[0m\u001b[1;33m)\u001b[0m\u001b[1;33m)\u001b[0m \u001b[1;31m# two level conversion is not possible.\u001b[0m\u001b[1;33m\u001b[0m\u001b[1;33m\u001b[0m\u001b[0m\n",
      "\u001b[1;31mValueError\u001b[0m: invalid literal for int() with base 10: '10.200'"
     ]
    }
   ],
   "source": [
    "a = int('10.200')\n",
    "print(a, type(a)) # two level conversion is not possible."
   ]
  },
  {
   "cell_type": "code",
   "execution_count": 1,
   "id": "852be261",
   "metadata": {},
   "outputs": [
    {
     "name": "stdout",
     "output_type": "stream",
     "text": [
      "10.0\n",
      "10.2\n",
      "10.0\n",
      "1.0\n",
      "21.0\n",
      "32099.0\n",
      "1034637.0\n",
      "10\n"
     ]
    }
   ],
   "source": [
    "print(float(10))\n",
    "print(float(10.20))\n",
    "print(float('10'))\n",
    "print(float(True))\n",
    "print(float(0b10101))\n",
    "print(float(0o76543))\n",
    "print(float(0xfc98d))\n",
    "# print(float(10+20j))\n",
    "\n",
    "print(int(float('10')))"
   ]
  },
  {
   "cell_type": "code",
   "execution_count": 2,
   "id": "01a0eb1b",
   "metadata": {},
   "outputs": [
    {
     "name": "stdout",
     "output_type": "stream",
     "text": [
      "(10+0j)\n",
      "(10.2+0j)\n",
      "(10+0j)\n",
      "(1+0j)\n",
      "(21+0j)\n",
      "(32099+0j)\n",
      "(1034637+0j)\n"
     ]
    }
   ],
   "source": [
    "# Complex (Real)\n",
    "\n",
    "print(complex(10))\n",
    "print(complex(10.20))\n",
    "print(complex('10'))\n",
    "print(complex(True))\n",
    "print(complex(0b10101))\n",
    "print(complex(0o76543))\n",
    "print(complex(0xfc98d))\n",
    "#print(complex(10+20j))\n",
    "\n",
    "# print(int(float('10')))"
   ]
  },
  {
   "cell_type": "code",
   "execution_count": 5,
   "id": "7bdee6ab",
   "metadata": {},
   "outputs": [
    {
     "name": "stdout",
     "output_type": "stream",
     "text": [
      "(10+20j)\n",
      "(10.2+20.3j)\n",
      "(21+32099j)\n",
      "(1+1j)\n"
     ]
    },
    {
     "ename": "TypeError",
     "evalue": "complex() second arg can't be a string",
     "output_type": "error",
     "traceback": [
      "\u001b[1;31m---------------------------------------------------------------------------\u001b[0m",
      "\u001b[1;31mTypeError\u001b[0m                                 Traceback (most recent call last)",
      "\u001b[1;32m~\\AppData\\Local\\Temp/ipykernel_4116/1389922289.py\u001b[0m in \u001b[0;36m<module>\u001b[1;34m\u001b[0m\n\u001b[0;32m      5\u001b[0m \u001b[0mprint\u001b[0m\u001b[1;33m(\u001b[0m\u001b[0mcomplex\u001b[0m\u001b[1;33m(\u001b[0m\u001b[1;36m0b10101\u001b[0m\u001b[1;33m,\u001b[0m \u001b[1;36m0o76543\u001b[0m\u001b[1;33m)\u001b[0m\u001b[1;33m)\u001b[0m\u001b[1;33m\u001b[0m\u001b[1;33m\u001b[0m\u001b[0m\n\u001b[0;32m      6\u001b[0m \u001b[0mprint\u001b[0m\u001b[1;33m(\u001b[0m\u001b[0mcomplex\u001b[0m\u001b[1;33m(\u001b[0m\u001b[1;32mTrue\u001b[0m\u001b[1;33m,\u001b[0m \u001b[1;32mTrue\u001b[0m\u001b[1;33m)\u001b[0m\u001b[1;33m)\u001b[0m\u001b[1;33m\u001b[0m\u001b[1;33m\u001b[0m\u001b[0m\n\u001b[1;32m----> 7\u001b[1;33m \u001b[0mprint\u001b[0m\u001b[1;33m(\u001b[0m\u001b[0mcomplex\u001b[0m\u001b[1;33m(\u001b[0m\u001b[1;36m10\u001b[0m\u001b[1;33m,\u001b[0m \u001b[1;34m'20'\u001b[0m\u001b[1;33m)\u001b[0m\u001b[1;33m)\u001b[0m\u001b[1;33m\u001b[0m\u001b[1;33m\u001b[0m\u001b[0m\n\u001b[0m\u001b[0;32m      8\u001b[0m \u001b[0mprint\u001b[0m\u001b[1;33m(\u001b[0m\u001b[0mcomplex\u001b[0m\u001b[1;33m(\u001b[0m\u001b[1;34m'10'\u001b[0m\u001b[1;33m,\u001b[0m \u001b[1;36m20\u001b[0m\u001b[1;33m)\u001b[0m\u001b[1;33m)\u001b[0m\u001b[1;33m\u001b[0m\u001b[1;33m\u001b[0m\u001b[0m\n",
      "\u001b[1;31mTypeError\u001b[0m: complex() second arg can't be a string"
     ]
    }
   ],
   "source": [
    "# Complex (Real & Imaginary)\n",
    "\n",
    "print(complex(10, 20))\n",
    "print(complex(10.20, 20.30))\n",
    "print(complex(0b10101, 0o76543))\n",
    "print(complex(True, True))\n",
    "print(complex(10, '20')) # operation not possible as one of the arg is string.\n",
    "print(complex('10', 20)) # operation not possible as one of the arg is string."
   ]
  },
  {
   "cell_type": "code",
   "execution_count": 6,
   "id": "612dcfaf",
   "metadata": {},
   "outputs": [
    {
     "name": "stdout",
     "output_type": "stream",
     "text": [
      "False\n",
      "False\n",
      "False\n",
      "False\n",
      "False\n",
      "False\n",
      "False\n",
      "False\n",
      "True\n",
      "True\n",
      "True\n",
      "False\n",
      "False\n",
      "True\n",
      "True\n",
      "True\n"
     ]
    }
   ],
   "source": [
    "# bool() - True, False.\n",
    "print(bool(0))\n",
    "print(bool(0.0))\n",
    "print(bool(0.0+0j))\n",
    "print(bool(''))\n",
    "print(bool(None))\n",
    "print(bool([]))\n",
    "print(bool(()))\n",
    "print(bool({}))\n",
    "\n",
    "print(bool(1))\n",
    "print(bool(1.0))\n",
    "print(bool(0.1+0j))\n",
    "print(bool(''))\n",
    "print(bool(None))\n",
    "print(bool([0,]))\n",
    "print(bool((0,)))\n",
    "print(bool({0,}))"
   ]
  },
  {
   "cell_type": "code",
   "execution_count": 3,
   "id": "4d55526d",
   "metadata": {},
   "outputs": [
    {
     "name": "stdout",
     "output_type": "stream",
     "text": [
      "Enter a list [1,2,3,4,5,6,7]\n",
      "[1, 2, 3, 4, 5, 6, 7] <class 'list'>\n"
     ]
    }
   ],
   "source": [
    "# For taking any derived datatype from user using input function do the type casting using eval function\n",
    "\n",
    "lst = eval(input('Enter a list '))\n",
    "print(lst, type(lst))"
   ]
  },
  {
   "cell_type": "code",
   "execution_count": 15,
   "id": "6c640b49",
   "metadata": {},
   "outputs": [
    {
     "data": {
      "text/plain": [
       "['e', 'e', 'o', 's', 'o', 'p', 'h', 'a', 'g', 'u', 's']"
      ]
     },
     "execution_count": 15,
     "metadata": {},
     "output_type": "execute_result"
    }
   ],
   "source": [
    "list('Python')\n",
    "list('eeosophagus')"
   ]
  },
  {
   "cell_type": "code",
   "execution_count": null,
   "id": "d1e8c31e",
   "metadata": {},
   "outputs": [],
   "source": [
    "lst = eval(input('Enter a list'))\n",
    "print(lst, type(lst))"
   ]
  },
  {
   "cell_type": "code",
   "execution_count": 8,
   "id": "85691819",
   "metadata": {},
   "outputs": [
    {
     "data": {
      "text/plain": [
       "int"
      ]
     },
     "execution_count": 8,
     "metadata": {},
     "output_type": "execute_result"
    }
   ],
   "source": [
    "# printing the output and format the output\n",
    "type(eval('10'))"
   ]
  },
  {
   "cell_type": "code",
   "execution_count": 9,
   "id": "fb5f857c",
   "metadata": {},
   "outputs": [
    {
     "name": "stdout",
     "output_type": "stream",
     "text": [
      "10\n"
     ]
    }
   ],
   "source": [
    "print(10)"
   ]
  },
  {
   "cell_type": "code",
   "execution_count": 10,
   "id": "17824545",
   "metadata": {},
   "outputs": [
    {
     "name": "stdout",
     "output_type": "stream",
     "text": [
      "10 20 30\n"
     ]
    }
   ],
   "source": [
    "print(10, 20, 30)"
   ]
  },
  {
   "cell_type": "code",
   "execution_count": 11,
   "id": "fbeb267d",
   "metadata": {},
   "outputs": [
    {
     "name": "stdout",
     "output_type": "stream",
     "text": [
      "10-->20-->30\n"
     ]
    }
   ],
   "source": [
    "print(10, 20, 30, sep = \"-->\") # print using a separator"
   ]
  },
  {
   "cell_type": "code",
   "execution_count": 7,
   "id": "fabf33b3",
   "metadata": {},
   "outputs": [
    {
     "name": "stdout",
     "output_type": "stream",
     "text": [
      "10 20\n",
      "30\n",
      "40\n"
     ]
    }
   ],
   "source": [
    "print(10, end = ' ') # print using new line operator\n",
    "print(20, end = '\\n')\n",
    "print(30, end = '\\n')\n",
    "print(40, end = '\\n')"
   ]
  },
  {
   "cell_type": "code",
   "execution_count": 13,
   "id": "b27c809d",
   "metadata": {},
   "outputs": [
    {
     "name": "stdout",
     "output_type": "stream",
     "text": [
      "10\t20\t30\t40\t"
     ]
    }
   ],
   "source": [
    "print(10, end = '\\t') # print using tab operator\n",
    "print(20, end = '\\t')\n",
    "print(30, end = '\\t')\n",
    "print(40, end = '\\t')"
   ]
  },
  {
   "cell_type": "code",
   "execution_count": 14,
   "id": "92c8d9dd",
   "metadata": {},
   "outputs": [
    {
     "name": "stdout",
     "output_type": "stream",
     "text": [
      "10\n",
      "\t20\n",
      "\t\t30\n",
      "\t40\n",
      "50\n"
     ]
    }
   ],
   "source": [
    "print(10, end = '\\n\\t') # using tab and new line together to obtain a pattern\n",
    "print(20, end = '\\n\\t\\t')\n",
    "print(30, end = '\\n\\t')\n",
    "print(40, end = '\\n')\n",
    "print(50)"
   ]
  },
  {
   "cell_type": "code",
   "execution_count": 15,
   "id": "8d09e075",
   "metadata": {},
   "outputs": [
    {
     "name": "stdout",
     "output_type": "stream",
     "text": [
      "10 <class 'int'>\n",
      "0b1011111101\n",
      "0o7654\n",
      "0x2b066\n"
     ]
    }
   ],
   "source": [
    "# int - any real number with out decimal point ex. 10, -10, 0 etc.,\n",
    "# integers can be represented in binary, octal, hexadecimal and decimal\n",
    "# binary representation of 10 - 0b1010\n",
    "a = 0b1010\n",
    "print(a, type(a)) # conversion to decimal is automatic\n",
    "\n",
    "# conversion from decimal to binary\n",
    "# conversion of  765 into binary\n",
    "print(bin(765))\n",
    "\n",
    "# bin - should be preceded by 0b, 0B allowed digits are 0 & 1, any format to binary is bin()\n",
    "\n",
    "# Octal representation of 4012\n",
    "print(oct(4012))\n",
    "\n",
    "# oct - should be preceded by 0o, 0O allowed digits are 0 to 7, any format to octal is oct()\n",
    "\n",
    "# Conversion of decimal to Hexadecimal i.e., 176230 to Hexadecimal format\n",
    "print(hex(176230))\n",
    "\n",
    "# hex - should be preceded by 0x, 0X allowed digits are 0 to 9 & a/A to f/F, any format to Hexadecimal is hex()"
   ]
  },
  {
   "cell_type": "code",
   "execution_count": 16,
   "id": "7dc60a43",
   "metadata": {},
   "outputs": [
    {
     "name": "stdout",
     "output_type": "stream",
     "text": [
      "10 <class 'int'>\n",
      "Size of a is 28\n",
      "\n",
      "9999999999999999999999999999999999999999999999999999999999999999999999 <class 'int'>\n",
      "Size of a is 56\n",
      "\n",
      "400000000 <class 'int'>\n",
      "Size of a is 28\n",
      "\n"
     ]
    }
   ],
   "source": [
    "import sys\n",
    "a = 10\n",
    "print(a, type(a))\n",
    "print('Size of a is', sys.getsizeof(a))\n",
    "print()\n",
    "\n",
    "a = 9999999999999999999999999999999999999999999999999999999999999999999999\n",
    "print(a, type(a))\n",
    "print('Size of a is', sys.getsizeof(a))\n",
    "print()\n",
    "\n",
    "a = 400000000\n",
    "print(a, type(a))\n",
    "print('Size of a is', sys.getsizeof(a))\n",
    "print()"
   ]
  },
  {
   "cell_type": "code",
   "execution_count": 17,
   "id": "1d692782",
   "metadata": {},
   "outputs": [
    {
     "name": "stdout",
     "output_type": "stream",
     "text": [
      "(10+20j) <class 'complex'>\n",
      "10.0\n",
      "20.0\n"
     ]
    }
   ],
   "source": [
    "# Float - Float can be represented in only decimal format. Any value with decimal point is float\n",
    "\n",
    "# Complex - any number in the format a+bj is complex number where a is real number and b is imaginary part with j = sqrt-1\n",
    "\n",
    "a = 10+20j\n",
    "print(a, type(a))\n",
    "print(a.real)\n",
    "print(a.imag)"
   ]
  },
  {
   "cell_type": "code",
   "execution_count": 18,
   "id": "18ef6738",
   "metadata": {},
   "outputs": [
    {
     "name": "stdout",
     "output_type": "stream",
     "text": [
      "(1+0j)\n"
     ]
    }
   ],
   "source": [
    "# Boolean - only two values True and False.  True = 1, False = 0\n",
    "\n",
    "# Boolean to int\n",
    "# True =1, False = 0\n",
    "\n",
    "# Boolean to Float\n",
    "# True = 1.0, False = 0.0\n",
    "\n",
    "# Boolean to complex\n",
    "# True = 1+0j\n",
    "# False = 0+0j\n",
    "\n",
    "print(complex(True, False))"
   ]
  },
  {
   "cell_type": "code",
   "execution_count": 19,
   "id": "0e272bc1",
   "metadata": {},
   "outputs": [
    {
     "name": "stdout",
     "output_type": "stream",
     "text": [
      "True\n",
      "True\n",
      "True\n",
      "True\n"
     ]
    }
   ],
   "source": [
    "# Comparision operators\n",
    "\n",
    "print(10<20)\n",
    "print(10<10.20)\n",
    "# print(10<10+20j) # not supported\n",
    "# print(5+5j<10+20j) # not supported\n",
    "# print(66<'A') # not supported\n",
    "print('Python'<'python')\n",
    "print([100,20,30]<[100,50,4])"
   ]
  },
  {
   "cell_type": "code",
   "execution_count": 12,
   "id": "e83db231",
   "metadata": {},
   "outputs": [
    {
     "name": "stdout",
     "output_type": "stream",
     "text": [
      "65\n",
      "112\n",
      "97\n",
      "122\n"
     ]
    }
   ],
   "source": [
    "# to get the ASCII equivalent of any character use ord('only one char')\n",
    "print(ord('A'))\n",
    "print(ord('p'))\n",
    "print(ord('a'))\n",
    "print(ord('z'))"
   ]
  },
  {
   "cell_type": "code",
   "execution_count": 9,
   "id": "98c2eb63",
   "metadata": {},
   "outputs": [
    {
     "name": "stdout",
     "output_type": "stream",
     "text": [
      "A\n",
      "B\n",
      "a\n",
      "z\n",
      "\u0006\n"
     ]
    }
   ],
   "source": [
    "# to get the character equivalent of ASCII use chr('number')\n",
    "print(chr(65))\n",
    "print(chr(66))\n",
    "print(chr(97))\n",
    "print(chr(122))\n",
    "print(chr(6))"
   ]
  },
  {
   "cell_type": "code",
   "execution_count": 10,
   "id": "8a7d7ab1",
   "metadata": {},
   "outputs": [
    {
     "name": "stdout",
     "output_type": "stream",
     "text": [
      "\n",
      "20\n",
      "0\n"
     ]
    }
   ],
   "source": [
    "(10<20) and (True != True)\n",
    "# A and B returns A if A  is false else B\n",
    "print('' and 0)\n",
    "print(10 and 20)\n",
    "print(0 and 0.0)"
   ]
  },
  {
   "cell_type": "code",
   "execution_count": 4,
   "id": "38250416",
   "metadata": {},
   "outputs": [
    {
     "name": "stdout",
     "output_type": "stream",
     "text": [
      "0\n",
      "10\n",
      "0.0\n"
     ]
    }
   ],
   "source": [
    "# A or B returns A if A is True else B\n",
    "print('' or 0)\n",
    "print(10 or 20)\n",
    "print(0 or 0.0)"
   ]
  },
  {
   "cell_type": "code",
   "execution_count": 1,
   "id": "478fa774",
   "metadata": {},
   "outputs": [
    {
     "name": "stdout",
     "output_type": "stream",
     "text": [
      "16\n",
      "0b110010000\n"
     ]
    }
   ],
   "source": [
    "# Bitwise operators - &, |, ~, <<, >>  - These operators work only on bits i.e., 1 and 0.\n",
    "# All integer values converted to bits and then bit by bit operation happens.3433334\n",
    "\n",
    "#Bitwise Truth table\n",
    "# 1 & 1 = 1\n",
    "# 1 & 0 = 0\n",
    "# 0 & 1 = 0\n",
    "# 0 & 0 = 0\n",
    "\n",
    "# 1 | 1 = 1\n",
    "# 1 | 0 = 1\n",
    "# 0 | 1 = 1\n",
    "# 0 | 0 = 0\n",
    "\n",
    "# 1 ^ 1 = 0\n",
    "# 1 ^ 0 = 1\n",
    "# 0 ^ 1 = 1\n",
    "# 0 ^ 0 = 0\n",
    "\n",
    "print(23 & 400)\n",
    "\n",
    "print(bin(400))\n",
    "\n"
   ]
  },
  {
   "cell_type": "code",
   "execution_count": 6,
   "id": "9c4698e9",
   "metadata": {},
   "outputs": [
    {
     "name": "stdout",
     "output_type": "stream",
     "text": [
      "-11\n",
      "9\n",
      "-1\n"
     ]
    }
   ],
   "source": [
    "# bitwise negation\n",
    "print(~10)\n",
    "print(~(-10))\n",
    "print(~False)"
   ]
  },
  {
   "cell_type": "code",
   "execution_count": 7,
   "id": "634ec4d1",
   "metadata": {},
   "outputs": [
    {
     "name": "stdout",
     "output_type": "stream",
     "text": [
      "7360\n",
      "7\n"
     ]
    }
   ],
   "source": [
    "#bitwise leftshift<<, rightshift>> operators - these operators take two operands \n",
    "# first one which we want to shift and second one by how many bits you shift.\n",
    "# shift 230 by 5 bits towards Lhs\n",
    "\n",
    "print(230 << 5)\n",
    "\n",
    "print(230 >> 5)"
   ]
  },
  {
   "cell_type": "code",
   "execution_count": 8,
   "id": "b567b0ea",
   "metadata": {},
   "outputs": [
    {
     "name": "stdout",
     "output_type": "stream",
     "text": [
      "False\n",
      "True\n",
      "True\n",
      "True\n"
     ]
    }
   ],
   "source": [
    "# membership operator - in, not in we get True, False based on condition given. \n",
    "print('p' in 'Python')\n",
    "print(100 in [10, 20, 100])\n",
    "print(10 in (10, 20, 30))\n",
    "print(9 in range(10))"
   ]
  },
  {
   "cell_type": "code",
   "execution_count": 9,
   "id": "ccc041c6",
   "metadata": {},
   "outputs": [
    {
     "name": "stdout",
     "output_type": "stream",
     "text": [
      "True\n",
      "3078848146000\n",
      "3078848146000\n"
     ]
    }
   ],
   "source": [
    "# identity operator - is , is not - returns True if id of both operands is same.\n",
    "\n",
    "a = 10\n",
    "b = 10\n",
    "print(a is b)\n",
    "print(id(a))\n",
    "print(id(b))\n",
    "# both variables showing same id because they are directing to same memory location if the value is less than 256."
   ]
  },
  {
   "cell_type": "code",
   "execution_count": 10,
   "id": "c68246d1",
   "metadata": {},
   "outputs": [
    {
     "name": "stdout",
     "output_type": "stream",
     "text": [
      "False\n",
      "True\n",
      "3078928969136\n",
      "3078928968464\n"
     ]
    }
   ],
   "source": [
    "x = 1000\n",
    "y = 1000\n",
    "print(x is y)\n",
    "print(x == y)\n",
    "print(id(x))\n",
    "print(id(y))\n",
    "# both variables showing different id because they are showing different memory location as the value id greater than 256."
   ]
  },
  {
   "cell_type": "code",
   "execution_count": 11,
   "id": "56aa56fc",
   "metadata": {},
   "outputs": [
    {
     "data": {
      "text/plain": [
       "'Object reusability - -5 to 256, A - Z, a - z, 0 - 9, _, None, True, False object reusability applicable for these values only.'"
      ]
     },
     "execution_count": 11,
     "metadata": {},
     "output_type": "execute_result"
    }
   ],
   "source": [
    "'''Object reusability - -5 to 256, A - Z, a - z, 0 - 9, _, None, True, False --- object reusability \n",
    "applicable for these values only.'''\n",
    "# for all other values it is not applicable"
   ]
  },
  {
   "cell_type": "code",
   "execution_count": 12,
   "id": "1939e395",
   "metadata": {},
   "outputs": [
    {
     "name": "stdout",
     "output_type": "stream",
     "text": [
      "<class 'int'>\n",
      "<class 'float'>\n",
      "16\n"
     ]
    }
   ],
   "source": [
    "\n",
    "a = 10\n",
    "print(type(a))\n",
    "a = 10.20\n",
    "print(type(a))\n",
    "import sys\n",
    "a = None\n",
    "print(sys.getsizeof(a))"
   ]
  },
  {
   "cell_type": "code",
   "execution_count": 14,
   "id": "c46f865d",
   "metadata": {},
   "outputs": [
    {
     "name": "stdout",
     "output_type": "stream",
     "text": [
      "before the changes  3078929031424 [10, 20, 30]\n",
      "after the changes  3078929031424 [100, 20, 30, 1000]\n"
     ]
    }
   ],
   "source": [
    "# Mutable - list, bytearray, dictionery, set - modifiable - changes made will be done on the same object.\n",
    "# Immutable - rest of all are immutable, - not modifiable - changes made will create a new object.\n",
    "\n",
    "# To check the mutability - assignment operation is possible or not and id before and after same or not \n",
    "\n",
    "# Example :\n",
    "lst = [10, 20, 30]\n",
    "print('before the changes ', id(lst), lst)\n",
    "lst[0] = 100\n",
    "lst.append(1000)\n",
    "print('after the changes ', id(lst), lst)  # as the id not changed after the changes this is mutable."
   ]
  },
  {
   "cell_type": "code",
   "execution_count": 15,
   "id": "d2241347",
   "metadata": {},
   "outputs": [
    {
     "name": "stdout",
     "output_type": "stream",
     "text": [
      "Before the changes  3078849145328 Python\n",
      "After the changes  3078849145328 Python\n",
      "After the changes  3078928973936 Jython\n"
     ]
    }
   ],
   "source": [
    "# Example 2: Mutability\n",
    "s = 'Python'\n",
    "print('Before the changes ', id(s), s)\n",
    "# s[0] = 'J' # not allowed as string is immutable\n",
    "s1 = s.replace('P', 'J')  # assigned to different variable hence different object.\n",
    "print('After the changes ', id(s), s)\n",
    "print('After the changes ', id(s1), s1)"
   ]
  },
  {
   "cell_type": "raw",
   "id": "4b4fcfb7",
   "metadata": {},
   "source": [
    "# String\n",
    "# Any value kept inside '...', \",,,\", '''...''', \"\"\"...\"\"\" is a string.\n",
    "\n",
    "a = 'This is a python class'\n",
    "a = \"This is a 'python' class\"\n",
    "a = '''This is \"python\" and \"Java\", \"c\" class'''\n",
    "\n",
    "# String Properties :\n",
    "1. String is a sequence.\n",
    "2. It is an ordered collection of elements.\n",
    "    increasing order of +ve index from left to right\n",
    "    increasing order of -ve index from right to left.\n",
    "3. Basic operation\n",
    "    Accessing single element - Indexing.\n",
    "    slicing - accessing multiple elements.\n",
    "    concatenation - combination of two or more strings with + operator\n",
    "    repetition - repetition of a string more than 1 time using * operator.\n",
    "    membership - to check whether a element or group of elements is part of a string.\n",
    "    identity - whether both the objects are sharing same id\n",
    "    len - returns length of the string or total no. of characters of a string.\n",
    "4. Indexing \n",
    "    +ve indexing starts from 0 from LHS\n",
    "    -VE Indexing starts from -1 from RHS.\n",
    "    square bracket notation, syntax : string_name[index] - returns the value at the specified index.\n",
    "5. String is immutable.\n",
    "\n",
    "    "
   ]
  },
  {
   "cell_type": "code",
   "execution_count": 23,
   "id": "0bb54e8d",
   "metadata": {},
   "outputs": [
    {
     "name": "stdout",
     "output_type": "stream",
     "text": [
      "length of the string or total no. of characters in the string :> 168\n",
      "k\n",
      "k\n",
      "L\n",
      "L\n",
      "t\n",
      "22\n",
      "20\n",
      " this is \n",
      "python\n",
      "python\n",
      " this is \n",
      "python class\n",
      "This is python class\n",
      "ssalc nohtyp\n",
      " si siht \n"
     ]
    }
   ],
   "source": [
    "my_str = 'Lorem Ipsum has been the industrys standard dummy text ever since the 1500s, when an unknown printer \\\n",
    "took a galley of type and scrambled it to make a type specimen book'\n",
    "\n",
    "print('length of the string or total no. of characters in the string :>', len(my_str))\n",
    "\n",
    "# Accessing last element\n",
    "print(my_str[-1])\n",
    "print(my_str[len(my_str)-1])\n",
    "\n",
    "# Accessing first element\n",
    "print(my_str[0])\n",
    "print(my_str[-len(my_str)])\n",
    "\n",
    "# Accessing the 50 th element\n",
    "print(my_str[50])\n",
    "\n",
    "my_str = ''' this is \n",
    "python class'''\n",
    "print(len(my_str))\n",
    "my_str1 = 'This is python class'\n",
    "print(len(my_str1))\n",
    "\n",
    "# slicing till python\n",
    "print(my_str[:16])\n",
    "# slicing only python\n",
    "print(my_str[10:16])\n",
    "#slicing total string\n",
    "print(my_str[::])\n",
    "print(my_str1[0:len(my_str1):1])\n",
    "# slicing the string in the reverse order\n",
    "print(my_str[-1:-(len(my_str)+1):-1])"
   ]
  },
  {
   "cell_type": "code",
   "execution_count": 24,
   "id": "bb756a18",
   "metadata": {},
   "outputs": [
    {
     "name": "stdout",
     "output_type": "stream",
     "text": [
      "This is python class at learnbay\n",
      "This is python classThis is python classThis is python class\n"
     ]
    }
   ],
   "source": [
    "# concatenation - both the operands should be of string type. it is not possible for different operand types.\n",
    "\n",
    "print(my_str1 + ' at learnbay')\n",
    "\n",
    "# Repetition - for this one operands must be string and other should be  integer.\n",
    "\n",
    "print(my_str1 * 3)"
   ]
  },
  {
   "cell_type": "code",
   "execution_count": 25,
   "id": "04898dac",
   "metadata": {},
   "outputs": [
    {
     "name": "stdout",
     "output_type": "stream",
     "text": [
      "This is python class\n",
      "this is python class\n",
      "this python class\n",
      "this python class\n",
      "THIS PYTHON CLASS\n",
      "fliessen\n",
      "fließen\n",
      "this is PYTHON class\n",
      "This Is Python Class\n"
     ]
    }
   ],
   "source": [
    "# capitalize() - used to capitalize the first char of the string\n",
    "my_str = 'this is python class'\n",
    "str_capitalize = my_str.capitalize()\n",
    "print(str_capitalize)\n",
    "print(my_str)\n",
    "\n",
    "# casefold and lower are both used to convert all the uppercase letters to lower case letters, \n",
    "# casefold is more aggressive than lower\n",
    "my_str = 'THIS PYTHON CLASS'\n",
    "print(my_str.lower())\n",
    "print(my_str.casefold())\n",
    "print(my_str)\n",
    "\n",
    "my_str1 = 'fließen'\n",
    "print(my_str1.casefold())\n",
    "print(my_str1.lower())\n",
    "\n",
    "# swapcase - used to swap the cases i.e., lower to upper and upper to lower cases..\n",
    "my_str1 = 'THIS IS python CLASS'\n",
    "print(my_str1.swapcase())\n",
    "\n",
    "# Title - returns the string with first character of every word capital\n",
    "print(my_str1.title())"
   ]
  },
  {
   "cell_type": "code",
   "execution_count": 26,
   "id": "5a41d77b",
   "metadata": {},
   "outputs": [
    {
     "name": "stdout",
     "output_type": "stream",
     "text": [
      "True\n",
      "True\n",
      "False\n",
      "False\n",
      "True\n",
      "True\n",
      "True\n"
     ]
    }
   ],
   "source": [
    "# startswith or endswith - returns True or False based on whether the string starts with or ends with a \n",
    "# particular character or substring.\n",
    "print(my_str1.startswith('T'))\n",
    "print(my_str1.startswith('THIS'))\n",
    "print(my_str1.startswith('This'))\n",
    "print(my_str1.endswith('ass'))\n",
    "print(my_str1.endswith('ASS'))\n",
    "print(my_str1.startswith('IS', 5))\n",
    "print(my_str1.endswith('IS', 0, 7))"
   ]
  },
  {
   "cell_type": "code",
   "execution_count": 9,
   "id": "78c876d3",
   "metadata": {},
   "outputs": [
    {
     "name": "stdout",
     "output_type": "stream",
     "text": [
      "True\n",
      "True\n",
      "True\n",
      "False\n",
      "True\n",
      "True end = \n",
      "\n",
      "True\n",
      "False\n",
      "False\n",
      "False\n",
      "False\n",
      "True end = \n",
      "\n",
      "False\n",
      "True\n",
      "False\n",
      "False\n",
      "False\n",
      "False\n"
     ]
    }
   ],
   "source": [
    "# Returns True o\\r False based on the method\n",
    "s1 = 'Python'\n",
    "s2 = '718268462'\n",
    "s3 = 'Python123'\n",
    "s4 = 'Python #$%'\n",
    "s5 = '\\u00BC'\n",
    "s6 = 'fließen'\n",
    "\n",
    "print(s1.isalnum())\n",
    "print(s2.isalnum())\n",
    "print(s3.isalnum())\n",
    "print(s4.isalnum())\n",
    "print(s5.isalnum())\n",
    "print(s6.isalnum(), 'end = \\n')\n",
    "\n",
    "print(s1.isalpha())\n",
    "print(s2.isalpha())\n",
    "print(s3.isalpha())\n",
    "print(s4.isalpha())\n",
    "print(s5.isalpha())\n",
    "print(s6.isalpha(), 'end = \\n')\n",
    "\n",
    "print(s1.isdigit())\n",
    "print(s2.isdigit())\n",
    "print(s3.isdigit())\n",
    "print(s4.isdigit())\n",
    "print(s5.isdigit())\n",
    "print(s6.isdigit())\n",
    "\n",
    "# similarly isnumeric(), isdecimal() also there will return True or False based on the critiria given"
   ]
  },
  {
   "cell_type": "code",
   "execution_count": 28,
   "id": "ca740aa5",
   "metadata": {},
   "outputs": [
    {
     "name": "stdout",
     "output_type": "stream",
     "text": [
      "True\n",
      "False\n",
      "True\n",
      "False\n",
      "False\n",
      "True\n",
      "False\n",
      "\n",
      "True\n"
     ]
    }
   ],
   "source": [
    "# isidentifier() - returns True or False if the string is valid identifier or not.\n",
    "\n",
    "print(s1.isidentifier())\n",
    "print(s2.isidentifier())\n",
    "print(s3.isidentifier())\n",
    "print(s4.isidentifier())\n",
    "print(s5.isidentifier())\n",
    "print(s6.isidentifier())\n",
    "\n",
    "# isprintable(), isspace() - returns \n",
    "\n",
    "my_str = 'This is \\n python class'\n",
    "my_str1 = 'This is \\\\nPython class'\n",
    "print(my_str.isprintable())\n",
    "print()\n",
    "print(my_str1.isprintable())"
   ]
  },
  {
   "cell_type": "code",
   "execution_count": 29,
   "id": "05f2977c",
   "metadata": {},
   "outputs": [
    {
     "name": "stdout",
     "output_type": "stream",
     "text": [
      "0\n",
      "6\n",
      "33\n",
      "12\n",
      "33\n"
     ]
    }
   ],
   "source": [
    "# find, rfind, index, rindex - all are similar and return index number of char or substring but only the first occurence.\n",
    "# find, index will search from left to right but rfind, rindex with search from right side.\n",
    "# find will return -1, index return valueerror if the substring not found.\n",
    "\n",
    "my_str = \"peter piper picked a Peck of pickled peppers.\"\n",
    "\n",
    "print(my_str.find('p'))\n",
    "print(my_str.find('pip'))\n",
    "print(my_str.rfind('led'))\n",
    "print(my_str.index('pic'))\n",
    "print(my_str.rindex('led'))"
   ]
  },
  {
   "cell_type": "code",
   "execution_count": 30,
   "id": "ecf790ae",
   "metadata": {},
   "outputs": [
    {
     "name": "stdout",
     "output_type": "stream",
     "text": [
      "This.        is.      Python class.\n",
      "       This.        is.      Python class.\n",
      "This.        is.      Python class.     \n"
     ]
    }
   ],
   "source": [
    "# strip, rstrip, lstrip  will remove unnecessary spaces from the string either from start, end or from both but not inbetween\n",
    "\n",
    "my_str = '       This.        is.      Python class.     '\n",
    "print(my_str.strip()) # remove spaces from both sides\n",
    "print(my_str.rstrip()) # remove from right side\n",
    "print(my_str.lstrip()) # remove from left side."
   ]
  },
  {
   "cell_type": "code",
   "execution_count": 31,
   "id": "52b7106c",
   "metadata": {},
   "outputs": [
    {
     "name": "stdout",
     "output_type": "stream",
     "text": [
      "8\n",
      "1\n",
      "2\n"
     ]
    }
   ],
   "source": [
    "# count gives the total number of occurences of given substring.\n",
    "\n",
    "my_str = \"peter piper picked a Peck of pickled peppers.\"\n",
    "print(my_str.count('p'))\n",
    "print(my_str.count('pip'))\n",
    "print(my_str.count('pic'))"
   ]
  },
  {
   "cell_type": "code",
   "execution_count": 33,
   "id": "958ae5ca",
   "metadata": {},
   "outputs": [
    {
     "name": "stdout",
     "output_type": "stream",
     "text": [
      "zeter zizer zicked a Peck of zickled zezzers.\n",
      "zeter ziper picked a Peck of pickled peppers.\n"
     ]
    }
   ],
   "source": [
    "# replace() - replaces the old substring with new substring at given index.\n",
    "\n",
    "print(my_str.replace('p', 'z')) # replaced all p s to z s.\n",
    "print(my_str.replace('p', 'z', 2)) # changed only 2 p s to z s."
   ]
  },
  {
   "cell_type": "code",
   "execution_count": 34,
   "id": "4cce89c8",
   "metadata": {},
   "outputs": [
    {
     "name": "stdout",
     "output_type": "stream",
     "text": [
      "['peter', 'piper', 'picked', 'a', 'Peck', 'of', 'pickled', 'peppers.']\n",
      "['peter', 'piper', 'picked', 'a', 'Peck', 'of', 'pickled', 'peppers.']\n",
      "peter piper picked a Peck of pickled peppers.\n",
      "peter-->piper-->picked-->a-->Peck-->of-->pickled-->peppers.\n"
     ]
    }
   ],
   "source": [
    "# split, rsplit, join  - \n",
    "print(my_str.split())\n",
    "print(my_str.rsplit())\n",
    "mylst = my_str.split()\n",
    "print(' '.join(mylst))\n",
    "print('-->'.join(mylst))"
   ]
  },
  {
   "cell_type": "code",
   "execution_count": 2,
   "id": "6742e67a",
   "metadata": {},
   "outputs": [
    {
     "data": {
      "text/plain": [
       "'retep repip dekcip a kcep fo delkcip .sreppep'"
      ]
     },
     "execution_count": 2,
     "metadata": {},
     "output_type": "execute_result"
    }
   ],
   "source": [
    "#Write a python program to find below output:-\n",
    "\n",
    "#Input:- 'peter piper picked a peck of pickled peppers.'\n",
    "#Output:- 'retep repip dekcip a kcep fo delkcip .sreppep'\n",
    "\n",
    "my_str = 'peter piper picked a peck of pickled peppers.'\n",
    "# mylst = my_str.split()\n",
    "# print(mylst)\n",
    "# mylst1 = []\n",
    "# for i in mylst:\n",
    "#     mylst1.append(i[::-1])\n",
    "# print(mylst1)\n",
    "# print(' '.join(mylst1))\n",
    "\n",
    "' '.join((i[::-1]) for i in my_str.split())"
   ]
  },
  {
   "cell_type": "code",
   "execution_count": 3,
   "id": "9cae430f",
   "metadata": {},
   "outputs": [
    {
     "name": "stdout",
     "output_type": "stream",
     "text": [
      "peppers. pickled of peck a picked piper peter\n"
     ]
    }
   ],
   "source": [
    "#Write a python program to find below output:-\n",
    "\n",
    "#Input:- 'peter piper picked a peck of pickled peppers.'\n",
    "#Output:- 'peppers. pickled of peck a picked piper peter'\n",
    "\n",
    "mystr = 'peter piper picked a peck of pickled peppers.'\n",
    "# mylst = mystr.split()\n",
    "# print(mylst)\n",
    "# mylst1 = mylst[::-1]\n",
    "# print(' '.join(mylst1))\n",
    "\n",
    "print(' '.join(mystr.split()[::-1]))"
   ]
  },
  {
   "cell_type": "markdown",
   "id": "2c6bc6d9",
   "metadata": {},
   "source": [
    "# Derived datatypes \n",
    "# List :\n",
    "Anything kept inside square bracket separated by comma is called a list.\n",
    "\n",
    "Creation of list\n",
    "1. If already elements are known \n",
    "lst = [10, 20, 30, 40]\n",
    "2. taking user input\n",
    "lst = eval(input('Enter a list')\n",
    "3. print(list(10, 20, 30, 40))\n",
    "4. print(list{10,20,30,40})\n",
    "5. print(list{1:10, 2:20, 3:30, 4:40})\n",
    "6. using split function\n",
    "mystr = 'peter piper picked a peck of pickled peppers.'\n",
    "mylst = mystr.split()\n",
    "print(mylst)\n",
    "\n",
    "Properties of List :\n",
    "1. List is a sequence\n",
    "2. it is an ordered collection of elements - the elements which are indexed.\n",
    "3. Lists supports +ve and -ve indexing - +ve indexing starts from 0 to LHS direction and -ve indexing starts  from -1 from RHS direction.\n",
    "4. List supports indexing and slicing both\n",
    "5. It is mutable - modify(assignment is allowed, will keep the changes in the same object )\n",
    "6. It allows duplicate elements\n",
    "7. Basic operations - indexing, slicing, repetition, concatenation, membership, identity operator\n",
    "8. It can hold any data as its elements."
   ]
  },
  {
   "cell_type": "code",
   "execution_count": 1,
   "id": "531692aa",
   "metadata": {},
   "outputs": [
    {
     "name": "stdout",
     "output_type": "stream",
     "text": [
      "10\n",
      "10\n",
      "{1: 200, 2: 200, 3: 300}\n",
      "{1: 200, 2: 200, 3: 300}\n",
      "True\n",
      "['Python', None, True]\n",
      "[10, 20.3, (10+20j), 'Python', None, True, [10, 20, 30], (100, 200, 300), {200, 100, 300}, {1: 200, 2: 200, 3: 300}]\n",
      "[True, None, 'Python']\n",
      "[{1: 200, 2: 200, 3: 300}, {200, 100, 300}, (100, 200, 300), [10, 20, 30], True, None, 'Python', (10+20j), 20.3, 10]\n"
     ]
    }
   ],
   "source": [
    "# Indexing - accessing one element at a time\n",
    "lst = [10, 20.30, 10+20j, 'Python', None, True, [10,20,30], (100,200,300), {100,200,300}, {1:200, 2:200, 3:300}]\n",
    "\n",
    "# Accessing first element\n",
    "print(lst[0])\n",
    "print(lst[-len(lst)])\n",
    "\n",
    "# Accessing last element\n",
    "print(lst[-1])\n",
    "print(lst[len(lst)-1])\n",
    "\n",
    "# accessing a element at a particular index\n",
    "print(lst[5])\n",
    "\n",
    "# slicing - accessing multiple elements at a time..\n",
    "\n",
    "print(lst[3:6])\n",
    "print(lst)\n",
    "print(lst[5:2:-1])\n",
    "print(lst[::-1])"
   ]
  },
  {
   "cell_type": "code",
   "execution_count": 2,
   "id": "25615369",
   "metadata": {},
   "outputs": [
    {
     "name": "stdout",
     "output_type": "stream",
     "text": [
      "[10, 20.3, (10+20j), 'Python', None, True, [10, 20, 30], (100, 200, 300), {200, 100, 300}, {1: 200, 2: 200, 3: 300}, 1111, 2222, 3333, 4444]\n",
      "[10, 20.3, (10+20j), 'Python', None, True, [10, 20, 30], (100, 200, 300), {200, 100, 300}, {1: 200, 2: 200, 3: 300}]\n",
      "True\n",
      "False\n",
      "True\n",
      "False\n",
      "2184656966784\n",
      "2184656966784\n",
      "2184656968960\n"
     ]
    }
   ],
   "source": [
    "# concatenation and Repetition\n",
    "# concatenating two lists - both the operends should be of list only\n",
    "\n",
    "print(lst + [1111, 2222, 3333, 4444])\n",
    "print(lst)\n",
    "\n",
    "# Repetition - one operands should be list and other should be integer\n",
    "\n",
    "# print(lst * 3)\n",
    "\n",
    "# membership and identify\n",
    "print('Python' in lst)\n",
    "print('python' in lst)\n",
    "\n",
    "lst1 = lst\n",
    "lst2 = lst[::]\n",
    "print(lst is lst1)\n",
    "print(lst is lst2)\n",
    "print(id(lst))\n",
    "print(id(lst1))\n",
    "print(id(lst2))"
   ]
  },
  {
   "cell_type": "code",
   "execution_count": 12,
   "id": "318aa712",
   "metadata": {},
   "outputs": [
    {
     "name": "stdout",
     "output_type": "stream",
     "text": [
      "[{1: 200, 2: 200, 3: 300}, {200, 100, 300}, (100, 200, 300), [10, 20, 30], True, None, 'Python', 20.3, 10, [1, 2, 3, 4], False, {1: 100, 2: 200}, None, 110]\n"
     ]
    },
    {
     "ename": "TypeError",
     "evalue": "'<' not supported between instances of 'set' and 'dict'",
     "output_type": "error",
     "traceback": [
      "\u001b[1;31m---------------------------------------------------------------------------\u001b[0m",
      "\u001b[1;31mTypeError\u001b[0m                                 Traceback (most recent call last)",
      "\u001b[1;32m~\\AppData\\Local\\Temp/ipykernel_12168/96319542.py\u001b[0m in \u001b[0;36m<module>\u001b[1;34m\u001b[0m\n\u001b[0;32m     34\u001b[0m \u001b[1;31m# print(lst.reverse())\u001b[0m\u001b[1;33m\u001b[0m\u001b[1;33m\u001b[0m\u001b[0m\n\u001b[0;32m     35\u001b[0m \u001b[1;31m# print(lst)\u001b[0m\u001b[1;33m\u001b[0m\u001b[1;33m\u001b[0m\u001b[0m\n\u001b[1;32m---> 36\u001b[1;33m \u001b[0mprint\u001b[0m\u001b[1;33m(\u001b[0m\u001b[0mlst\u001b[0m\u001b[1;33m.\u001b[0m\u001b[0msort\u001b[0m\u001b[1;33m(\u001b[0m\u001b[1;33m)\u001b[0m\u001b[1;33m)\u001b[0m\u001b[1;33m\u001b[0m\u001b[1;33m\u001b[0m\u001b[0m\n\u001b[0m\u001b[0;32m     37\u001b[0m \u001b[0mprint\u001b[0m\u001b[1;33m(\u001b[0m\u001b[0mlst\u001b[0m\u001b[1;33m)\u001b[0m\u001b[1;33m\u001b[0m\u001b[1;33m\u001b[0m\u001b[0m\n",
      "\u001b[1;31mTypeError\u001b[0m: '<' not supported between instances of 'set' and 'dict'"
     ]
    }
   ],
   "source": [
    "# Methods on list\n",
    "# append, extend, insert\n",
    "# adding element at the end\n",
    "print(lst)\n",
    "\n",
    "# print('Before the op : ', lst, id(lst))\n",
    "# lst.append(11111)\n",
    "# print('After the op : ', lst, id(lst)) # after addition of element showing same id hence list is mutable.\n",
    "\n",
    "# adding a list at the end\n",
    "# lst.append([1,2,3,4])\n",
    "# print(lst)\n",
    "\n",
    "# lst1 = [False, {1:100, 2:200}, None, 110, 200]\n",
    "# Extending lst by lst1 - similar to concatenation but it will not create new list but add in the same list object.\n",
    "# lst.extend(lst1)\n",
    "# print(lst)\n",
    "# print(lst1)\n",
    "\n",
    "#insert - insert element at given index\n",
    "# lst.insert(5, 'False')\n",
    "# print(lst)\n",
    "\n",
    "# Removing an element - pop, remove\n",
    "# print(lst)\n",
    "# lst.pop() # by default it will remove last element of the list \n",
    "# pop using index\n",
    "# print(lst.pop(5))\n",
    "# Removing an element by value - using remove function\n",
    "# print(lst.remove((10+20j)))\n",
    "# print(lst)\n",
    "\n",
    "# reverse, sort\n",
    "# print(lst.reverse())\n",
    "# print(lst)\n",
    "print(lst.sort())\n",
    "print(lst)\n"
   ]
  },
  {
   "cell_type": "code",
   "execution_count": 13,
   "id": "e40e1ad3",
   "metadata": {},
   "outputs": [
    {
     "name": "stdout",
     "output_type": "stream",
     "text": [
      "[10, 10, 20, 20, 20, 20, 20, 20, 30, 40, 40, 50, 60, 100, 200, 900]\n",
      "[900, 200, 100, 60, 50, 40, 40, 30, 20, 20, 20, 20, 20, 20, 10, 10]\n"
     ]
    },
    {
     "ename": "ValueError",
     "evalue": "10 is not in list",
     "output_type": "error",
     "traceback": [
      "\u001b[1;31m---------------------------------------------------------------------------\u001b[0m",
      "\u001b[1;31mValueError\u001b[0m                                Traceback (most recent call last)",
      "\u001b[1;32m~\\AppData\\Local\\Temp/ipykernel_12168/2549900770.py\u001b[0m in \u001b[0;36m<module>\u001b[1;34m\u001b[0m\n\u001b[0;32m      8\u001b[0m \u001b[1;33m\u001b[0m\u001b[0m\n\u001b[0;32m      9\u001b[0m \u001b[1;31m# index\u001b[0m\u001b[1;33m\u001b[0m\u001b[1;33m\u001b[0m\u001b[0m\n\u001b[1;32m---> 10\u001b[1;33m \u001b[0mlst1\u001b[0m\u001b[1;33m.\u001b[0m\u001b[0mindex\u001b[0m\u001b[1;33m(\u001b[0m\u001b[1;36m10\u001b[0m\u001b[1;33m,\u001b[0m \u001b[1;36m40\u001b[0m\u001b[1;33m)\u001b[0m\u001b[1;33m\u001b[0m\u001b[1;33m\u001b[0m\u001b[0m\n\u001b[0m",
      "\u001b[1;31mValueError\u001b[0m: 10 is not in list"
     ]
    }
   ],
   "source": [
    "lst1 = [10,20,10,100,20,30,20,40,20,40,50,60,20,200,900,20]\n",
    "lst1.sort()\n",
    "print(lst1)\n",
    "# print(lst1.count(20))\n",
    "\n",
    "lst1.sort(reverse = True)\n",
    "print(lst1)\n",
    "\n",
    "# index\n",
    "lst1.index(10, 40)"
   ]
  },
  {
   "cell_type": "code",
   "execution_count": 7,
   "id": "445f5bb8",
   "metadata": {},
   "outputs": [
    {
     "name": "stdout",
     "output_type": "stream",
     "text": [
      "False\n",
      "1555585542080\n",
      "1555585548480\n"
     ]
    }
   ],
   "source": [
    "# Aliasing, shallow copy, deep copy\n",
    "\n",
    "lst = [10, 20, 30]\n",
    "# lst1 = lst # Aliasing - giving a different name to the existing object.\n",
    "# print(lst is lst1)\n",
    "# print(id(lst))\n",
    "# print(id(lst1))\n",
    "# lst1[0] = 100\n",
    "# print(lst, lst1) # above change reflected in both the lists..\n",
    "\n",
    "# shallow copy - slicing and copy\n",
    "# lst2 = lst[::1]\n",
    "# print(lst is lst2)\n",
    "# print(id(lst))\n",
    "# print(id(lst2)) #both are different objects \n",
    "# lst[0] = 500\n",
    "# print(lst, lst2) # change in lst not reflected in shallow copy\n",
    "\n",
    "\n",
    "# lst3 = lst.copy()\n",
    "# print(lst is lst3)\n",
    "# print(id(lst))\n",
    "# print(id(lst3))# both are different objects.\n",
    "\n",
    "# # deep copy\n",
    "from copy import deepcopy\n",
    "lst4 = deepcopy(lst)\n",
    "print(lst4 is lst)\n",
    "print(id(lst))\n",
    "print(id(lst4))\n",
    "\n"
   ]
  },
  {
   "cell_type": "code",
   "execution_count": 10,
   "id": "51e1f211",
   "metadata": {},
   "outputs": [
    {
     "name": "stdout",
     "output_type": "stream",
     "text": [
      "[[[0, 0, 0, 0, 0, 0], [0, 0, 0, 0, 0, 0], [0, 0, 0, 0, 0, 0], [0, 0, 0, 0, 0, 0]], [[0, 0, 0, 0, 0, 0], [1, 1, 1, 1, 1, 1], [2, 2, 2, 2, 2, 2], [3, 3, 3, 3, 3, 3]], [[0, 0, 0, 0, 0, 0], [2, 2, 2, 2, 2, 2], [4, 4, 4, 4, 4, 4], [6, 6, 6, 6, 6, 6]]]\n"
     ]
    }
   ],
   "source": [
    "# list comprehension\n",
    "\n",
    "# To create alist of even numbers between 20 to 50\n",
    "out_lst = []\n",
    "# for i in range(20, 51):\n",
    "#     if i % 2 == 0:\n",
    "#         out_lst.append(i)\n",
    "# print(out_lst)\n",
    "\n",
    "# print([i for i in range(20, 51) if i % 2 == 0])\n",
    "# print(lst1)\n",
    "\n",
    "# 4X4\n",
    "# [[0,0,0,0],[0,1,2,3],[0,2,4,6],[0,3,6,9]]  \n",
    "# print([[i * j for i in range(4)] for j in range(4)])\n",
    "\n",
    "# 3X4X6\n",
    "# [\n",
    "#     [[0,0,0,0,0,0],[0,0,0,0,0,0],[0,0,0,0,0,0],[0,0,0,0,0,0]],\n",
    "#     [[0,0,0,0,0,0],[1,1,1,1,1,1],[2,2,2,2,2,2],[3,3,3,3,3,3]],\n",
    "#     [[0,0,0,0,0,0],[2,2,2,2,2,2],[4,4,4,4,4,4],[6,6,6,6,6,6]]\n",
    "# ]\n",
    "\n",
    "print([[[i*j for k in range(6)] for j in range(4)] for i in range(3)])\n",
    "        "
   ]
  },
  {
   "cell_type": "code",
   "execution_count": null,
   "id": "48194cca",
   "metadata": {},
   "outputs": [],
   "source": [
    "# Tuple  - is similar to list\n",
    "# all theelements should be kept inside small brackets(Optional) and separated bu comma\n",
    "\n",
    "# Creation of tuple\n",
    "\n",
    "# If you know the elements in advance\n",
    "# tpl = 10,20,30,40\n",
    "# print(tpl, type(tpl))\n",
    "\n",
    "# Taking user input\n",
    "# tpl1 = eval(input('Enter a list: '))\n",
    "# print(tpl1, type(tpl1))\n",
    "\n",
    "# Using tuple(Iterable)\n",
    "# creating a tuple from string\n",
    "# print(tuple('Python'))\n",
    "# print(tuple([10,20,30,40]))\n",
    "# print(tuple({10,20,30,40}))\n",
    "# print(tuple({1:10,2:20,3:30,4:40}))\n",
    "\n",
    "# Creating a tuple with single element\n",
    "# tpl = (10,)\n",
    "# print(tpl, type(tpl))\n",
    "\n",
    "\n",
    "# Properties of Tuple:-\n",
    "# 1. Tuple is a seq\n",
    "# 2. It is an ordered collection of the elements -> The elements are indexed\n",
    "# 3. Tuple also supports +ve and -ve indexing\n",
    "#     +ve indexing starts from 0 from LHS and -ve indexing starts from -1 from RHS\n",
    "# 4. Tuple supports Indexing and slicing both\n",
    "# 5. It is immutable - \n",
    "# 6. It allows the duplicate elements\n",
    "# 7. Basic operation - Indexing, slicing, Concatenation, Repetition, Membership, Identity operator\n",
    "# 8. It can hold any data as it's elements\n",
    "\n",
    "'''unlike Lists. Since they are immutable, a lot of functions like append, extend, remove, pop and clear which \n",
    "can be used on lists cannot be used on Tuples.'''\n",
    "\n",
    "\n",
    "# Methods in tuple\n",
    "# print(dir(tpl))\n",
    "#  'count', 'index'\n"
   ]
  },
  {
   "cell_type": "code",
   "execution_count": 11,
   "id": "901e2154",
   "metadata": {},
   "outputs": [
    {
     "name": "stdout",
     "output_type": "stream",
     "text": [
      "(10, 20, 30, 40)\n",
      "10\n",
      "20\n",
      "30\n",
      "40\n"
     ]
    }
   ],
   "source": [
    "# Tuple - similar to list but enclosed in small bracket instead of square bracket. \n",
    "# Tuple is immutable. indexing, slicing possible\n",
    "# both +ve, -ve indexing possible.\n",
    "\n",
    "# Tuple packing and unpacking\n",
    "# Tuple packing \n",
    "a = 10\n",
    "b = 20\n",
    "c = 30\n",
    "d = 40\n",
    "tpl = (a, b, c, d)\n",
    "print(tpl)\n",
    "\n",
    "# Tuple unpacking\n",
    "a,b,c,d = tpl\n",
    "print(a)\n",
    "print(b)\n",
    "print(c)\n",
    "print(d)"
   ]
  },
  {
   "cell_type": "code",
   "execution_count": null,
   "id": "e71abaef",
   "metadata": {},
   "outputs": [],
   "source": [
    "# Dictionary - is used to represent structured data.\n",
    "# d = {'emp1':{'name':'ABC', 'age':23, 'sal':10000.00}, 'emp2':{'name':'XYZ', 'age':24, 'sal':8000.00}, 'emp1':{'name':'ABC', 'age':23, 'sal':15000.00}}\n",
    "# print(d)\n",
    "\n",
    "Dictionery - Properties\n",
    "1. is a collection of key value pair\n",
    "2. a key, value pair is called a item\n",
    "3. items are seperated by commas.\n",
    "4. key and value are seperated by :\n",
    "5. key can't be duplicated but value can be duplicated.\n",
    "6. key can't be mutable, but value can be of any type.\n",
    "7. all the items kept inside {} seperated by comma.\n",
    "8. Dictionery is not a sequence hence indexing and slicing not allowed, concatenation, repetition also not allowed.\n",
    "9. membership operator check for key and returns True if key present in dictionery.\n",
    "10. identify operation is possible\n",
    "11. Dictionery as a whole is mutable.\n"
   ]
  },
  {
   "cell_type": "code",
   "execution_count": 13,
   "id": "81e10c72",
   "metadata": {},
   "outputs": [
    {
     "name": "stdout",
     "output_type": "stream",
     "text": [
      "3\n",
      "<class 'dict'>\n"
     ]
    }
   ],
   "source": [
    "# Duplicates Not Allowed\n",
    "# Dictionaries cannot have two items with the same key:\n",
    "\n",
    "# Example\n",
    "# Duplicate values will overwrite existing values:\n",
    "\n",
    "# thisdict = {\n",
    "#   \"brand\": \"Ford\",\n",
    "#   \"model\": \"Mustang\",\n",
    "#   \"year\": 1964,\n",
    "#   \"year\": 2020\n",
    "# }\n",
    "# print(thisdict)\n",
    "\n",
    "# Dictionary Length\n",
    "# To determine how many items a dictionary has, use the len() function:\n",
    "\n",
    "# Example\n",
    "# Print the number of items in the dictionary:\n",
    "\n",
    "print(len(thisdict))\n",
    "\n",
    "# Dictionary Items - Data Types\n",
    "# The values in dictionary items can be of any data type:\n",
    "# Example\n",
    "# String, int, boolean, and list data types:\n",
    "\n",
    "thisdict = {\n",
    "  \"brand\": \"Ford\",\n",
    "  \"electric\": False,\n",
    "  \"year\": 1964,\n",
    "  \"colors\": [\"red\", \"white\", \"blue\"]\n",
    "}\n",
    "\n",
    "# type()\n",
    "# From Python's perspective, dictionaries are defined as objects with the data type 'dict':\n",
    "\n",
    "# <class 'dict'>\n",
    "\n",
    "print(type(thisdict))"
   ]
  },
  {
   "cell_type": "code",
   "execution_count": 14,
   "id": "aae6feea",
   "metadata": {},
   "outputs": [
    {
     "name": "stdout",
     "output_type": "stream",
     "text": [
      "{'brand': 'Ford', 'model': 'Mustang', 'year': 1964, 'color': 'red'}\n"
     ]
    }
   ],
   "source": [
    "# Change Values\n",
    "# You can change the value of a specific item by referring to its key name:\n",
    "\n",
    "# Example\n",
    "# Change the \"year\" to 2018:\n",
    "\n",
    "thisdict = {\n",
    "  \"brand\": \"Ford\",\n",
    "  \"model\": \"Mustang\",\n",
    "  \"year\": 1964\n",
    "}\n",
    "thisdict[\"year\"] = 2018\n",
    "\n",
    "# Update Dictionary\n",
    "# The update() method will update the dictionary with the items from the given argument.\n",
    "# The argument must be a dictionary, or an iterable object with key:value pairs.\n",
    "# Example\n",
    "# Update the \"year\" of the car by using the update() method:\n",
    "\n",
    "thisdict = {\n",
    "  \"brand\": \"Ford\",\n",
    "  \"model\": \"Mustang\",\n",
    "  \"year\": 1964\n",
    "}\n",
    "thisdict.update({\"year\": 2020})\n",
    "\n",
    "# Adding Items\n",
    "# Adding an item to the dictionary is done by using a new index key and assigning a value to it:\n",
    "\n",
    "# Example\n",
    "thisdict = {\n",
    "  \"brand\": \"Ford\",\n",
    "  \"model\": \"Mustang\",\n",
    "  \"year\": 1964\n",
    "}\n",
    "thisdict[\"color\"] = \"red\"\n",
    "print(thisdict)"
   ]
  },
  {
   "cell_type": "code",
   "execution_count": 18,
   "id": "83c4e3f2",
   "metadata": {},
   "outputs": [
    {
     "name": "stdout",
     "output_type": "stream",
     "text": [
      "{'child1': {'name': 'Emil', 'year': 2004}, 'child2': {'name': 'Tobias', 'year': 2007}, 'child3': {'name': 'Linus', 'year': 2011}}\n"
     ]
    }
   ],
   "source": [
    "# Nested Dictionaries\n",
    "# A dictionary can contain dictionaries, this is called nested dictionaries.\n",
    "# Example\n",
    "# Create a dictionary that contain three dictionaries:\n",
    "\n",
    "myfamily = {\n",
    "  \"child1\" : {\n",
    "    \"name\" : \"Emil\",\n",
    "    \"year\" : 2004\n",
    "  },\n",
    "  \"child2\" : {\n",
    "    \"name\" : \"Tobias\",\n",
    "    \"year\" : 2007\n",
    "  },\n",
    "  \"child3\" : {\n",
    "    \"name\" : \"Linus\",\n",
    "    \"year\" : 2011\n",
    "  }\n",
    "}\n",
    "print(myfamily)"
   ]
  },
  {
   "cell_type": "code",
   "execution_count": null,
   "id": "88aa67cd",
   "metadata": {},
   "outputs": [],
   "source": []
  },
  {
   "cell_type": "code",
   "execution_count": null,
   "id": "cea1a92f",
   "metadata": {},
   "outputs": [],
   "source": []
  },
  {
   "cell_type": "code",
   "execution_count": 14,
   "id": "5166e143",
   "metadata": {},
   "outputs": [
    {
     "name": "stdout",
     "output_type": "stream",
     "text": [
      "{(10, 20, 30): 200} <class 'dict'>\n",
      "200\n"
     ]
    }
   ],
   "source": [
    "tpl1 = (10, 20, 30)\n",
    "tpl2 = (10, 20, 30)\n",
    "\n",
    "d = {tpl1:100, tpl2:200}\n",
    "print(d, type(d))\n",
    "print(d[tpl1])"
   ]
  },
  {
   "cell_type": "code",
   "execution_count": 27,
   "id": "024bd9c5",
   "metadata": {},
   "outputs": [
    {
     "name": "stdout",
     "output_type": "stream",
     "text": [
      "{('name', 'age', 'sal'): ('ABC', 23, 10000)}\n",
      "{1: 100, 20: 2900, 30: 'python'}\n",
      "True\n",
      "False\n"
     ]
    }
   ],
   "source": [
    "tpl1 = ('name', 'age', 'sal')\n",
    "d = {tpl1: ('ABC', 23, 10000)}\n",
    "print(d)\n",
    "\n",
    "# creation of dictionery \n",
    "# 1. If you already have values can define directly using {} brackets.\n",
    "# 2. using eval function and by taking input from user.\n",
    "# 3. using dict function and assigning list, tuple objects etc.,\n",
    "\n",
    "# example :\n",
    "d = dict([(1, 100), (2.9, 200), (3, 300)])\n",
    "# print(d)\n",
    "\n",
    "d = dict(zip([1, 20,30, 'a'], (100, 2900, 'python')))\n",
    "print(d)\n",
    "\n",
    "d1 = d # Aliasing\n",
    "print(d1 is d)\n",
    "\n",
    "d2 = d.copy() # shallow copy\n",
    "print(d2 is d)"
   ]
  },
  {
   "cell_type": "code",
   "execution_count": 15,
   "id": "33e3d8e8",
   "metadata": {},
   "outputs": [
    {
     "name": "stdout",
     "output_type": "stream",
     "text": [
      "before operation  1555585489280\n",
      "After operation  1555585489280\n",
      "{'emp1': {'name': 'ABC', 'age': 23, 'sal': 10000.0}, 'emp2': {'name': 'XYZ', 'age': 24, 'sal': 8000.0}, 'emp3': {'name': 'MNO', 'age': 25, 'sal': 20000.0}, 'emp4': {'name': 'PQR', 'age': 29, 'sal': 28000.0}}\n",
      "{'emp1': {'name': 'ABC', 'age': 23, 'sal': 10000.0}, 'emp2': {'name': 'XYZ', 'age': 24, 'sal': 8000.0}, 'emp3': {'name': 'MNO', 'age': 25, 'sal': 20000.0}, 'emp4': {'name': 'PQR', 'age': 29, 'sal': 28000.0}}\n",
      "before operation  1555585489280\n",
      "{'emp1': {'name': 'PQR', 'age': 29, 'sal': 28000.0}, 'emp2': {'name': 'XYZ', 'age': 24, 'sal': 8000.0}, 'emp3': {'name': 'MNO', 'age': 25, 'sal': 20000.0}, 'emp4': {'name': 'PQR', 'age': 29, 'sal': 28000.0}}\n",
      "After operation  1555585489280\n"
     ]
    }
   ],
   "source": [
    "# Accessing a value inside a dictionary - we use square bracket notation\n",
    "d = {'emp1':{'name':'ABC', 'age':23, 'sal':10000.00}, 'emp2':{'name':'XYZ', 'age':24, 'sal':8000.00}, 'emp3':{'name':'MNO', 'age':25, 'sal':20000.00}}\n",
    "# print(d['emp2']['age'])\n",
    "\n",
    "# Update a dictionary\n",
    "# If key is not available\n",
    "print('before operation ', id(d))\n",
    "d['emp4'] = {'name':'PQR', 'age':29, 'sal':28000.00}\n",
    "print('After operation ', id(d))\n",
    "print(d)\n",
    "\n",
    "# If key ia avilable\n",
    "print(d)\n",
    "print('before operation ', id(d))\n",
    "d['emp1'] = {'name':'PQR', 'age':29, 'sal':28000.00}\n",
    "print(d)\n",
    "print('After operation ', id(d)) # id before and after opeation is same hence dictionary is mutable."
   ]
  },
  {
   "cell_type": "code",
   "execution_count": 9,
   "id": "90a9fa9f",
   "metadata": {},
   "outputs": [
    {
     "name": "stdout",
     "output_type": "stream",
     "text": [
      "{'name': 'PQR', 'age': 29, 'sal': 28000.0}\n",
      " key not available\n",
      "{'name': 'venu', 'age': 29, 'sal': 20000}\n",
      "{'emp1': {'name': 'PQR', 'age': 29, 'sal': 28000.0}, 'emp2': {'name': 'XYZ', 'age': 24, 'sal': 8000.0}, 'emp3': {'name': 'MNO', 'age': 25, 'sal': 20000.0}, 'emp5': {'name': 'venu', 'age': 29, 'sal': 20000}, 11: 11000, 22: 22000, 33: 33000}\n"
     ]
    }
   ],
   "source": [
    "# Dictionery methods - get, setdefault, update\n",
    "\n",
    "# get - if key is available\n",
    "print(d.get('emp1'))\n",
    "\n",
    "# get - if key is not available\n",
    "print(d.get('emp5', ' key not available'))\n",
    "\n",
    "print(d.setdefault('emp5', {'name':'venu', 'age': 29, 'sal': 20000}))\n",
    "\n",
    "# update in dic is similar to extend in list.\n",
    "\n",
    "d1 = {11:11000, 22:22000, 33:33000}\n",
    "\n",
    "d.update(d1)\n",
    "print(d)\n"
   ]
  },
  {
   "cell_type": "code",
   "execution_count": 10,
   "id": "0e43342e",
   "metadata": {},
   "outputs": [
    {
     "name": "stdout",
     "output_type": "stream",
     "text": [
      "{'emp1': {'name': 'PQR', 'age': 29, 'sal': 28000.0}, 'emp2': {'name': 'XYZ', 'age': 24, 'sal': 8000.0}, 'emp3': {'name': 'MNO', 'age': 25, 'sal': 20000.0}, 11: 11000, 22: 22000, 33: 33000}\n",
      "{'emp1': {'name': 'PQR', 'age': 29, 'sal': 28000.0}, 'emp2': {'name': 'XYZ', 'age': 24, 'sal': 8000.0}, 'emp3': {'name': 'MNO', 'age': 25, 'sal': 20000.0}, 11: 11000, 22: 22000, 33: 33000}\n",
      "{'emp1': {'name': 'PQR', 'age': 29, 'sal': 28000.0}, 'emp2': {'name': 'XYZ', 'age': 24, 'sal': 8000.0}, 'emp3': {'name': 'MNO', 'age': 25, 'sal': 20000.0}}\n"
     ]
    }
   ],
   "source": [
    "# pop, popitem\n",
    "\n",
    "d.pop('emp5', 'The key already removed' )\n",
    "print(d)\n",
    "\n",
    "d.pop('emp7', 'The key is not present')\n",
    "print(d)\n",
    "\n",
    "d.popitem()\n",
    "d.popitem()\n",
    "d.popitem()\n",
    "print(d)"
   ]
  },
  {
   "cell_type": "code",
   "execution_count": 52,
   "id": "5c8848a4",
   "metadata": {},
   "outputs": [
    {
     "name": "stdout",
     "output_type": "stream",
     "text": [
      "dict_keys(['emp1', 'emp2'])\n",
      "dict_values([{'name': 'PQR', 'age': 29, 'sal': 28000.0}, {'name': 'XYZ', 'age': 24, 'sal': 8000.0}])\n",
      "dict_items([('emp1', {'name': 'PQR', 'age': 29, 'sal': 28000.0}), ('emp2', {'name': 'XYZ', 'age': 24, 'sal': 8000.0})])\n",
      "emp1\n",
      "emp2\n",
      "{'name': 'PQR', 'age': 29, 'sal': 28000.0}\n",
      "{'name': 'XYZ', 'age': 24, 'sal': 8000.0}\n",
      "('emp1', {'name': 'PQR', 'age': 29, 'sal': 28000.0})\n",
      "('emp2', {'name': 'XYZ', 'age': 24, 'sal': 8000.0})\n"
     ]
    }
   ],
   "source": [
    "# keys, values, items\n",
    "\n",
    "print(d.keys())\n",
    "print(d.values())\n",
    "print(d.items())\n",
    "# by using these commans keys, values, items can be used for iteration in for loop.\n",
    "\n",
    "for i in d.keys():\n",
    "    print(i)\n",
    "    \n",
    "for i in d.values():\n",
    "    print(i)\n",
    "    \n",
    "for i in d.items():\n",
    "    print(i)"
   ]
  },
  {
   "cell_type": "code",
   "execution_count": 56,
   "id": "59f5260e",
   "metadata": {},
   "outputs": [
    {
     "name": "stdout",
     "output_type": "stream",
     "text": [
      "{1: 10, 2: 10, 3: 10, 4: 10}\n"
     ]
    }
   ],
   "source": [
    "# fromkeys - create a new dictionery with keys from iterable and values to be set to value.\n",
    "\n",
    "d6 = d2.fromkeys([1,2,3,4], 10)\n",
    "print(d6)"
   ]
  },
  {
   "cell_type": "code",
   "execution_count": 45,
   "id": "ba07898e",
   "metadata": {},
   "outputs": [
    {
     "name": "stdout",
     "output_type": "stream",
     "text": [
      "{'emp1': {'e_name': 'John', 'e_id': 'SG101', 'e_sal': '$10,000'}, 'emp2': {'e_name': 'Smith', 'e_id': 'SG102', 'e_sal': '$9,000'}, 'emp3': {'e_name': 'Peter', 'e_id': 'SG103', 'e_sal': '$9,500'}}\n"
     ]
    }
   ],
   "source": [
    "# Create a dictionary out of below inputs\n",
    "lst1 = ['emp1', 'emp2', 'emp3']\n",
    "emp_key = ['e_name', 'e_id', 'e_sal']\n",
    "emp1_val = ['John', 'SG101', '$10,000']\n",
    "emp2_val = ['Smith', 'SG102', '$9,000']\n",
    "emp3_val = ['Peter', 'SG103', '$9,500']\n",
    "\n",
    "# Expected Output:- {'emp1':{'e_name':'John', 'e_id':'SG101', 'e_sal':$10,000}, \n",
    "#                    'emp2':{'e_name':'Smith', 'e_id':'SG102', 'e_sal':$9,000}, \n",
    "#                    'emp3':{'e_name':'Peter', 'e_id':'SG103', 'e_sal':$9,500}}\n",
    "out_dict = {}\n",
    "e1 = dict(zip(emp_key, emp1_val))\n",
    "e2 = dict(zip(emp_key, emp2_val))\n",
    "e3 = dict(zip(emp_key, emp3_val))\n",
    "a = out_dict.fromkeys(lst1)\n",
    "a['emp1'] = e1\n",
    "a['emp2'] = e2\n",
    "a['emp3'] = e3\n",
    "\n",
    "print(a)\n"
   ]
  },
  {
   "cell_type": "code",
   "execution_count": 46,
   "id": "5ca74f95",
   "metadata": {},
   "outputs": [
    {
     "name": "stdout",
     "output_type": "stream",
     "text": [
      "80\n"
     ]
    }
   ],
   "source": [
    "# Acess the value of key 'history'\n",
    "\n",
    "sampleDict = { \n",
    "   \"class\":{ \n",
    "      \"student\":{ \n",
    "         \"name\":\"Mike\",\n",
    "         \"marks\":{ \n",
    "            \"physics\":70,\n",
    "            \"history\":80\n",
    "         }\n",
    "      }\n",
    "   }\n",
    "}\n",
    "print(sampleDict['class']['student']['marks']['history'])"
   ]
  },
  {
   "cell_type": "code",
   "execution_count": 48,
   "id": "62db1918",
   "metadata": {},
   "outputs": [
    {
     "name": "stdout",
     "output_type": "stream",
     "text": [
      "{'Kelly': {'designation': 'Application Developer', 'salary': 8000}, 'Emma': {'designation': 'Application Developer', 'salary': 8000}, 'John': {'designation': 'Application Developer', 'salary': 8000}}\n"
     ]
    }
   ],
   "source": [
    "# Initialize dictionary with default values. Inputs are:-\n",
    "employees = ['Kelly', 'Emma', 'John']\n",
    "defaults = {\"designation\": 'Application Developer', \"salary\": 8000}\n",
    "\n",
    "#Expected output:- {'Kelly': {'designation': 'Application Developer', 'salary': 8000}, \n",
    "#                   'Emma': {'designation': 'Application Developer', 'salary': 8000}, \n",
    "#                   'John': {'designation': 'Application Developer', 'salary': 8000}}\n",
    "\n",
    "out_dict = dict.fromkeys(employees, defaults)\n",
    "print(out_dict)"
   ]
  },
  {
   "cell_type": "code",
   "execution_count": 1,
   "id": "6e2d0dac",
   "metadata": {},
   "outputs": [
    {
     "name": "stdout",
     "output_type": "stream",
     "text": [
      "Enter the word : \n",
      "google.com\n",
      "{'g': 2, 'o': 3, 'l': 1, 'e': 1, '.': 1, 'c': 1, 'm': 1}\n"
     ]
    }
   ],
   "source": [
    "# Write a function which takes a word as input and returns a dictionary with letters as key and no of time letters are repeated as value.\n",
    "# In - count_letter('google.com')\n",
    "# Out - {'g': 2, 'o': 3, 'l': 1, 'e': 1, '.': 1, 'c': 1, 'm': 1}\n",
    "\n",
    "def count_letter(m):\n",
    "    letter_count = {} \n",
    "    for letter in m:\n",
    "        letter_count[letter] = letter_count.get(letter, 0) + 1\n",
    "    return letter_count\n",
    "m = input('Enter the word : \\n')\n",
    "print(count_letter(m))\n",
    "        \n",
    "    "
   ]
  },
  {
   "cell_type": "code",
   "execution_count": 2,
   "id": "8373a367",
   "metadata": {},
   "outputs": [
    {
     "name": "stdout",
     "output_type": "stream",
     "text": [
      "Enter the dictionery {'a':1, 'b':2, 'c':2}\n",
      "Enter the value 2\n",
      "['b', 'c']\n"
     ]
    }
   ],
   "source": [
    "# Write a function reverseLookup(dictionary, value) that takes in a dictionary \n",
    "# and a value as arguments and returns a sorted list of all keys that contains the value. \n",
    "# The function will return an empty list if no match is found.\n",
    "\n",
    "# In - reverseLookup({'a':1, 'b':2, 'c':2}, 1)\n",
    "# Out - ['a']\n",
    "# In - reverseLookup({'a':1, 'b':2, 'c':2}, 2)\n",
    "# Out - ['b', 'c']\n",
    "# In - reverseLookup({'a':1, 'b':2, 'c':2}, 3)\n",
    "# Out - []\n",
    "out = []\n",
    "def reverselookup(d, a):\n",
    "    for i,j in d.items():\n",
    "        if j == a:\n",
    "            out.append(i)\n",
    "    return out\n",
    "\n",
    "d = eval(input('Enter the dictionery '))\n",
    "a = int(input('Enter the value '))\n",
    "print(reverselookup(d, a))"
   ]
  },
  {
   "cell_type": "code",
   "execution_count": null,
   "id": "5adb1ccb",
   "metadata": {},
   "outputs": [],
   "source": [
    "# Write a function invertDictionary(d) that takes in a dictionary as argument and return a dictionary that inverts the keys and the values of the original dictionary.\n",
    "# In - invertDictionary({'a':1, 'b':2, 'c':3, 'd':2})\n",
    "# Out - {1: ['a'], 2: ['b', 'd'], 3: ['c']}\n",
    "# In - invertDictionary({'a':3, 'b':3, 'c':3})\n",
    "# Out - {3: ['a', 'c', 'b']}\n",
    "# In - invertDictionary({'a':2, 'b':1, 'c':2, 'd':1})\n",
    "# Out - {1: ['b', 'd'], 2: ['a', 'c']}\n",
    "out_dict = {}\n",
    "def invertdictionary(d):\n",
    "    key_lst = list(d.keys())\n",
    "    value_lst = list(d.values())\n",
    "    for i in key_lst:\n",
    "        if i in out_dict:\n",
    "            \n",
    "        \n",
    "        "
   ]
  },
  {
   "cell_type": "code",
   "execution_count": null,
   "id": "fe9c82b8",
   "metadata": {},
   "outputs": [],
   "source": []
  },
  {
   "cell_type": "code",
   "execution_count": null,
   "id": "3c98601d",
   "metadata": {},
   "outputs": [],
   "source": []
  },
  {
   "cell_type": "code",
   "execution_count": null,
   "id": "9953f153",
   "metadata": {},
   "outputs": [],
   "source": []
  },
  {
   "cell_type": "code",
   "execution_count": null,
   "id": "130dceee",
   "metadata": {},
   "outputs": [],
   "source": []
  },
  {
   "cell_type": "code",
   "execution_count": null,
   "id": "dfd8ac64",
   "metadata": {},
   "outputs": [],
   "source": []
  },
  {
   "cell_type": "code",
   "execution_count": null,
   "id": "a2a30cf4",
   "metadata": {},
   "outputs": [],
   "source": []
  },
  {
   "cell_type": "code",
   "execution_count": 61,
   "id": "2c525025",
   "metadata": {},
   "outputs": [
    {
     "name": "stdout",
     "output_type": "stream",
     "text": [
      "[-10, -9, -8, -7, -6, -5, -4, -3, -2, -1, 0, 1, 2, 3, 4, 5, 6, 7, 8, 9, 10, 11, 12, 13, 14, 15, 16, 17, 18, 19]\n",
      "[-10, -7, -4, -1, 2, 5, 8, 11, 14, 17]\n",
      "[10, 7, 4, 1, -2, -5, -8, -11, -14, -17]\n"
     ]
    }
   ],
   "source": [
    "# range() -  for loop\n",
    "\n",
    "# range(start, stop, step) - start default 0, stop to be given by user, step default 1 and can be given any value +ve/-ve.\n",
    "# step 1 - continuous \n",
    "# step 2 - every 2nd item\n",
    "# step 3 - every 3rd item\n",
    "\n",
    "# returns range object - list or run the loop to fetch the value.\n",
    "\n",
    "print(list(range(-10, 20)))\n",
    "print(list(range(-10, 20, 3)))\n",
    "print(list(range(10, -20, -3)))\n"
   ]
  },
  {
   "cell_type": "code",
   "execution_count": 79,
   "id": "60a1e192",
   "metadata": {},
   "outputs": [
    {
     "name": "stdout",
     "output_type": "stream",
     "text": [
      "{40, 10, 20, 30}\n",
      "{100, 40, 10, 20, 30}\n",
      "{100, 70, 40, 10, 50, 20, 60, 30}\n",
      "{100, 70, 40, 10, 20, 60, 30}\n",
      "{100, 40, 10, 20, 60, 30}\n",
      "{40, 10, 20, 60, 30}\n",
      "40\n",
      "10\n",
      "20\n",
      "60\n",
      "30\n",
      "{70, 40, 10, 50, 20, 60, 30}\n",
      "{'apple'}\n",
      "{'google', 'microsoft'}\n"
     ]
    }
   ],
   "source": [
    "# set - is a unordered, unchangeable, unindexed collection of data.\n",
    "# set items are unchangeable but you can remove and add new items\n",
    "# sets are written in curly brakcets\n",
    "# set is a collection of values and not an seq.\n",
    "# it is not an ordered collection\n",
    "# it doesn't support indexing and slicing as they are unordered.\n",
    "# set is a collection of unique items, duplicates not allowed.\n",
    "# set is mutable.\n",
    "\n",
    "s = {10, 20, 30, 40, 40}\n",
    "print(s)\n",
    "# add method is used to add new element in to the set.\n",
    "s.add(100)\n",
    "print(s)\n",
    "\n",
    "#A set is mutable (but elements of a set should be immutable) so the memory id after add does not change. \n",
    "# Add modifies the original set. If a element is already present in the set it won't be added.\n",
    "# Add method takes only one argument \n",
    "\n",
    "set1.add(201,1001)\n",
    "print(set1)\n",
    "TypeError: set.add() takes exactly one argument (2 given)\n",
    "\n",
    "#As lists and dictionaries are mutable, they cannot be added to sets. Tuples can be added but they will added\n",
    "# as one single element of the set (with the caveat that the tuple itself does not contain a mutable object \n",
    "# as we saw previously)\n",
    "\n",
    "s1 = {50, 60, 70}\n",
    "# update method is used to add another set, list, tuple or dictionery in to the existing set.\n",
    "#.update() method on set - takes any element(or iterable), converts it to sets and updates the original set. There is no\n",
    "# return in the output. \n",
    "\n",
    "s.update(s1) \n",
    "print(s)\n",
    "\n",
    "set2 = set(1,2,3,4,1,7,3)\n",
    "\n",
    "#As with other constructors we have seen for lists and tuples, there must be only one iterable in the call to the set \n",
    "# constructor or it throws an error\n",
    "\n",
    " set4 = set([1,2,[7,8,9],'abc',('xyz', 'pqrst')])\n",
    "    \n",
    "print(set4)\n",
    "TypeError: unhashable type: 'list'\n",
    "#Note the error above since we are trying to use a mutable datatype list in sets. \n",
    "\n",
    "#len() - Python built-in len() function works on Sets since they are sequential or collection of objects. \n",
    "\n",
    "set_len = len(set3)\n",
    "print(set_len)\n",
    "\n",
    "#Membership operators in sets work as we have seen in other datatypes.\n",
    "print(set1)\n",
    "\n",
    "print(2 in set1)\n",
    "\n",
    "#.discard() method for sets removes an element from the set. It takes one parameter the element to be removed. If the\n",
    "# element is present, it is removed, if not the original set is unchanged. \n",
    "\n",
    "set2 = set1.discard(200)\n",
    "\n",
    "print(set1)\n",
    "print(set2)\n",
    "\n",
    "# remove used to remove element from the set.\n",
    "s.remove(50)\n",
    "print(s)\n",
    "s.discard(70)\n",
    "print(s)\n",
    "# if the item to be removed is not exist remove will raise  keyerror but discard will not raise any error.\n",
    "\n",
    "#.pop() method on sets - removes a random element from the set (usually the top printed element from the set). \n",
    "# .pop() method returns the popped element which we can save to a variable. It takes no arguments. \n",
    "\n",
    "s.pop()\n",
    "print(s)\n",
    "\n",
    "# loop sets\n",
    "for x in s:\n",
    "    print(x)\n",
    "\n",
    "# join two sets\n",
    "s3 = s1.union(s)\n",
    "print(s3)\n",
    "\n",
    "# the intersection_update method will keep only unique items of both the sets and remove other elements\n",
    "x = {\"apple\", \"banana\", \"cherry\"}\n",
    "y = {\"google\", \"microsoft\", \"apple\"}\n",
    "\n",
    "x.intersection_update(y) # apple is the only element present in two sets hence only this will be given as output.\n",
    "\n",
    "print(x)\n",
    "\n",
    "#symmetric_difference_update is exactly opposite to intersection_update and keeps only elements not present in both the sets\n",
    "x.symmetric_difference_update(y)\n",
    "print(x)"
   ]
  },
  {
   "cell_type": "code",
   "execution_count": 3,
   "id": "7dd8071f",
   "metadata": {},
   "outputs": [
    {
     "data": {
      "text/plain": [
       "{(4, 5), 1, 2, 3}"
      ]
     },
     "execution_count": 3,
     "metadata": {},
     "output_type": "execute_result"
    }
   ],
   "source": [
    "# s3 = {1,2,3,[4,5]}\n",
    "# s3 # mutable items can't become elements to set.\n",
    "\n",
    "s4 = {1,2,3,(4,5)}\n",
    "s4"
   ]
  },
  {
   "cell_type": "code",
   "execution_count": 3,
   "id": "582c6c76",
   "metadata": {},
   "outputs": [
    {
     "name": "stdout",
     "output_type": "stream",
     "text": [
      "{1, 2, 3, 4, 5, 6, 7}\n",
      "{1, 2, 3, 4, 5, 6, 7}\n",
      "{3, 4, 5, 6, 7}\n",
      "{3}\n",
      "{1, 2, 3, 4, 5, 6, 7, 8}\n"
     ]
    }
   ],
   "source": [
    "# Union - all elements of both the sets will be resulting set\n",
    "s1 = {1,2,3,4}\n",
    "s2 = {3,4,5,6,7}\n",
    "print(s1.union(s2))\n",
    "print(s1 | s2) # symbol of union\n",
    "# print(s1 *2) # repetition doesn't support in sets.\n",
    "# print(s1 + s2) # set addition also unsupported\n",
    "s1.intersection(s2) # returns common elements of both the sets \n",
    "print(s2 & s2) # intersection symbol\n",
    "s3 = {3,7,8}\n",
    "s1.intersection(s2, s3) # will return only value\n",
    "print(s1 & s2 & s3) # will return in the form of set\n",
    "s1.union(s2,s3)\n",
    "print(s1 | s2 | s3)"
   ]
  },
  {
   "cell_type": "code",
   "execution_count": 14,
   "id": "851de998",
   "metadata": {},
   "outputs": [
    {
     "name": "stdout",
     "output_type": "stream",
     "text": [
      "[3, 4, 5, 6, 7]\n"
     ]
    }
   ],
   "source": [
    "# set can be converted in to list\n",
    "lst = list(s2)\n",
    "print(lst)"
   ]
  },
  {
   "cell_type": "code",
   "execution_count": null,
   "id": "81d5cfdb",
   "metadata": {},
   "outputs": [],
   "source": [
    "#As we have seen - sets themselves are mutable but contain immutable objects. However, if we need AN IMMUTABLE set which\n",
    "# only contains unique values, we can use Frozen sets - another built-in datatype in Python.\\\n",
    "\n",
    "#1. Frozensets are derived datatypes.\n",
    "#2. They are immutable. \n",
    "#3. The elements in a frozenset are immutable. So, unlike sets - no addition or removal of elements can be performed.\n",
    "#4. They are sequential\n",
    "#5. They are unordered. \n",
    "#6. They do not support slicing, indexing or item assignment\n",
    "#7. They are iterable.\n",
    "\n",
    "#They can take any iterable and be converted to a frozenset. "
   ]
  },
  {
   "cell_type": "code",
   "execution_count": 66,
   "id": "77b229cb",
   "metadata": {},
   "outputs": [
    {
     "name": "stdout",
     "output_type": "stream",
     "text": [
      "frozenset({40, 10, 50, 20, 30})\n"
     ]
    },
    {
     "ename": "AttributeError",
     "evalue": "'frozenset' object has no attribute 'add'",
     "output_type": "error",
     "traceback": [
      "\u001b[1;31m---------------------------------------------------------------------------\u001b[0m",
      "\u001b[1;31mAttributeError\u001b[0m                            Traceback (most recent call last)",
      "\u001b[1;32m~\\AppData\\Local\\Temp/ipykernel_13208/1220512072.py\u001b[0m in \u001b[0;36m<module>\u001b[1;34m\u001b[0m\n\u001b[0;32m      2\u001b[0m \u001b[0ms\u001b[0m \u001b[1;33m=\u001b[0m \u001b[0mfrozenset\u001b[0m\u001b[1;33m(\u001b[0m\u001b[1;33m[\u001b[0m\u001b[1;36m10\u001b[0m\u001b[1;33m,\u001b[0m \u001b[1;36m20\u001b[0m\u001b[1;33m,\u001b[0m \u001b[1;36m30\u001b[0m\u001b[1;33m,\u001b[0m \u001b[1;36m40\u001b[0m\u001b[1;33m,\u001b[0m \u001b[1;36m50\u001b[0m\u001b[1;33m]\u001b[0m\u001b[1;33m)\u001b[0m\u001b[1;33m\u001b[0m\u001b[1;33m\u001b[0m\u001b[0m\n\u001b[0;32m      3\u001b[0m \u001b[0mprint\u001b[0m\u001b[1;33m(\u001b[0m\u001b[0ms\u001b[0m\u001b[1;33m)\u001b[0m\u001b[1;33m\u001b[0m\u001b[1;33m\u001b[0m\u001b[0m\n\u001b[1;32m----> 4\u001b[1;33m \u001b[0ms\u001b[0m\u001b[1;33m.\u001b[0m\u001b[0madd\u001b[0m\u001b[1;33m(\u001b[0m\u001b[1;36m100\u001b[0m\u001b[1;33m)\u001b[0m\u001b[1;33m\u001b[0m\u001b[1;33m\u001b[0m\u001b[0m\n\u001b[0m",
      "\u001b[1;31mAttributeError\u001b[0m: 'frozenset' object has no attribute 'add'"
     ]
    }
   ],
   "source": [
    "# frozenset\n",
    "s = frozenset([10, 20, 30, 40, 50])\n",
    "print(s)\n",
    "s.add(100) # won't be added as immutable"
   ]
  },
  {
   "cell_type": "code",
   "execution_count": 1,
   "id": "a9dd6135",
   "metadata": {},
   "outputs": [
    {
     "name": "stdout",
     "output_type": "stream",
     "text": [
      "b'\\n\\x14\\x1e('\n",
      "bytearray(b'\\n\\x14\\x1e(')\n",
      "bytearray(b'd\\x14\\x1e(')\n"
     ]
    }
   ],
   "source": [
    "# bytes and bytearray\n",
    "# bytes is a immutable object and accepts values from 0 to 256.\n",
    "b = bytes([10, 20, 30, 40])\n",
    "print(b)\n",
    "# b[0] = 100 # won't be assigned as bytes is immutable\n",
    "# print(b)\n",
    "\n",
    "# bytearray is mutable object and accepts values from 0 to 256.\n",
    "ba = bytearray([10, 20, 30, 40])\n",
    "print(ba)\n",
    "ba[0] = 100\n",
    "print(ba)"
   ]
  },
  {
   "cell_type": "code",
   "execution_count": 20,
   "id": "1b991789",
   "metadata": {},
   "outputs": [
    {
     "name": "stdout",
     "output_type": "stream",
     "text": [
      "Welcome to python\n",
      "Hello Venu, welcome to python\n",
      "Hello Jill, welcome to python\n",
      "Enter your name vinay\n",
      "Hello vinay, welcome to python\n"
     ]
    }
   ],
   "source": [
    "# Functions - block of code to do a task repeatedly\n",
    "# A function is a block of code which only runs when it is called.\n",
    "# You can pass data, known as parameters, into a function.\n",
    "# A function can return data as a result.\n",
    "\n",
    "\n",
    "# builtin function - predefined\n",
    "# user-defined function - defined by user/coder\n",
    "# Creating a Function\n",
    "# In Python a function is defined using the def keyword:\n",
    "# Syntax\n",
    "# def function_name(argument1, argument2,...)\n",
    "#     block of code - statement1\n",
    "#     statement2\n",
    "#     ........\n",
    "\n",
    "# Arguments\n",
    "# Information can be passed into functions as arguments.\n",
    "# Arguments are specified after the function name, inside the parentheses. \n",
    "# You can add as many arguments as you want, just separate them with a comma.\n",
    "\n",
    "# From a function's perspective: Parameter or Argument?\n",
    "# A parameter is the variable listed inside the parentheses in the function definition.\n",
    "# An argument is the value that is sent to the function when it is called.\n",
    "\n",
    "# Number of Arguments\n",
    "# By default, a function must be called with the correct number of arguments. \n",
    "# Meaning that if your function expects 2 arguments, you have to call the function with 2 arguments, not more, and not less.\n",
    "\n",
    "# function definition\n",
    "def greet():\n",
    "    print('Welcome to python')\n",
    "\n",
    "# Calling a Function\n",
    "# To call a function, use the function name followed by parenthesis:\n",
    "\n",
    "greet() # function call\n",
    "\n",
    "def greet(name):\n",
    "    print(f'Hello {name}, welcome to python' )\n",
    "    \n",
    "# greet() # function call can't be succeeded as there is no positional argument to be given in function call\n",
    "greet('Venu')\n",
    "greet('Jill')\n",
    "n = input('Enter your name ')\n",
    "greet(n)\n"
   ]
  },
  {
   "cell_type": "code",
   "execution_count": 22,
   "id": "6bf6957c",
   "metadata": {},
   "outputs": [
    {
     "name": "stdout",
     "output_type": "stream",
     "text": [
      "Odd number\n",
      "Even number\n"
     ]
    }
   ],
   "source": [
    "# Function for checking if a number is odd or even\n",
    "def even_odd(num):\n",
    "    if num % 2 == 0:\n",
    "        print('Even number')\n",
    "    else:\n",
    "        print('Odd number')\n",
    "        \n",
    "even_odd(7)\n",
    "even_odd(8)"
   ]
  },
  {
   "cell_type": "code",
   "execution_count": 25,
   "id": "7f0a8b31",
   "metadata": {},
   "outputs": [
    {
     "name": "stdout",
     "output_type": "stream",
     "text": [
      "Odd number\n"
     ]
    },
    {
     "data": {
      "text/plain": [
       "False"
      ]
     },
     "execution_count": 25,
     "metadata": {},
     "output_type": "execute_result"
    }
   ],
   "source": [
    "def is_even(num):\n",
    "    if num % 2 == 0:\n",
    "        print('Even number')\n",
    "        return True\n",
    "    else:\n",
    "        print('Odd number')\n",
    "        return False\n",
    "    \n",
    "# is_even(12)\n",
    "is_even(7)"
   ]
  },
  {
   "cell_type": "code",
   "execution_count": 33,
   "id": "32550708",
   "metadata": {},
   "outputs": [
    {
     "name": "stdout",
     "output_type": "stream",
     "text": [
      "29\n",
      "hibye\n"
     ]
    }
   ],
   "source": [
    "def add(num1, num2):\n",
    "    print(num1 + num2)\n",
    "\n",
    "# add()  # passing 2 positional arguments is missing hence error reported\n",
    "# add(12) # passing 1 positional argument is missing hence 'Type error' reported\n",
    "add(12, 17)\n",
    "# add(12, 17, 23) # more positional arguments given this is also wrong. it takes exact number of arguments not less not more.\n",
    "# add(12, 'hello') # as string is passed which is unsupported operand hence 'Type error' passed\n",
    "add('hi', 'bye') # as both are same type operands and strings.. concatenation resulted."
   ]
  },
  {
   "cell_type": "code",
   "execution_count": 52,
   "id": "9018bf57",
   "metadata": {},
   "outputs": [
    {
     "name": "stdout",
     "output_type": "stream",
     "text": [
      "(50, 10, 600)\n",
      "<class 'tuple'>\n",
      "50\n",
      "600\n",
      "50\n",
      "10\n",
      "600\n",
      "Help on function arithmatic in module __main__:\n",
      "\n",
      "arithmatic(a, b)\n",
      "\n"
     ]
    }
   ],
   "source": [
    "def arithmatic(a, b):\n",
    "    add = a + b\n",
    "    sub = a - b\n",
    "    mul = a * b\n",
    "    return add, sub, mul\n",
    "\n",
    "res = arithmatic(30, 20)\n",
    "print(res)\n",
    "print(type(res))\n",
    "print(res[0])\n",
    "print(res[2])\n",
    "\n",
    "a, s, m = res\n",
    "print(a)\n",
    "print(s)\n",
    "print(m)\n",
    "\n",
    "help(arithmatic)"
   ]
  },
  {
   "cell_type": "code",
   "execution_count": 40,
   "id": "6cf814e9",
   "metadata": {},
   "outputs": [
    {
     "name": "stdout",
     "output_type": "stream",
     "text": [
      "Help on built-in function print in module builtins:\n",
      "\n",
      "print(...)\n",
      "    print(value, ..., sep=' ', end='\\n', file=sys.stdout, flush=False)\n",
      "    \n",
      "    Prints the values to a stream, or to sys.stdout by default.\n",
      "    Optional keyword arguments:\n",
      "    file:  a file-like object (stream); defaults to the current sys.stdout.\n",
      "    sep:   string inserted between values, default a space.\n",
      "    end:   string appended after the last value, default a newline.\n",
      "    flush: whether to forcibly flush the stream.\n",
      "\n"
     ]
    }
   ],
   "source": [
    "help(print)"
   ]
  },
  {
   "cell_type": "code",
   "execution_count": 41,
   "id": "47d42ee7",
   "metadata": {},
   "outputs": [
    {
     "name": "stdout",
     "output_type": "stream",
     "text": [
      "Hello Welcome to python\n"
     ]
    }
   ],
   "source": [
    "print('Hello', end = ' ')\n",
    "print('Welcome to python')"
   ]
  },
  {
   "cell_type": "code",
   "execution_count": 43,
   "id": "4a1d4a95",
   "metadata": {},
   "outputs": [
    {
     "name": "stdout",
     "output_type": "stream",
     "text": [
      "Hello, Welcome to python\n"
     ]
    }
   ],
   "source": [
    "print('Hello', end = ', ')\n",
    "print('Welcome to python')"
   ]
  },
  {
   "cell_type": "code",
   "execution_count": 44,
   "id": "8ff7df2b",
   "metadata": {},
   "outputs": [
    {
     "name": "stdout",
     "output_type": "stream",
     "text": [
      "Hello, Welcome to \n",
      " python\n"
     ]
    }
   ],
   "source": [
    "print('Hello', end = ', ')\n",
    "print('Welcome to \\n python')"
   ]
  },
  {
   "cell_type": "code",
   "execution_count": 45,
   "id": "a41a7c09",
   "metadata": {},
   "outputs": [
    {
     "name": "stdout",
     "output_type": "stream",
     "text": [
      "mango apple grapes\n"
     ]
    }
   ],
   "source": [
    "print('mango', 'apple', 'grapes')"
   ]
  },
  {
   "cell_type": "code",
   "execution_count": 47,
   "id": "8cfbaab6",
   "metadata": {},
   "outputs": [
    {
     "name": "stdout",
     "output_type": "stream",
     "text": [
      "mango $ apple $ grapes\n"
     ]
    }
   ],
   "source": [
    "print('mango', 'apple', 'grapes', sep = ' $ ')"
   ]
  },
  {
   "cell_type": "code",
   "execution_count": 49,
   "id": "9361e7aa",
   "metadata": {},
   "outputs": [
    {
     "name": "stdout",
     "output_type": "stream",
     "text": [
      "mango--->apple--->grapes\n"
     ]
    }
   ],
   "source": [
    "print('mango', 'apple', 'grapes', sep = '--->')"
   ]
  },
  {
   "cell_type": "code",
   "execution_count": null,
   "id": "324cf9f5",
   "metadata": {},
   "outputs": [],
   "source": [
    "# positional arguments - when the values to a function call gets assignned based their position "
   ]
  },
  {
   "cell_type": "code",
   "execution_count": null,
   "id": "39027491",
   "metadata": {},
   "outputs": [],
   "source": [
    "# Default Parameter Value\n",
    "# The following example shows how to use a default parameter value.\n",
    "# If we call the function without argument, it uses the default value:\n",
    "\n",
    "# Example\n",
    "def my_function(country = \"Norway\"):\n",
    "    print(\"I am from \" + country)\n",
    "\n",
    "my_function(\"Sweden\")\n",
    "my_function(\"India\")\n",
    "my_function()\n",
    "my_function(\"Brazil\")\n",
    "\n",
    "def arithmetic(a, b = 50):\n",
    "    addition = a + b\n",
    "    sub = a - b\n",
    "    mul = a * b\n",
    "    \n",
    "    return addition, sub, mul\n",
    "# b is default argument, a is positional argument."
   ]
  },
  {
   "cell_type": "code",
   "execution_count": 56,
   "id": "803ca9af",
   "metadata": {},
   "outputs": [
    {
     "data": {
      "text/plain": [
       "275"
      ]
     },
     "execution_count": 56,
     "metadata": {},
     "output_type": "execute_result"
    }
   ],
   "source": [
    "# Keyword Arguments\n",
    "# You can also send arguments with the key = value syntax.\n",
    "# This way the order of the arguments does not matter.\n",
    "\n",
    "def add_3(a, b = 50, c = 100):\n",
    "    return a + b + c\n",
    "\n",
    "# add_3()  # one positional argument to be passed is missing.\n",
    "add_3(25)\n",
    "add_3(25, c = 200) # c is keyworded arguments i.e., kwargs with is passed in key, value format along with function call\n"
   ]
  },
  {
   "cell_type": "code",
   "execution_count": 59,
   "id": "fd39e06c",
   "metadata": {},
   "outputs": [],
   "source": [
    "def add_3(a, c, b=10):\n",
    "    print(f'a : {a}')\n",
    "    print(f'b : {b}')\n",
    "    print(f'c : {c}')\n",
    "    return a + b + c\n",
    "# non default argument should not follow default argument"
   ]
  },
  {
   "cell_type": "code",
   "execution_count": 60,
   "id": "d8d2260f",
   "metadata": {},
   "outputs": [
    {
     "name": "stdout",
     "output_type": "stream",
     "text": [
      "a : 10\n",
      "b : 20\n",
      "c : 45\n"
     ]
    },
    {
     "data": {
      "text/plain": [
       "75"
      ]
     },
     "execution_count": 60,
     "metadata": {},
     "output_type": "execute_result"
    }
   ],
   "source": [
    "add_3(a = 10, b = 20, c = 45) # all arguments are passed in the form of kwargs in spite of having default arguments for b"
   ]
  },
  {
   "cell_type": "code",
   "execution_count": 62,
   "id": "2015a43e",
   "metadata": {},
   "outputs": [
    {
     "name": "stdout",
     "output_type": "stream",
     "text": [
      "(1, 2, 3)\n",
      "<class 'tuple'>\n",
      "(1, 2, 3, 4, 5, 6, 7, 8, 9)\n",
      "<class 'tuple'>\n"
     ]
    }
   ],
   "source": [
    "# Arbitrary Arguments, *args\n",
    "# If you do not know how many arguments that will be passed into your function, \n",
    "# add a * before the parameter name in the function definition.\n",
    "# This way the function will receive a tuple of arguments, and can access the items accordingly:\n",
    "# *args = allows variable length arguments\n",
    "\n",
    "def add(*args):\n",
    "    print(args)\n",
    "    print(type(args))\n",
    "    \n",
    "add(1,2,3)  # args allows any number of arguments to be passed in function call.\n",
    "add(1,2,3,4,5,6,7,8,9)"
   ]
  },
  {
   "cell_type": "code",
   "execution_count": 66,
   "id": "a8e58e78",
   "metadata": {},
   "outputs": [
    {
     "name": "stdout",
     "output_type": "stream",
     "text": [
      "0\n"
     ]
    },
    {
     "data": {
      "text/plain": [
       "135"
      ]
     },
     "execution_count": 66,
     "metadata": {},
     "output_type": "execute_result"
    }
   ],
   "source": [
    "def add(*var):\n",
    "    res = 0\n",
    "    for i in var:\n",
    "        res += i\n",
    "    return res\n",
    "\n",
    "print(add())\n",
    "add(23, 45, 67)\n"
   ]
  },
  {
   "cell_type": "code",
   "execution_count": 69,
   "id": "0c5c74c2",
   "metadata": {},
   "outputs": [
    {
     "name": "stdout",
     "output_type": "stream",
     "text": [
      "100\n",
      "(1, 2, 3, 4, 5, 6)\n"
     ]
    },
    {
     "ename": "TypeError",
     "evalue": "fun() got an unexpected keyword argument 'b'",
     "output_type": "error",
     "traceback": [
      "\u001b[1;31m---------------------------------------------------------------------------\u001b[0m",
      "\u001b[1;31mTypeError\u001b[0m                                 Traceback (most recent call last)",
      "\u001b[1;32m~\\AppData\\Local\\Temp/ipykernel_12268/2036108160.py\u001b[0m in \u001b[0;36m<module>\u001b[1;34m\u001b[0m\n\u001b[0;32m      5\u001b[0m \u001b[1;31m# fun(1,2,3,4,5,6)\u001b[0m\u001b[1;33m\u001b[0m\u001b[1;33m\u001b[0m\u001b[0m\n\u001b[0;32m      6\u001b[0m \u001b[0mfun\u001b[0m\u001b[1;33m(\u001b[0m\u001b[1;36m1\u001b[0m\u001b[1;33m,\u001b[0m\u001b[1;36m2\u001b[0m\u001b[1;33m,\u001b[0m\u001b[1;36m3\u001b[0m\u001b[1;33m,\u001b[0m\u001b[1;36m4\u001b[0m\u001b[1;33m,\u001b[0m\u001b[1;36m5\u001b[0m\u001b[1;33m,\u001b[0m\u001b[1;36m6\u001b[0m\u001b[1;33m,\u001b[0m \u001b[0ma\u001b[0m \u001b[1;33m=\u001b[0m \u001b[1;36m100\u001b[0m\u001b[1;33m)\u001b[0m\u001b[1;33m\u001b[0m\u001b[1;33m\u001b[0m\u001b[0m\n\u001b[1;32m----> 7\u001b[1;33m \u001b[0mfun\u001b[0m\u001b[1;33m(\u001b[0m\u001b[1;36m1\u001b[0m\u001b[1;33m,\u001b[0m\u001b[1;36m2\u001b[0m\u001b[1;33m,\u001b[0m\u001b[1;36m3\u001b[0m\u001b[1;33m,\u001b[0m\u001b[1;36m4\u001b[0m\u001b[1;33m,\u001b[0m\u001b[1;36m5\u001b[0m\u001b[1;33m,\u001b[0m\u001b[1;36m6\u001b[0m\u001b[1;33m,\u001b[0m \u001b[0ma\u001b[0m \u001b[1;33m=\u001b[0m \u001b[1;36m100\u001b[0m\u001b[1;33m,\u001b[0m \u001b[0mb\u001b[0m \u001b[1;33m=\u001b[0m \u001b[1;36m200\u001b[0m\u001b[1;33m)\u001b[0m\u001b[1;33m\u001b[0m\u001b[1;33m\u001b[0m\u001b[0m\n\u001b[0m",
      "\u001b[1;31mTypeError\u001b[0m: fun() got an unexpected keyword argument 'b'"
     ]
    }
   ],
   "source": [
    "def fun(*args, a):\n",
    "    print(a)\n",
    "    print(args)\n",
    "\n",
    "# fun(1,2,3,4,5,6)\n",
    "fun(1,2,3,4,5,6, a = 100)\n",
    "# fun(1,2,3,4,5,6, a = 100, b = 200) # additional keyworded argument passed hence Type error\n"
   ]
  },
  {
   "cell_type": "code",
   "execution_count": 70,
   "id": "5e4f15f9",
   "metadata": {},
   "outputs": [
    {
     "name": "stdout",
     "output_type": "stream",
     "text": [
      "(1, 2, 3, 4)\n",
      "{'a': 100, 'b': 200}\n"
     ]
    }
   ],
   "source": [
    "# Arbitrary Keyword Arguments, **kwargs\n",
    "# If you do not know how many keyword arguments that will be passed into your function, add two asterisk:\n",
    "# ** before the parameter name in the function definition.\n",
    "# This way the function will receive a dictionary of arguments, and can access the items accordingly:\n",
    "# **kwargs - variable length keyword argument\n",
    "\n",
    "def fun(*args, **kwargs):\n",
    "    print(args)\n",
    "    print(kwargs)\n",
    "    \n",
    "fun(1,2,3,4,a=100,b=200)"
   ]
  },
  {
   "cell_type": "code",
   "execution_count": 4,
   "id": "b7b24c9e",
   "metadata": {},
   "outputs": [
    {
     "ename": "SyntaxError",
     "evalue": "invalid syntax (281043386.py, line 1)",
     "output_type": "error",
     "traceback": [
      "\u001b[1;36m  Input \u001b[1;32mIn [4]\u001b[1;36m\u001b[0m\n\u001b[1;33m    def fun(**kwargs, *args):\u001b[0m\n\u001b[1;37m                      ^\u001b[0m\n\u001b[1;31mSyntaxError\u001b[0m\u001b[1;31m:\u001b[0m invalid syntax\n"
     ]
    }
   ],
   "source": [
    "def fun(**kwargs, *args):\n",
    "    print(kwargs)\n",
    "    print(args)\n",
    "    \n",
    "    \n",
    "fun(1,2,3,4, a=100,b=200,)"
   ]
  },
  {
   "cell_type": "code",
   "execution_count": 76,
   "id": "0d51867d",
   "metadata": {},
   "outputs": [
    {
     "ename": "SyntaxError",
     "evalue": "invalid syntax (Temp/ipykernel_12268/2800097120.py, line 1)",
     "output_type": "error",
     "traceback": [
      "\u001b[1;36m  File \u001b[1;32m\"C:\\Users\\venua\\AppData\\Local\\Temp/ipykernel_12268/2800097120.py\"\u001b[1;36m, line \u001b[1;32m1\u001b[0m\n\u001b[1;33m    def fun(**kwargs, b=20):\u001b[0m\n\u001b[1;37m                      ^\u001b[0m\n\u001b[1;31mSyntaxError\u001b[0m\u001b[1;31m:\u001b[0m invalid syntax\n"
     ]
    }
   ],
   "source": [
    "def fun(**kwargs, b=20):\n",
    "    print(args)\n",
    "    print(kwargs)\n",
    "    \n",
    "fun(1,2,3,4,a=100,b=200)\n",
    "\n",
    "# default argument follows kwargs..not allowed"
   ]
  },
  {
   "cell_type": "code",
   "execution_count": 77,
   "id": "112ab3a3",
   "metadata": {},
   "outputs": [
    {
     "ename": "SyntaxError",
     "evalue": "invalid syntax (Temp/ipykernel_12268/397742332.py, line 1)",
     "output_type": "error",
     "traceback": [
      "\u001b[1;36m  File \u001b[1;32m\"C:\\Users\\venua\\AppData\\Local\\Temp/ipykernel_12268/397742332.py\"\u001b[1;36m, line \u001b[1;32m1\u001b[0m\n\u001b[1;33m    def fun(**kwargs, b):\u001b[0m\n\u001b[1;37m                      ^\u001b[0m\n\u001b[1;31mSyntaxError\u001b[0m\u001b[1;31m:\u001b[0m invalid syntax\n"
     ]
    }
   ],
   "source": [
    "def fun(**kwargs, b):\n",
    "    print(args)\n",
    "    print(kwargs)"
   ]
  },
  {
   "cell_type": "code",
   "execution_count": 78,
   "id": "222df057",
   "metadata": {},
   "outputs": [
    {
     "name": "stdout",
     "output_type": "stream",
     "text": [
      "1\n",
      "(2, 3, 4, 5)\n"
     ]
    }
   ],
   "source": [
    "def fun(z=100,*args):\n",
    "    print(z)\n",
    "    print(args)\n",
    "    \n",
    "fun(1,2,3,4,5)"
   ]
  },
  {
   "cell_type": "code",
   "execution_count": 79,
   "id": "5dff3949",
   "metadata": {},
   "outputs": [
    {
     "ename": "SyntaxError",
     "evalue": "non-default argument follows default argument (Temp/ipykernel_12268/3069920724.py, line 1)",
     "output_type": "error",
     "traceback": [
      "\u001b[1;36m  File \u001b[1;32m\"C:\\Users\\venua\\AppData\\Local\\Temp/ipykernel_12268/3069920724.py\"\u001b[1;36m, line \u001b[1;32m1\u001b[0m\n\u001b[1;33m    def fun(z=100, a):\u001b[0m\n\u001b[1;37m                    ^\u001b[0m\n\u001b[1;31mSyntaxError\u001b[0m\u001b[1;31m:\u001b[0m non-default argument follows default argument\n"
     ]
    }
   ],
   "source": [
    "def fun(z=100, a):\n",
    "    print(z)\n",
    "    print(args)\n",
    "    "
   ]
  },
  {
   "cell_type": "code",
   "execution_count": 2,
   "id": "ee201129",
   "metadata": {},
   "outputs": [
    {
     "name": "stdout",
     "output_type": "stream",
     "text": [
      "apple\n",
      "banana\n",
      "cherry\n"
     ]
    }
   ],
   "source": [
    "# Passing a List as an Argument\n",
    "# You can send any data types of argument to a function (string, number, list, dictionary etc.), \n",
    "# and it will be treated as the same data type inside the function.\n",
    "# E.g. if you send a List as an argument, it will still be a List when it reaches the function:\n",
    "\n",
    "# Example\n",
    "def my_function(food):\n",
    "    for x in food:\n",
    "        print(x)\n",
    "\n",
    "fruits = [\"apple\", \"banana\", \"cherry\"]\n",
    "\n",
    "my_function(fruits)"
   ]
  },
  {
   "cell_type": "code",
   "execution_count": 3,
   "id": "baa39780",
   "metadata": {},
   "outputs": [
    {
     "name": "stdout",
     "output_type": "stream",
     "text": [
      "15\n",
      "25\n",
      "45\n"
     ]
    }
   ],
   "source": [
    "# Return Values\n",
    "# To let a function return a value, use the return statement:\n",
    "\n",
    "# Example\n",
    "def my_function(x):\n",
    "    return 5 * x\n",
    "\n",
    "print(my_function(3))\n",
    "print(my_function(5))\n",
    "print(my_function(9))"
   ]
  },
  {
   "cell_type": "code",
   "execution_count": 4,
   "id": "f89e232d",
   "metadata": {},
   "outputs": [],
   "source": [
    "# The pass Statement\n",
    "# function definitions cannot be empty, but if you for some reason have a function definition with no content,\n",
    "# put in the pass statement to avoid getting an error.\n",
    "\n",
    "# Example\n",
    "\n",
    "def myfunction():\n",
    "    pass"
   ]
  },
  {
   "cell_type": "code",
   "execution_count": null,
   "id": "666ed7ff",
   "metadata": {},
   "outputs": [],
   "source": [
    "# Recursion\n",
    "# Python also accepts function recursion, which means a defined function can call itself.\n",
    "\n",
    "# Recursion is a common mathematical and programming concept. It means that a function calls itself. \n",
    "# This has the benefit of meaning that you can loop through data to reach a result.\n",
    "\n",
    "# The developer should be very careful with recursion as it can be quite easy to slip into writing\n",
    "# a function which never terminates, or one that uses excess amounts of memory or processor power. \n",
    "# However, when written correctly recursion can be a very efficient and mathematically-elegant approach to programming.\n",
    "\n",
    "# In this example, tri_recursion() is a function that we have defined to call itself (\"recurse\"). \n",
    "# We use the k variable as the data, which decrements (-1) every time we recurse. \n",
    "# The recursion ends when the condition is not greater than 0 (i.e. when it is 0).\n",
    "\n",
    "def tri_recursion(k):\n",
    "    if(k > 0):\n",
    "        result = k + tri_recursion(k - 1)\n",
    "    print(result)\n",
    "    else:\n",
    "        result = 0\n",
    "    return result\n",
    "\n",
    "print(\"\\n\\nRecursion Example Results\")\n",
    "tri_recursion(6)"
   ]
  },
  {
   "cell_type": "code",
   "execution_count": null,
   "id": "112f2de4",
   "metadata": {},
   "outputs": [],
   "source": [
    "# Lambda function\n",
    "# Anonymous function - a function without a name\n",
    "\n",
    "# lambda arg1, arg2,.....: expression\n",
    "# no def, but lambda as keyword\n",
    "# no return statement"
   ]
  },
  {
   "cell_type": "code",
   "execution_count": 80,
   "id": "ce7a3665",
   "metadata": {},
   "outputs": [
    {
     "data": {
      "text/plain": [
       "27"
      ]
     },
     "execution_count": 80,
     "metadata": {},
     "output_type": "execute_result"
    }
   ],
   "source": [
    "def cube(x):\n",
    "    return x ** 3\n",
    "\n",
    "cube(3)"
   ]
  },
  {
   "cell_type": "code",
   "execution_count": 81,
   "id": "28a422b2",
   "metadata": {},
   "outputs": [
    {
     "data": {
      "text/plain": [
       "<function __main__.<lambda>(x)>"
      ]
     },
     "execution_count": 81,
     "metadata": {},
     "output_type": "execute_result"
    }
   ],
   "source": [
    "lambda x : x ** 3"
   ]
  },
  {
   "cell_type": "code",
   "execution_count": 83,
   "id": "1cf26fb4",
   "metadata": {},
   "outputs": [
    {
     "data": {
      "text/plain": [
       "27"
      ]
     },
     "execution_count": 83,
     "metadata": {},
     "output_type": "execute_result"
    }
   ],
   "source": [
    "(lambda x : x ** 3)(3)"
   ]
  },
  {
   "cell_type": "code",
   "execution_count": 84,
   "id": "26925f2d",
   "metadata": {},
   "outputs": [
    {
     "data": {
      "text/plain": [
       "12"
      ]
     },
     "execution_count": 84,
     "metadata": {},
     "output_type": "execute_result"
    }
   ],
   "source": [
    "(lambda x,y: x+y)(5,7)"
   ]
  },
  {
   "cell_type": "code",
   "execution_count": 85,
   "id": "0a9e3ac5",
   "metadata": {},
   "outputs": [
    {
     "data": {
      "text/plain": [
       "12"
      ]
     },
     "execution_count": 85,
     "metadata": {},
     "output_type": "execute_result"
    }
   ],
   "source": [
    "(lambda x, y = 10: x + y)(2)"
   ]
  },
  {
   "cell_type": "code",
   "execution_count": 86,
   "id": "61b5a009",
   "metadata": {},
   "outputs": [
    {
     "data": {
      "text/plain": [
       "30"
      ]
     },
     "execution_count": 86,
     "metadata": {},
     "output_type": "execute_result"
    }
   ],
   "source": [
    "a = lambda x, y = 10: x+y\n",
    "a(10, 20)"
   ]
  },
  {
   "cell_type": "code",
   "execution_count": 89,
   "id": "11894f86",
   "metadata": {},
   "outputs": [
    {
     "ename": "NameError",
     "evalue": "name 'x' is not defined",
     "output_type": "error",
     "traceback": [
      "\u001b[1;31m---------------------------------------------------------------------------\u001b[0m",
      "\u001b[1;31mNameError\u001b[0m                                 Traceback (most recent call last)",
      "\u001b[1;32m~\\AppData\\Local\\Temp/ipykernel_12268/2899504564.py\u001b[0m in \u001b[0;36m<module>\u001b[1;34m\u001b[0m\n\u001b[0;32m      1\u001b[0m \u001b[1;31m# only one expression in lambda\u001b[0m\u001b[1;33m\u001b[0m\u001b[1;33m\u001b[0m\u001b[0m\n\u001b[1;32m----> 2\u001b[1;33m \u001b[0ma\u001b[0m \u001b[1;33m=\u001b[0m \u001b[1;32mlambda\u001b[0m \u001b[0mx\u001b[0m\u001b[1;33m,\u001b[0m\u001b[0my\u001b[0m \u001b[1;33m=\u001b[0m \u001b[1;36m10\u001b[0m\u001b[1;33m:\u001b[0m \u001b[0mx\u001b[0m\u001b[1;33m+\u001b[0m\u001b[0my\u001b[0m\u001b[1;33m,\u001b[0m \u001b[0mx\u001b[0m\u001b[1;33m-\u001b[0m\u001b[0my\u001b[0m\u001b[1;33m\u001b[0m\u001b[1;33m\u001b[0m\u001b[0m\n\u001b[0m",
      "\u001b[1;31mNameError\u001b[0m: name 'x' is not defined"
     ]
    }
   ],
   "source": [
    "# only one expression in lambda\n",
    "a = lambda x,y = 10: x+y, x-y"
   ]
  },
  {
   "cell_type": "code",
   "execution_count": 91,
   "id": "51ee9195",
   "metadata": {},
   "outputs": [
    {
     "data": {
      "text/plain": [
       "(30, 10)"
      ]
     },
     "execution_count": 91,
     "metadata": {},
     "output_type": "execute_result"
    }
   ],
   "source": [
    "a = lambda x,y=10 : (x+y, x-y)\n",
    "a(20, 10)"
   ]
  },
  {
   "cell_type": "code",
   "execution_count": 96,
   "id": "fffae4f4",
   "metadata": {},
   "outputs": [
    {
     "name": "stdout",
     "output_type": "stream",
     "text": [
      "30\n",
      "10\n"
     ]
    }
   ],
   "source": [
    "a , b = lambda x,y : x+y,  lambda x,y : x-y\n",
    "print(a(10, 20))\n",
    "print(b(20, 10))"
   ]
  },
  {
   "cell_type": "code",
   "execution_count": 99,
   "id": "cb7735c1",
   "metadata": {},
   "outputs": [],
   "source": [
    "def is_even(num):\n",
    "    if num % 2== 0:\n",
    "        return True\n",
    "    else:\n",
    "        return False"
   ]
  },
  {
   "cell_type": "code",
   "execution_count": null,
   "id": "c112c55e",
   "metadata": {},
   "outputs": [],
   "source": [
    "# filter() function\n",
    "# filter(function, iterable_obj)\n",
    "# filters out the elements of an iterable object depending on the result of a function"
   ]
  },
  {
   "cell_type": "code",
   "execution_count": 7,
   "id": "9c39c892",
   "metadata": {},
   "outputs": [],
   "source": [
    "l1 = [1,2,3,4,5,6]"
   ]
  },
  {
   "cell_type": "code",
   "execution_count": 103,
   "id": "dc7fda91",
   "metadata": {},
   "outputs": [
    {
     "name": "stdout",
     "output_type": "stream",
     "text": [
      "<filter object at 0x000001F468F9BDC0>\n",
      "<filter object at 0x000001F468F9BC10>\n",
      "2\n",
      "4\n",
      "6\n"
     ]
    }
   ],
   "source": [
    "print(filter(is_even, l1))\n",
    "f1 = (filter(is_even, l1))\n",
    "print(f1)\n",
    "for i in f1:\n",
    "    print(i)"
   ]
  },
  {
   "cell_type": "code",
   "execution_count": 104,
   "id": "1b704544",
   "metadata": {},
   "outputs": [
    {
     "data": {
      "text/plain": [
       "[2, 4, 6]"
      ]
     },
     "execution_count": 104,
     "metadata": {},
     "output_type": "execute_result"
    }
   ],
   "source": [
    "list(filter(is_even, l1))"
   ]
  },
  {
   "cell_type": "code",
   "execution_count": 105,
   "id": "7ac82608",
   "metadata": {},
   "outputs": [
    {
     "data": {
      "text/plain": [
       "[2, 4, 6]"
      ]
     },
     "execution_count": 105,
     "metadata": {},
     "output_type": "execute_result"
    }
   ],
   "source": [
    "list(filter(lambda num:num % 2 == 0, l1)) # using lambda function for filter"
   ]
  },
  {
   "cell_type": "code",
   "execution_count": 106,
   "id": "263ebb20",
   "metadata": {},
   "outputs": [
    {
     "data": {
      "text/plain": [
       "[False, True, False, True, False, True]"
      ]
     },
     "execution_count": 106,
     "metadata": {},
     "output_type": "execute_result"
    }
   ],
   "source": [
    "# map function - \n",
    "# map(function, iterable_obj)\n",
    "\n",
    "list(map(lambda num:num % 2 == 0, l1)) # returns True, False based on condition met or not.\n"
   ]
  },
  {
   "cell_type": "code",
   "execution_count": 1,
   "id": "7997b1cf",
   "metadata": {},
   "outputs": [
    {
     "data": {
      "text/plain": [
       "['APPLE', 'BANANA', 'PAPAYA']"
      ]
     },
     "execution_count": 1,
     "metadata": {},
     "output_type": "execute_result"
    }
   ],
   "source": [
    "list(map(lambda s: s.upper(), ['apple', 'banana', 'papaya'])) # maps functionality on the iterable object and returns result\n",
    "\n",
    "# list(map(lambda s: s.upper(), 'apple'))"
   ]
  },
  {
   "cell_type": "code",
   "execution_count": 2,
   "id": "3d486933",
   "metadata": {},
   "outputs": [
    {
     "ename": "TypeError",
     "evalue": "object of type 'map' has no len()",
     "output_type": "error",
     "traceback": [
      "\u001b[1;31m---------------------------------------------------------------------------\u001b[0m",
      "\u001b[1;31mTypeError\u001b[0m                                 Traceback (most recent call last)",
      "\u001b[1;32m~\\AppData\\Local\\Temp/ipykernel_9664/1297316777.py\u001b[0m in \u001b[0;36m<module>\u001b[1;34m\u001b[0m\n\u001b[0;32m      2\u001b[0m \u001b[0mlen\u001b[0m\u001b[1;33m(\u001b[0m\u001b[0mm1\u001b[0m\u001b[1;33m)\u001b[0m\u001b[1;33m\u001b[0m\u001b[1;33m\u001b[0m\u001b[0m\n\u001b[0;32m      3\u001b[0m \u001b[0mm1\u001b[0m \u001b[1;33m=\u001b[0m \u001b[0mmap\u001b[0m\u001b[1;33m(\u001b[0m\u001b[1;32mlambda\u001b[0m \u001b[0ms\u001b[0m\u001b[1;33m:\u001b[0m \u001b[0ms\u001b[0m\u001b[1;33m.\u001b[0m\u001b[0mupper\u001b[0m\u001b[1;33m(\u001b[0m\u001b[1;33m)\u001b[0m\u001b[1;33m,\u001b[0m \u001b[1;34m'apple'\u001b[0m\u001b[1;33m)\u001b[0m\u001b[1;33m\u001b[0m\u001b[1;33m\u001b[0m\u001b[0m\n\u001b[1;32m----> 4\u001b[1;33m \u001b[0mlen\u001b[0m\u001b[1;33m(\u001b[0m\u001b[0mm1\u001b[0m\u001b[1;33m)\u001b[0m \u001b[1;31m# as this is map object it has no len.\u001b[0m\u001b[1;33m\u001b[0m\u001b[1;33m\u001b[0m\u001b[0m\n\u001b[0m",
      "\u001b[1;31mTypeError\u001b[0m: object of type 'map' has no len()"
     ]
    }
   ],
   "source": [
    "m1 = list(map(lambda s: s.upper(), 'apple'))\n",
    "len(m1)\n",
    "m1 = map(lambda s: s.upper(), 'apple')\n",
    "len(m1) # as this is map object it has no len."
   ]
  },
  {
   "cell_type": "code",
   "execution_count": 8,
   "id": "47c3a25c",
   "metadata": {},
   "outputs": [
    {
     "ename": "TypeError",
     "evalue": "<lambda>() takes 1 positional argument but 2 were given",
     "output_type": "error",
     "traceback": [
      "\u001b[1;31m---------------------------------------------------------------------------\u001b[0m",
      "\u001b[1;31mTypeError\u001b[0m                                 Traceback (most recent call last)",
      "Input \u001b[1;32mIn [8]\u001b[0m, in \u001b[0;36m<cell line: 5>\u001b[1;34m()\u001b[0m\n\u001b[0;32m      1\u001b[0m \u001b[38;5;66;03m# reduce() - reduces an iterable object to a single value based object based on function condition\u001b[39;00m\n\u001b[0;32m      2\u001b[0m \u001b[38;5;66;03m# reduce(function, iterable_obj)\u001b[39;00m\n\u001b[0;32m      3\u001b[0m \u001b[38;5;28;01mfrom\u001b[39;00m \u001b[38;5;21;01mfunctools\u001b[39;00m \u001b[38;5;28;01mimport\u001b[39;00m reduce\n\u001b[1;32m----> 5\u001b[0m \u001b[43mreduce\u001b[49m\u001b[43m(\u001b[49m\u001b[38;5;28;43;01mlambda\u001b[39;49;00m\u001b[43m \u001b[49m\u001b[43mx\u001b[49m\u001b[43m:\u001b[49m\u001b[43m \u001b[49m\u001b[43mx\u001b[49m\u001b[43m \u001b[49m\u001b[38;5;241;43m*\u001b[39;49m\u001b[43m \u001b[49m\u001b[38;5;241;43m10\u001b[39;49m\u001b[43m,\u001b[49m\u001b[43m \u001b[49m\u001b[43ml1\u001b[49m\u001b[43m)\u001b[49m\n",
      "\u001b[1;31mTypeError\u001b[0m: <lambda>() takes 1 positional argument but 2 were given"
     ]
    }
   ],
   "source": [
    "# reduce() - reduces an iterable object to a single value based object based on function condition\n",
    "# reduce(function, iterable_obj)\n",
    "# Python's reduce() is a function that implements a mathematical technique called folding or reduction. \n",
    "# reduce() is useful when you need to apply a function to an iterable and reduce it to a single cumulative value.\n",
    "from functools import reduce\n",
    "\n",
    "reduce(lambda x: x * 10, l1)"
   ]
  },
  {
   "cell_type": "markdown",
   "id": "1e81a56f",
   "metadata": {},
   "source": [
    "Since Python is a multi-paradigm programming language, it provides some tools that support a functional programming style:\n",
    "\n",
    "1. Functions as first-class objects\n",
    "2. Recursion capabilities\n",
    "3. Anonymous functions with lambda\n",
    "4. Iterators and generators\n",
    "5. Standard modules like functools and itertools\n",
    "6. Tools like map(), filter(), reduce(), sum(), len(), any(), all(), min(), max(), and so on\n",
    "7. Even though Python isn’t heavily influenced by functional programming languages, back in 1993 there was a clear demand for  some of the functional programming features listed above.\n",
    "\n",
    "- In response, several functional tools were added to the language. According to Guido van Rossum, they were contributed by a community member:\n",
    "\n",
    "- Python acquired lambda, reduce(), filter() and map(), courtesy of (I believe) a Lisp hacker who missed them and submitted working patches. (Source)\n",
    "\n",
    "- Over the years, new features such as list comprehensions, generator expressions, and built-in functions like sum(), min(), max(), all(), and any() were viewed as Pythonic replacements for map(), filter(), and reduce(). Guido planned to remove map(), filter(), reduce(), and even lambda from the language in Python 3.\n",
    "\n",
    "### Getting Started With Python’s reduce()\n",
    "Python’s reduce() implements a mathematical technique commonly known as folding or reduction. You’re doing a fold or reduction when you reduce a list of items to a single cumulative value. Python’s reduce() operates on any iterable—not just lists—and performs the following steps:\n",
    "\n",
    "- Apply a function (or callable) to the first two items in an iterable and generate a partial result.\n",
    "- Use that partial result, together with the third item in the iterable, to generate another partial result.\n",
    "- Repeat the process until the iterable is exhausted and then return a single cumulative value.\n",
    "- The idea behind Python’s reduce() is to take an existing function, apply it cumulatively to all the items in an iterable, and generate a single final value. In general, Python’s reduce() is handy for processing iterables without writing explicit for loops. Since reduce() is written in C, its internal loop can be faster than an explicit Python for loop.\n",
    "\n",
    "- Python’s reduce() was originally a built-in function (and still is in Python 2.x), but it was moved to functools.reduce() in Python 3.0. This decision was based on some possible performance and readability issues.\n",
    "\n",
    "- Another reason for moving reduce() to functools was the introduction of built-in functions like sum(), any(), all(), max(), min(), and len(), which provide more efficient, readable, and Pythonic ways of tackling common use cases for reduce(). You’ll learn how to use them in place of reduce() later in the tutorial.\n",
    "\n",
    "In Python 3.x, if you need to use reduce(), then you first have to import the function into your current scope using an import statement in one of the following ways:\n",
    "\n",
    "import functools and then use fully-qualified names like functools.reduce().\n",
    "from functools import reduce and then call reduce() directly.\n",
    "According to the documentation for reduce(), the function has the following signature:\n",
    "\n",
    "functools.reduce(function, iterable[, initializer])\n",
    "The Python documentation also states that reduce() is roughly equivalent to the following Python function:\n",
    "\n",
    "def reduce(function, iterable, initializer=None):\n",
    "    it = iter(iterable)\n",
    "    if initializer is None:\n",
    "        value = next(it)\n",
    "    else:\n",
    "        value = initializer\n",
    "    for element in it:\n",
    "        value = function(value, element)\n",
    "    return value\n",
    "Like this Python function, reduce() works by applying a two-argument function to the items of iterable in a loop from left to right, ultimately reducing iterable to a single cumulative value.\n",
    "\n",
    "Python’s reduce() also accepts a third and optional argument called initializer that provides a seed value to the computation or reduction.\n",
    "\n",
    "\n",
    "> from functools import reduce\n",
    "> reduce(lambda a, b: bool(a or b), [0, 0, 1, 1, 0])\n",
    "True\n",
    "> reduce(lambda a, b: bool(a or b), [0, 0, 0, 0, 0])\n",
    "False\n",
    "> reduce(lambda a, b: bool(a or b), [], False)\n",
    "False\n",
    "This lambda function is quite similar to any_true(). It returns True if either of its two arguments is true. If both arguments are false, then it returns False.\n",
    "\n",
    "Even though this solution takes only one line of code, it can still make your code unreadable or at least difficult to understand. Again, Python provides a tool to efficiently solve the any-true problem without using reduce(): the built-in function any().\n",
    "\n",
    "any(iterable) loops over the items in iterable, testing the truth value of each until it finds a true item. The function returns True as soon as it finds a true value. If any() doesn’t find a true value, then it returns False. Here’s an example:\n",
    "\n",
    "> any([0, 0, 0, 0, 0])\n",
    "False\n",
    "> any([0, 0, 0, 1, 0])\n",
    "True\n",
    "> any([])\n",
    "False\n",
    "Again, you don’t need to import any() to use it in your code. any() works as expected. It returns False if all the items in the iterable are false. Otherwise, it returns True. Note that if you call any() with an empty iterable, then you get False because there’s no true item in an empty iterable.\n",
    "\n",
    "As with all(), any() is a C function optimized for performance. It’s also implemented using short-circuit evaluation. So, if you’re dealing with the any-true problem in Python, then consider using any() instead of reduce()."
   ]
  },
  {
   "cell_type": "code",
   "execution_count": 113,
   "id": "d0a14531",
   "metadata": {},
   "outputs": [
    {
     "name": "stdout",
     "output_type": "stream",
     "text": [
      "Help on built-in function reduce in module _functools:\n",
      "\n",
      "reduce(...)\n",
      "    reduce(function, sequence[, initial]) -> value\n",
      "    \n",
      "    Apply a function of two arguments cumulatively to the items of a sequence,\n",
      "    from left to right, so as to reduce the sequence to a single value.\n",
      "    For example, reduce(lambda x, y: x+y, [1, 2, 3, 4, 5]) calculates\n",
      "    ((((1+2)+3)+4)+5).  If initial is present, it is placed before the items\n",
      "    of the sequence in the calculation, and serves as a default when the\n",
      "    sequence is empty.\n",
      "\n"
     ]
    }
   ],
   "source": [
    "help(reduce)"
   ]
  },
  {
   "cell_type": "markdown",
   "id": "938ff427",
   "metadata": {},
   "source": [
    "Iterable is an object, that one can iterate over. It generates an Iterator when passed to iter() method. An iterator is an object, which is used to iterate over an iterable object using the __next__() method. Iterators have the __next__() method, which returns the next item of the object.\n",
    "\n",
    "Note: Every iterator is also an iterable, but not every iterable is an iterator in Python.\n",
    "\n",
    "For example, a list is iterable but a list is not an iterator. An iterator can be created from an iterable by using the function iter(). To make this possible, the class of an object needs either a method __iter__, which returns an iterator, or a __getitem__ method with sequential indexes starting with 0. \n",
    "\n",
    "Example 1: \n",
    "We know that str is iterable but it is not an iterator. where if we run this in for loop to print string then it is possible because when for loop executes it converts into an iterator to execute the code."
   ]
  },
  {
   "cell_type": "code",
   "execution_count": 121,
   "id": "fd0b6060",
   "metadata": {},
   "outputs": [
    {
     "name": "stdout",
     "output_type": "stream",
     "text": [
      "<class 'list_iterator'>\n",
      "<class 'tuple_iterator'>\n",
      "1\n",
      "2\n",
      "3\n",
      "4\n",
      "5\n"
     ]
    }
   ],
   "source": [
    "# An iterator is an object that contains a countable number of values.\n",
    "# An iterator is an object that can be iterated upon, meaning that you can traverse through all the values.\n",
    "# Technically, in Python, an iterator is an object which implements the iterator protocol, \n",
    "# which consist of the methods __iter__() and __next__().\n",
    "\n",
    "# Iterator vs Iterable\n",
    "# Lists, tuples, dictionaries, and sets are all iterable objects. They are iterable containers which you can get \n",
    "# an iterator from.\n",
    "\n",
    "# All these objects have a iter() method which is used to get an iterator:\n",
    "\n",
    "i = iter(l1)\n",
    "print(type(i))\n",
    "t1 = (1,2,3)\n",
    "i2 = iter(t1)\n",
    "print(type(i2))\n",
    "\n",
    "# iter() - iter is used to create an iterator\n",
    "# next() - calls the next item of the iterator\n",
    "# The for loop actually creates an iterator object and executes the next() method for each loop.\n",
    "print(next(i))\n",
    "print(next(i))\n",
    "print(next(i))\n",
    "print(next(i))\n",
    "print(next(i))"
   ]
  },
  {
   "cell_type": "code",
   "execution_count": 3,
   "id": "959e9c98",
   "metadata": {},
   "outputs": [
    {
     "name": "stdout",
     "output_type": "stream",
     "text": [
      "1\n",
      "2\n",
      "3\n",
      "4\n",
      "5\n",
      "6\n",
      "7\n",
      "8\n",
      "9\n",
      "10\n",
      "11\n",
      "12\n",
      "13\n",
      "14\n",
      "15\n",
      "16\n",
      "17\n",
      "18\n",
      "19\n",
      "20\n"
     ]
    }
   ],
   "source": [
    "class MyNumbers:\n",
    "    def __iter__(self):\n",
    "        self.a = 1\n",
    "        return self\n",
    "\n",
    "    def __next__(self):\n",
    "        if self.a <= 20:\n",
    "            x = self.a\n",
    "            self.a += 1\n",
    "            return x\n",
    "        else:\n",
    "            raise StopIteration\n",
    "\n",
    "myclass = MyNumbers()\n",
    "myiter = iter(myclass)\n",
    "\n",
    "for x in myiter:\n",
    "    print(x)"
   ]
  },
  {
   "cell_type": "code",
   "execution_count": 122,
   "id": "bfa421d8",
   "metadata": {},
   "outputs": [
    {
     "ename": "TypeError",
     "evalue": "'tuple_iterator' object is not subscriptable",
     "output_type": "error",
     "traceback": [
      "\u001b[1;31m---------------------------------------------------------------------------\u001b[0m",
      "\u001b[1;31mTypeError\u001b[0m                                 Traceback (most recent call last)",
      "\u001b[1;32m~\\AppData\\Local\\Temp/ipykernel_12268/1415820156.py\u001b[0m in \u001b[0;36m<module>\u001b[1;34m\u001b[0m\n\u001b[1;32m----> 1\u001b[1;33m \u001b[0mi2\u001b[0m\u001b[1;33m[\u001b[0m\u001b[1;36m0\u001b[0m\u001b[1;33m]\u001b[0m\u001b[1;33m\u001b[0m\u001b[1;33m\u001b[0m\u001b[0m\n\u001b[0m",
      "\u001b[1;31mTypeError\u001b[0m: 'tuple_iterator' object is not subscriptable"
     ]
    }
   ],
   "source": [
    "i2[0] # you can't call element of iterator"
   ]
  },
  {
   "cell_type": "code",
   "execution_count": 124,
   "id": "6f388a85",
   "metadata": {},
   "outputs": [
    {
     "data": {
      "text/plain": [
       "'a'"
      ]
     },
     "execution_count": 124,
     "metadata": {},
     "output_type": "execute_result"
    }
   ],
   "source": [
    "d1 = {'a': 1, 'b': 2}\n",
    "i3 = iter(d1)\n",
    "next(i3)"
   ]
  },
  {
   "cell_type": "code",
   "execution_count": 125,
   "id": "e9ecc7ba",
   "metadata": {},
   "outputs": [
    {
     "data": {
      "text/plain": [
       "'b'"
      ]
     },
     "execution_count": 125,
     "metadata": {},
     "output_type": "execute_result"
    }
   ],
   "source": [
    "next(i3)"
   ]
  },
  {
   "cell_type": "code",
   "execution_count": 13,
   "id": "502f6ed6",
   "metadata": {},
   "outputs": [
    {
     "name": "stdout",
     "output_type": "stream",
     "text": [
      "<generator object gen at 0x000001B1E489F430>\n",
      "1\n",
      "2\n"
     ]
    }
   ],
   "source": [
    "# Generators - functions that return a sequence of values\n",
    "\n",
    "def gen(start, stop):\n",
    "    while start <= stop:\n",
    "        yield start\n",
    "        start += 1\n",
    "        \n",
    "print(gen(1, 10))\n",
    "p = gen(1, 10)\n",
    "print(next(p))\n",
    "print(next(p))\n",
    "        "
   ]
  },
  {
   "cell_type": "code",
   "execution_count": 127,
   "id": "1f12720f",
   "metadata": {},
   "outputs": [
    {
     "data": {
      "text/plain": [
       "range(1, 10)"
      ]
     },
     "execution_count": 127,
     "metadata": {},
     "output_type": "execute_result"
    }
   ],
   "source": [
    "range(1, 10)"
   ]
  },
  {
   "cell_type": "code",
   "execution_count": 128,
   "id": "c0612ea0",
   "metadata": {},
   "outputs": [
    {
     "data": {
      "text/plain": [
       "[1, 2, 3, 4, 5, 6, 7, 8, 9]"
      ]
     },
     "execution_count": 128,
     "metadata": {},
     "output_type": "execute_result"
    }
   ],
   "source": [
    "list(range(1, 10))"
   ]
  },
  {
   "cell_type": "code",
   "execution_count": 129,
   "id": "926fef5e",
   "metadata": {},
   "outputs": [
    {
     "data": {
      "text/plain": [
       "[1, 2, 3, 4, 5, 6, 7, 8, 9, 10]"
      ]
     },
     "execution_count": 129,
     "metadata": {},
     "output_type": "execute_result"
    }
   ],
   "source": [
    "list(gen(1, 10)) # generator includes last value which is excluded in range function."
   ]
  },
  {
   "cell_type": "code",
   "execution_count": 130,
   "id": "ec057c6d",
   "metadata": {},
   "outputs": [
    {
     "name": "stdout",
     "output_type": "stream",
     "text": [
      "1\n",
      "2\n",
      "3\n",
      "4\n"
     ]
    }
   ],
   "source": [
    "for i in range(1, 5):\n",
    "    print(i)\n"
   ]
  },
  {
   "cell_type": "code",
   "execution_count": 131,
   "id": "3ecc9da3",
   "metadata": {},
   "outputs": [
    {
     "name": "stdout",
     "output_type": "stream",
     "text": [
      "1\n",
      "2\n",
      "3\n",
      "4\n",
      "5\n"
     ]
    }
   ],
   "source": [
    "for i in gen(1, 5):\n",
    "    print(i)"
   ]
  },
  {
   "cell_type": "code",
   "execution_count": 132,
   "id": "c318393b",
   "metadata": {},
   "outputs": [
    {
     "data": {
      "text/plain": [
       "[1, 3, 5, 7, 9]"
      ]
     },
     "execution_count": 132,
     "metadata": {},
     "output_type": "execute_result"
    }
   ],
   "source": [
    "def gen2(start, stop, step):\n",
    "    while start <= stop:\n",
    "        yield start\n",
    "        start += step\n",
    "        \n",
    "list(gen2(1, 10, 2))"
   ]
  },
  {
   "cell_type": "code",
   "execution_count": 135,
   "id": "526cf249",
   "metadata": {},
   "outputs": [
    {
     "data": {
      "text/plain": [
       "[-10.5, -8.0, -5.5]"
      ]
     },
     "execution_count": 135,
     "metadata": {},
     "output_type": "execute_result"
    }
   ],
   "source": [
    "list(gen2(-10.5, -5, 2.5))"
   ]
  },
  {
   "cell_type": "code",
   "execution_count": 139,
   "id": "481b597b",
   "metadata": {},
   "outputs": [
    {
     "data": {
      "text/plain": [
       "-8.0"
      ]
     },
     "execution_count": 139,
     "metadata": {},
     "output_type": "execute_result"
    }
   ],
   "source": [
    "g1 = gen2(-10.5, -5, 2.5)\n",
    "next(g1)\n",
    "next(g1)"
   ]
  },
  {
   "cell_type": "code",
   "execution_count": 140,
   "id": "9f82ff88",
   "metadata": {},
   "outputs": [
    {
     "data": {
      "text/plain": [
       "['A', 'A', 'A', 'A', 'A', 'A']"
      ]
     },
     "execution_count": 140,
     "metadata": {},
     "output_type": "execute_result"
    }
   ],
   "source": [
    "def gen3():\n",
    "    num = 0\n",
    "    while True:\n",
    "        yield 'A'\n",
    "        if num == 5:\n",
    "            break\n",
    "        num += 1\n",
    "        \n",
    "list(gen3())"
   ]
  },
  {
   "cell_type": "code",
   "execution_count": 146,
   "id": "33cdfa09",
   "metadata": {},
   "outputs": [
    {
     "name": "stdout",
     "output_type": "stream",
     "text": [
      "Enter first number 35\n",
      "Enter second number 7\n",
      "The result is 5\n",
      "Thank you for using this program\n"
     ]
    }
   ],
   "source": [
    "# WAP to divide two number and handle the exceptions that the divisor is not zero¶\n",
    "\n",
    "try:\n",
    "    num1 = int(input('Enter first number '))\n",
    "    num2 = int(input('Enter second number '))\n",
    "    \n",
    "    result = (num1/num2)\n",
    "except(ZeroDivisionError):\n",
    "    print('cannot devide by zero, enter nonzero number or num2')\n",
    "except(ValueError):\n",
    "    print('Invalid input, pl. try again with integer value')\n",
    "else:\n",
    "    print('The result is %d' %result)\n",
    "finally:\n",
    "    print('Thank you for using this program')\n"
   ]
  },
  {
   "cell_type": "code",
   "execution_count": 149,
   "id": "41cc21dc",
   "metadata": {},
   "outputs": [
    {
     "name": "stdout",
     "output_type": "stream",
     "text": [
      "Enter your age 19\n",
      "you entered :  19\n"
     ]
    }
   ],
   "source": [
    "# user defined exceptions - use raise to create exception\n",
    "x = int(input('Enter your age '))\n",
    "if x < 18:\n",
    "    raise Exception('Sorry, you are not eligible for voting, register once you are 18 years')\n",
    "else:\n",
    "    print('you entered : ', x)"
   ]
  },
  {
   "cell_type": "code",
   "execution_count": null,
   "id": "064303c3",
   "metadata": {},
   "outputs": [],
   "source": [
    "# try block can have any number of except blocks\n",
    "# except block can't exist with out try block\n",
    "# try needs atleast one except block\n",
    "# else and finally are optional\n",
    "# if there is no exception else block will be executed\n",
    "# finally block gets executed any way"
   ]
  },
  {
   "cell_type": "code",
   "execution_count": null,
   "id": "6b3c57a6",
   "metadata": {},
   "outputs": [],
   "source": [
    "# SCOPE - A variable is available inside the region it is created.  This is called the scope of that variable.\n",
    "# Local Variable - A variable created inside the function is available with in that function only and hence is called Local variable.\n",
    "# Local variable can be accessed from a function with in function.\n",
    "# Global variable - A variable created in the main body of the function is called Global variable and it is accessible from any where\n",
    "# Naming Variables - If you create a variable with in and outside the function it will treat as two separate variables.\n",
    "# One available in the global scope and one in the local scope of the function.\n",
    "# Global keyword - If you want to create global variable and struck in side the function, you can use 'global' keyword."
   ]
  },
  {
   "cell_type": "code",
   "execution_count": null,
   "id": "3a76c313",
   "metadata": {},
   "outputs": [],
   "source": []
  },
  {
   "cell_type": "code",
   "execution_count": null,
   "id": "f73d7201",
   "metadata": {},
   "outputs": [],
   "source": []
  },
  {
   "cell_type": "code",
   "execution_count": 3,
   "id": "e0fc6716",
   "metadata": {},
   "outputs": [
    {
     "name": "stdout",
     "output_type": "stream",
     "text": [
      "The zipped result is  {('Manjeet', 4, 40), ('Shambhavi', 2, 50), ('Nikhil', 1, 60), ('Astha', 3, 70)}\n",
      "The unzipped result is \n",
      " The list of names is  ('Manjeet', 'Shambhavi', 'Nikhil', 'Astha')\n",
      "The list of roll_no is  (4, 2, 1, 3)\n",
      "The list of marks is  (40, 50, 60, 70)\n"
     ]
    }
   ],
   "source": [
    "# MODULES\n",
    "# Module is a code library or file containing set of functions you want to include in your application.\n",
    "# To create a module just save the code in a file with the file extension .py\n",
    "# We can use a module by importing the same with 'import' keyword\n",
    "# we can choose to import only parts from a module, by using the keyword 'from'  \n",
    "# when using a function from a module use syntax - 'module_name.function_name'\n",
    "# a Module may contain functions and also all types of variable like arrays, dictionaries, objects etc.,\n",
    "# For re-naming the module we can create alias when we import the module using the keyword 'as'\n",
    "# \n",
    "# builtin bodules, - os, sys, math, random, datetime etc., \n",
    "# user defined - .py \n",
    "# There is builtin function 'dir()' to list out all the functions(variables) in a module.\n",
    "\n",
    "#zip, unzip demonstration thru code\n",
    "names = ['Manjeet', 'Nikhil', 'Shambhavi', 'Astha']\n",
    "roll_no = [4, 1, 2, 3, ]\n",
    "marks = [40, 60, 50, 70]\n",
    "\n",
    "mapped = zip(names, roll_no, marks)\n",
    "mapped = set(mapped) # converting values in to set.\n",
    "\n",
    "print('The zipped result is ', mapped)\n",
    "\n",
    "# unzipping\n",
    "names, roll_no, marks = zip(*mapped)\n",
    "print('The unzipped result is \\n', end = ' ')\n",
    "print('The list of names is ', names)\n",
    "print('The list of roll_no is ', roll_no)\n",
    "print('The list of marks is ', marks)"
   ]
  },
  {
   "cell_type": "code",
   "execution_count": 5,
   "id": "955d4e54",
   "metadata": {},
   "outputs": [
    {
     "name": "stdout",
     "output_type": "stream",
     "text": [
      "['cat', 'dog', 'element', 'goat', 'sheep']\n",
      "['sheep', 'goat', 'element', 'dog', 'cat']\n",
      "['dog', 'cat', 'goat', 'sheep', 'element']\n",
      "['element', 'sheep', 'goat', 'dog', 'cat']\n"
     ]
    }
   ],
   "source": [
    "# builtin sort functions\n",
    "animals = ['dog', 'cat', 'element', 'goat', 'sheep']\n",
    "print(sorted(animals)) # sort in ascending order\n",
    "\n",
    "print(sorted(animals, reverse = True)) # sort in descending order\n",
    "# ascending order based on length of characters\n",
    "print(sorted(animals, key = len))\n",
    "# descending order based on length of characters\n",
    "print(sorted(animals, key = len, reverse = True))\n",
    "\n"
   ]
  },
  {
   "cell_type": "code",
   "execution_count": 7,
   "id": "de598605",
   "metadata": {},
   "outputs": [
    {
     "name": "stdout",
     "output_type": "stream",
     "text": [
      "2023-07-03 12:45:53.995519\n",
      "2020-07-25 00:00:00\n",
      "June\n",
      "Jun\n",
      "Fri\n",
      "Friday\n",
      "01\n",
      "5\n",
      "06\n",
      "18\n",
      "2018\n"
     ]
    }
   ],
   "source": [
    "# Python Datetime - A date in python is not a datatype of its own but we can import datetime module to use data as datetime object.\n",
    "# example\n",
    "import datetime\n",
    "x = datetime.datetime.now()\n",
    "print(x)\n",
    "\n",
    "# The output contains year, month, day, time in hrs, min, seconds and micro seconds.\n",
    "\n",
    "# Create Date object - to create date, we need to use datetime() class (constructor) of the datetime module\n",
    "# datetime() constructor required 3 parameters : year, month and day.\n",
    "\n",
    "# example:\n",
    "import datetime\n",
    "x = datetime.datetime(2020, 7, 25)\n",
    "print(x)\n",
    "\n",
    "# the datetime() class also takes parameters for time(hour, minute, second, microsecond), time zone but they are optional\n",
    "\n",
    "# The strftime() method - The datetime object has a method to format date objects in to readable strings \n",
    "# i.e., using strftime() which takes one paramter i.e., format.\n",
    "\n",
    "# example: Display the name of the month\n",
    "import datetime\n",
    "x = datetime.datetime(2018, 6, 1)\n",
    "print(x.strftime('%B')) # complete month name\n",
    "print(x.strftime('%b')) # month shortname\n",
    "print(x.strftime('%a')) # Weekday shortname\n",
    "print(x.strftime('%A')) # weekday fullname\n",
    "print(x.strftime('%d')) # day in digits\n",
    "print(x.strftime('%w')) # week in digits\n",
    "print(x.strftime('%m')) # month in digits\n",
    "print(x.strftime('%y')) # year in digits in shortform\n",
    "print(x.strftime('%Y')) # year in digits in complete form\n"
   ]
  },
  {
   "cell_type": "code",
   "execution_count": null,
   "id": "55cc4ebf",
   "metadata": {},
   "outputs": [],
   "source": []
  },
  {
   "cell_type": "code",
   "execution_count": null,
   "id": "4bedb9eb",
   "metadata": {},
   "outputs": [],
   "source": []
  },
  {
   "cell_type": "code",
   "execution_count": null,
   "id": "eb8561b3",
   "metadata": {},
   "outputs": [],
   "source": [
    "# Regular Expression\n",
    "Regular expression help us to search, find, match, split information as per our requirement\n",
    "\\d - any digit from 0 to 9\n",
    "\\D - any non digit \n",
    "\\s - any white space character - \\t, \\n, \\r, \\v, \\f\n",
    "\\S - any non white space character\n",
    "\\w - any alphanumeric character - A to Z, a to z, 0 to 9\n",
    "\\W - any non alphanumeric character\n",
    "\\b - any space around words\n",
    "\\A - at the start of the string\n",
    "\\z - at the end of the string.\n",
    "\n",
    "characters represent more than one characters to be matched are called quantifiers\n",
    "* - 0 or more repetitions of the preceding regex exp.\n",
    "+ - 1 or more repetitions of the preceding regex exp.\n",
    "? - 0 or 1 repetitions of the preceding regex exp.\n",
    "{m} - exactly m occurences\n",
    "{m,n} - from m to n occurences, m defaults to 0 and n defaults to infinity.\n",
    "\n",
    "Special characters in regex\n",
    "\\ - escape character\n",
    ". - matches any characters except newline.\n",
    "^ - matches begining of the string.\n",
    "$ - matches ending of the string.\n",
    "[...] - denotes set of possible characters, eg. [6p - t] ,means matches any characters from 6, p,q,r,s,t \n",
    "[^...]- matches every character except given in brackets.\n",
    "(...) - matches regular expression inside the paranthesis and result can be captured.\n",
    "R|s   - matches regex either R or S.\n",
    "\n",
    "search - returns a match object so that we can apply to a group.\n",
    "match - returns a match object so that we can apply to a group\n",
    "findall - retuns a list object with all matched strings\n",
    "split - returns a list object\n",
    "sub - returns a string object."
   ]
  },
  {
   "cell_type": "code",
   "execution_count": 1,
   "id": "bfc0ebf3",
   "metadata": {},
   "outputs": [
    {
     "name": "stdout",
     "output_type": "stream",
     "text": [
      "['peter', 'piper', 'pepper']\n"
     ]
    }
   ],
   "source": [
    "import re\n",
    "my_str = 'peter piper picked a peck of pickled peppers.'\n",
    "reg = r'[Pp]\\w{3,}r'\n",
    "print(re.findall(reg, my_str))"
   ]
  },
  {
   "cell_type": "code",
   "execution_count": 2,
   "id": "cc3fe92e",
   "metadata": {},
   "outputs": [
    {
     "name": "stdout",
     "output_type": "stream",
     "text": [
      "['peter', 'piper']\n"
     ]
    }
   ],
   "source": [
    "import re\n",
    "my_str = 'peter piper picked a peck of pickled peppers.'\n",
    "reg = r'[Pp]\\w{3,}r\\b'\n",
    "print(re.findall(reg, my_str))"
   ]
  },
  {
   "cell_type": "code",
   "execution_count": 3,
   "id": "52661cbe",
   "metadata": {},
   "outputs": [
    {
     "name": "stdout",
     "output_type": "stream",
     "text": [
      "['peter']\n"
     ]
    }
   ],
   "source": [
    "import re\n",
    "my_str = 'peter piper picked a peck of pickled peppers.'\n",
    "reg = r'\\A[Pp]\\w{3,}r'\n",
    "print(re.findall(reg, my_str))"
   ]
  },
  {
   "cell_type": "code",
   "execution_count": 5,
   "id": "44c6af99",
   "metadata": {},
   "outputs": [
    {
     "name": "stdout",
     "output_type": "stream",
     "text": [
      "[]\n"
     ]
    }
   ],
   "source": [
    "import re\n",
    "my_str = 'peter piper picked a peck of pickled peppers.'\n",
    "reg = r'[Pp]\\w{3,}r\\Z'\n",
    "print(re.findall(reg, my_str))"
   ]
  },
  {
   "cell_type": "code",
   "execution_count": 6,
   "id": "be32778f",
   "metadata": {},
   "outputs": [
    {
     "name": "stdout",
     "output_type": "stream",
     "text": [
      "['peter', 'piper', 'pepper']\n"
     ]
    }
   ],
   "source": [
    "import re\n",
    "my_str = 'peter piper picked a peck of pickled peppers.'\n",
    "reg = r'[Pp]\\w{3,4}r'\n",
    "print(re.findall(reg, my_str))"
   ]
  },
  {
   "cell_type": "code",
   "execution_count": 2,
   "id": "0a3758d4",
   "metadata": {},
   "outputs": [
    {
     "name": "stdout",
     "output_type": "stream",
     "text": [
      "['peter', 'piper', 'picked', 'peck', 'pickled', 'peppers', 'p98', 'pgf56']\n"
     ]
    }
   ],
   "source": [
    "import re\n",
    "my_str = 'peter piper picked a peck of pickled peppers. p p98 pgf56'\n",
    "reg = r'[Pp]\\w+'\n",
    "print(re.findall(reg, my_str))"
   ]
  },
  {
   "cell_type": "code",
   "execution_count": 5,
   "id": "af8cb366",
   "metadata": {},
   "outputs": [
    {
     "name": "stdout",
     "output_type": "stream",
     "text": [
      "['peter', 'piper', 'picked', 'peck', 'pickled', 'peppers', 'p', 'p98', 'pgf56']\n"
     ]
    }
   ],
   "source": [
    "import re\n",
    "my_str = 'peter piper picked a peck of pickled peppers. p p98 pgf56'\n",
    "reg = r'[Pp]\\w*'\n",
    "print(re.findall(reg, my_str))"
   ]
  },
  {
   "cell_type": "code",
   "execution_count": 3,
   "id": "61f5fac9",
   "metadata": {},
   "outputs": [
    {
     "name": "stdout",
     "output_type": "stream",
     "text": [
      "['peter', 'giper']\n"
     ]
    }
   ],
   "source": [
    "#Write the regular expression and use proper method which Retrieves all words having 5 characters.\n",
    "#Output:- ['peter', 'giper']\n",
    "str = \"peter giper picked a peck of pickled peppers\"\n",
    "reg = r'\\b\\w{4}\\b'\n",
    "print(re.findall(reg, str))"
   ]
  },
  {
   "cell_type": "code",
   "execution_count": 9,
   "id": "868929df",
   "metadata": {},
   "outputs": [
    {
     "name": "stdout",
     "output_type": "stream",
     "text": [
      "['Retrieving', 'wor$ds', 'having', 'least', 'characters']\n"
     ]
    }
   ],
   "source": [
    "#Write the regular expression and use proper method which Retrieves all words having at least 4 characters.\n",
    "#Output:- ['Retrieving', 'wor$ds', 'having', 'least', 'characters']\n",
    "str = \"Retrieving all wor$ds having at least 4 characters\"\n",
    "reg = r'\\b\\S{4,}\\b'\n",
    "print(re.findall(reg, str))"
   ]
  },
  {
   "cell_type": "code",
   "execution_count": 10,
   "id": "94f54ebf",
   "metadata": {},
   "outputs": [
    {
     "name": "stdout",
     "output_type": "stream",
     "text": [
      "['8', '11']\n"
     ]
    }
   ],
   "source": [
    "#Write the regular expression and use proper method which Retrieves only digits from the string.\n",
    "#Output:- ['8', '11']\n",
    "str = 'The election in delhi will be held on 8 and result for the same will be declared on 11'\n",
    "reg = r'\\d+'\n",
    "print(re.findall(reg, str))"
   ]
  },
  {
   "cell_type": "code",
   "execution_count": 6,
   "id": "641a04f1",
   "metadata": {},
   "outputs": [
    {
     "name": "stdout",
     "output_type": "stream",
     "text": [
      "['8th', '11th']\n"
     ]
    }
   ],
   "source": [
    "#Write the regular expression and use proper method which Retrieves all words starting with a digit.\n",
    "#Output:- ['8th', '11th']\n",
    "str = 'The election in delhi will be held on 8th and result for the same will be declared on 11th'\n",
    "reg = r'\\d+\\w{2,}'\n",
    "print(re.findall(reg, str))"
   ]
  },
  {
   "cell_type": "code",
   "execution_count": 12,
   "id": "c30098b3",
   "metadata": {},
   "outputs": [
    {
     "name": "stdout",
     "output_type": "stream",
     "text": [
      "['anil', 'akhil', 'anant', 'ankur']\n"
     ]
    }
   ],
   "source": [
    "##Write the regular expression and use proper method which Retrieves name starting with 'an' or 'ak'.\n",
    "#Output:- ['anil', 'akhil', 'anant', 'ankur']\n",
    "str = 'anil akhil anant abhi arun arati arundhati abhijit ankur '\n",
    "reg = r'a[n|k]\\w+'\n",
    "print(re.findall(reg, str))"
   ]
  },
  {
   "cell_type": "code",
   "execution_count": 35,
   "id": "faad42a3",
   "metadata": {},
   "outputs": [
    {
     "name": "stdout",
     "output_type": "stream",
     "text": [
      "cat\n"
     ]
    }
   ],
   "source": [
    "#Write the regular expression and use proper method which gives output as:- 'cat' in str.\n",
    "import re\n",
    "str = 'cat mat bat rat'\n",
    "reg = r'c\\w+'\n",
    "res = re.match(reg, str)\n",
    "print(res.group())"
   ]
  },
  {
   "cell_type": "code",
   "execution_count": 16,
   "id": "69e457d9",
   "metadata": {},
   "outputs": [
    {
     "name": "stdout",
     "output_type": "stream",
     "text": [
      " rat\n"
     ]
    }
   ],
   "source": [
    "#Write the regular expression and use proper method which gives output as:- 'rat' in str.\n",
    "import re\n",
    "str = 'cat mat bat rat'\n",
    "reg = r' r\\w+'\n",
    "reg1 = re.search(reg, str)\n",
    "print(reg1.group())"
   ]
  },
  {
   "cell_type": "code",
   "execution_count": 39,
   "id": "ba777104",
   "metadata": {},
   "outputs": [
    {
     "name": "stdout",
     "output_type": "stream",
     "text": [
      "['mat', 'man']\n"
     ]
    }
   ],
   "source": [
    "#Write the regular expression and use proper method which gives output as:- ['mat', 'man'] in str.\n",
    "import re\n",
    "str = 'cat mat bat rat man'\n",
    "reg = r'm\\w+'\n",
    "print(re.findall(reg, str))"
   ]
  },
  {
   "cell_type": "code",
   "execution_count": 40,
   "id": "7c0b711e",
   "metadata": {},
   "outputs": [
    {
     "name": "stdout",
     "output_type": "stream",
     "text": [
      "['Python', 's', 'Programming', 'is', 'very', 'easy', 'to', 'learn']\n"
     ]
    }
   ],
   "source": [
    "#Write the regular expression and use proper method which gives output as:- \n",
    "#['Python', 's', 'Programming', 'is', 'very', 'easy', 'to', 'learn'] in str.\n",
    "import re\n",
    "str = \"Python's Programming: is very easy to learn\"\n",
    "reg = r'\\b\\w+\\b'\n",
    "print(re.findall(reg, str))"
   ]
  },
  {
   "cell_type": "code",
   "execution_count": 41,
   "id": "8f50bcd2",
   "metadata": {},
   "outputs": [
    {
     "name": "stdout",
     "output_type": "stream",
     "text": [
      "Python Programming: is very easy to learn\n"
     ]
    }
   ],
   "source": [
    "#Write the regular expression and use proper method which gives output as:- Python Programming: is very easy to learn in str.\n",
    "import re\n",
    "str = \"Python's Programming: is very easy to learn\"\n",
    "reg = r\"'s\"\n",
    "print(re.sub(reg, '', str))"
   ]
  },
  {
   "cell_type": "code",
   "execution_count": 43,
   "id": "d003a637",
   "metadata": {},
   "outputs": [
    {
     "name": "stdout",
     "output_type": "stream",
     "text": [
      "['peter', 'picked', 'peck', 'pickled', 'peppers']\n"
     ]
    }
   ],
   "source": [
    "#Write the regular expression and use proper method which Retrieves all words starting with p except 'per' which is not a separate word.\n",
    "#Output:- ['peter', 'picked', 'peck', 'pickled', 'peppers']\n",
    "import re\n",
    "str = \"peter giper picked a peck of pickled peppers\"\n",
    "reg = r\"[p|P]\\w{3,}\"\n",
    "print(re.findall(reg, str))"
   ]
  },
  {
   "cell_type": "code",
   "execution_count": null,
   "id": "de9feba7",
   "metadata": {},
   "outputs": [],
   "source": []
  },
  {
   "cell_type": "code",
   "execution_count": null,
   "id": "4d5de4e8",
   "metadata": {},
   "outputs": [],
   "source": []
  },
  {
   "cell_type": "code",
   "execution_count": null,
   "id": "e6fa4a00",
   "metadata": {},
   "outputs": [],
   "source": []
  },
  {
   "cell_type": "code",
   "execution_count": null,
   "id": "e6177f45",
   "metadata": {},
   "outputs": [],
   "source": []
  },
  {
   "cell_type": "code",
   "execution_count": null,
   "id": "4a6d65aa",
   "metadata": {},
   "outputs": [],
   "source": []
  },
  {
   "cell_type": "code",
   "execution_count": null,
   "id": "3bc3381a",
   "metadata": {},
   "outputs": [],
   "source": []
  },
  {
   "cell_type": "code",
   "execution_count": null,
   "id": "979969db",
   "metadata": {},
   "outputs": [],
   "source": []
  }
 ],
 "metadata": {
  "kernelspec": {
   "display_name": "Python 3 (ipykernel)",
   "language": "python",
   "name": "python3"
  },
  "language_info": {
   "codemirror_mode": {
    "name": "ipython",
    "version": 3
   },
   "file_extension": ".py",
   "mimetype": "text/x-python",
   "name": "python",
   "nbconvert_exporter": "python",
   "pygments_lexer": "ipython3",
   "version": "3.11.4"
  }
 },
 "nbformat": 4,
 "nbformat_minor": 5
}
